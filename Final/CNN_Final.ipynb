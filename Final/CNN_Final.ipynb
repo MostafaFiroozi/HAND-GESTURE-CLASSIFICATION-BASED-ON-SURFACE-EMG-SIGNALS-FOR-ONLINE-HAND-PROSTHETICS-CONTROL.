{
  "nbformat": 4,
  "nbformat_minor": 0,
  "metadata": {
    "colab": {
      "name": "CNN_Final.ipynb",
      "provenance": [],
      "collapsed_sections": [],
      "toc_visible": true
    },
    "kernelspec": {
      "name": "python3",
      "display_name": "Python 3"
    },
    "accelerator": "GPU"
  },
  "cells": [
    {
      "cell_type": "markdown",
      "metadata": {
        "id": "WPiAbSJN0Lle"
      },
      "source": [
        "# Hand gesture classification based on CNN\n",
        "\n"
      ]
    },
    {
      "cell_type": "code",
      "metadata": {
        "id": "Jhiz9Wk64AGI",
        "colab": {
          "base_uri": "https://localhost:8080/"
        },
        "outputId": "53fb5602-ab6a-4961-892a-d7871b1d3746"
      },
      "source": [
        "from google.colab import drive\n",
        "drive.mount('/content/drive')"
      ],
      "execution_count": 41,
      "outputs": [
        {
          "output_type": "stream",
          "text": [
            "Drive already mounted at /content/drive; to attempt to forcibly remount, call drive.mount(\"/content/drive\", force_remount=True).\n"
          ],
          "name": "stdout"
        }
      ]
    },
    {
      "cell_type": "code",
      "metadata": {
        "id": "tfyj0IDZZBXM"
      },
      "source": [
        "\n",
        "import pandas as pd # version 0.24.2\n",
        "import numpy as np #version 1.16.4\n",
        "import random\n",
        "import matplotlib.pyplot as plt #matplotlib version 3.1.0\n",
        "from sklearn.preprocessing import StandardScaler\n",
        "from sklearn.svm import SVC\n",
        "from sklearn import metrics\n",
        "from sklearn.metrics import confusion_matrix\n",
        "from sklearn.metrics import classification_report\n",
        "import seaborn as sns #version 0.9.0\n",
        "from sklearn.model_selection import GridSearchCV\n",
        "import math"
      ],
      "execution_count": 42,
      "outputs": []
    },
    {
      "cell_type": "code",
      "metadata": {
        "id": "9dXSyPQlx-9c",
        "colab": {
          "base_uri": "https://localhost:8080/"
        },
        "outputId": "e9f5619f-5ad4-45dd-92d3-30f41a902933"
      },
      "source": [
        "Window_time= 100\n",
        "Perc =25\n",
        "window_length = math.floor(Window_time*2048/1000)\n",
        "stride_length = math.floor(window_length*Perc/100)\n",
        "print(window_length,stride_length)\n"
      ],
      "execution_count": 43,
      "outputs": [
        {
          "output_type": "stream",
          "text": [
            "204 51\n"
          ],
          "name": "stdout"
        }
      ]
    },
    {
      "cell_type": "markdown",
      "metadata": {
        "id": "HAwMLuaHx13N"
      },
      "source": [
        "## Import the Datasets"
      ]
    },
    {
      "cell_type": "code",
      "metadata": {
        "id": "har98Auw1pj0",
        "colab": {
          "base_uri": "https://localhost:8080/"
        },
        "outputId": "d7f15970-5874-4bac-c4c3-27ae4b83216a"
      },
      "source": [
        "N_Subj = 1\n",
        "N_Days = 1\n",
        "N_rounds= 3\n",
        "df= [[[0] * N_rounds]*N_Days]*N_Subj # dataframe for all rounds for all subjects for all days\n",
        "print(df)\n",
        "#making a header for dataframe\n",
        "cl_names= []\n",
        "for i in range(1,11):\n",
        "    cl_names.append('CH'+str(i))\n",
        "cl_names.append('class') #column dedicated to show which class of movement this sample belongs to\n",
        "cl_names.append('move') #column dedicated to show which number of movement (out of 40 in each round) this sample belongs to\n",
        "cl_names.append('window')\n",
        "for i in range(0,N_Subj):\n",
        "  for j in range(0,N_Days):   \n",
        "   for k in range(0,N_rounds):\n",
        "       df[i][j][k] = pd.read_csv('/content/drive/MyDrive/Colab Notebooks/NEURO_PROJECT/FINAL DATA _ SUB1_DAY1/data/sbj'+str(i+1)+'_day'+str(j+1)+'_round'+str(k+1)+'_'+str(Window_time)+'_'+str(Perc)+'.csv')\n",
        "       df[i][j][k].columns=cl_names\n",
        "       print(\"Day\"+str(j+1)+\"_Subject\"+str(i+1)+\"_Round\"+str(k+1))\n",
        "       print(\"Round1\",np.shape(df[i][j][k]))"
      ],
      "execution_count": 44,
      "outputs": [
        {
          "output_type": "stream",
          "text": [
            "[[[0, 0, 0]]]\n",
            "Day1_Subject1_Round1\n",
            "Round1 (1434120, 13)\n",
            "Day1_Subject1_Round2\n",
            "Round1 (1478796, 13)\n",
            "Day1_Subject1_Round3\n",
            "Round1 (1446360, 13)\n"
          ],
          "name": "stdout"
        }
      ]
    },
    {
      "cell_type": "code",
      "metadata": {
        "id": "PnltDxHR3OhX",
        "colab": {
          "base_uri": "https://localhost:8080/",
          "height": 355
        },
        "outputId": "8e5970b3-81bd-4a64-e214-1ace42197ed7"
      },
      "source": [
        "#Day1_Subject1_Round1 shape\n",
        "df[0][0][0].head(10)"
      ],
      "execution_count": 45,
      "outputs": [
        {
          "output_type": "execute_result",
          "data": {
            "text/html": [
              "<div>\n",
              "<style scoped>\n",
              "    .dataframe tbody tr th:only-of-type {\n",
              "        vertical-align: middle;\n",
              "    }\n",
              "\n",
              "    .dataframe tbody tr th {\n",
              "        vertical-align: top;\n",
              "    }\n",
              "\n",
              "    .dataframe thead th {\n",
              "        text-align: right;\n",
              "    }\n",
              "</style>\n",
              "<table border=\"1\" class=\"dataframe\">\n",
              "  <thead>\n",
              "    <tr style=\"text-align: right;\">\n",
              "      <th></th>\n",
              "      <th>CH1</th>\n",
              "      <th>CH2</th>\n",
              "      <th>CH3</th>\n",
              "      <th>CH4</th>\n",
              "      <th>CH5</th>\n",
              "      <th>CH6</th>\n",
              "      <th>CH7</th>\n",
              "      <th>CH8</th>\n",
              "      <th>CH9</th>\n",
              "      <th>CH10</th>\n",
              "      <th>class</th>\n",
              "      <th>move</th>\n",
              "      <th>window</th>\n",
              "    </tr>\n",
              "  </thead>\n",
              "  <tbody>\n",
              "    <tr>\n",
              "      <th>0</th>\n",
              "      <td>-0.037422</td>\n",
              "      <td>-0.066970</td>\n",
              "      <td>-0.004722</td>\n",
              "      <td>-0.002298</td>\n",
              "      <td>0.009147</td>\n",
              "      <td>0.000264</td>\n",
              "      <td>0.030113</td>\n",
              "      <td>0.001229</td>\n",
              "      <td>-0.000046</td>\n",
              "      <td>0.024452</td>\n",
              "      <td>1</td>\n",
              "      <td>1</td>\n",
              "      <td>1</td>\n",
              "    </tr>\n",
              "    <tr>\n",
              "      <th>1</th>\n",
              "      <td>-0.027106</td>\n",
              "      <td>-0.069792</td>\n",
              "      <td>-0.003393</td>\n",
              "      <td>-0.001506</td>\n",
              "      <td>0.015246</td>\n",
              "      <td>0.010729</td>\n",
              "      <td>0.033083</td>\n",
              "      <td>0.002324</td>\n",
              "      <td>-0.017275</td>\n",
              "      <td>0.012365</td>\n",
              "      <td>1</td>\n",
              "      <td>1</td>\n",
              "      <td>1</td>\n",
              "    </tr>\n",
              "    <tr>\n",
              "      <th>2</th>\n",
              "      <td>-0.018335</td>\n",
              "      <td>-0.070210</td>\n",
              "      <td>-0.001637</td>\n",
              "      <td>-0.002423</td>\n",
              "      <td>0.015040</td>\n",
              "      <td>0.023082</td>\n",
              "      <td>0.037320</td>\n",
              "      <td>0.002860</td>\n",
              "      <td>-0.020864</td>\n",
              "      <td>0.027658</td>\n",
              "      <td>1</td>\n",
              "      <td>1</td>\n",
              "      <td>1</td>\n",
              "    </tr>\n",
              "    <tr>\n",
              "      <th>3</th>\n",
              "      <td>-0.012485</td>\n",
              "      <td>-0.066842</td>\n",
              "      <td>0.000101</td>\n",
              "      <td>-0.004762</td>\n",
              "      <td>0.013541</td>\n",
              "      <td>0.041201</td>\n",
              "      <td>0.037835</td>\n",
              "      <td>0.003687</td>\n",
              "      <td>-0.014293</td>\n",
              "      <td>0.056742</td>\n",
              "      <td>1</td>\n",
              "      <td>1</td>\n",
              "      <td>1</td>\n",
              "    </tr>\n",
              "    <tr>\n",
              "      <th>4</th>\n",
              "      <td>-0.004825</td>\n",
              "      <td>-0.060419</td>\n",
              "      <td>0.001824</td>\n",
              "      <td>-0.007347</td>\n",
              "      <td>0.013795</td>\n",
              "      <td>0.064046</td>\n",
              "      <td>0.031025</td>\n",
              "      <td>0.005208</td>\n",
              "      <td>-0.004321</td>\n",
              "      <td>0.062703</td>\n",
              "      <td>1</td>\n",
              "      <td>1</td>\n",
              "      <td>1</td>\n",
              "    </tr>\n",
              "    <tr>\n",
              "      <th>5</th>\n",
              "      <td>0.005364</td>\n",
              "      <td>-0.052430</td>\n",
              "      <td>0.003509</td>\n",
              "      <td>-0.008223</td>\n",
              "      <td>0.016031</td>\n",
              "      <td>0.087142</td>\n",
              "      <td>0.019538</td>\n",
              "      <td>0.006902</td>\n",
              "      <td>0.002390</td>\n",
              "      <td>0.029969</td>\n",
              "      <td>1</td>\n",
              "      <td>1</td>\n",
              "      <td>1</td>\n",
              "    </tr>\n",
              "    <tr>\n",
              "      <th>6</th>\n",
              "      <td>0.013969</td>\n",
              "      <td>-0.041837</td>\n",
              "      <td>0.003704</td>\n",
              "      <td>-0.006084</td>\n",
              "      <td>0.019951</td>\n",
              "      <td>0.097848</td>\n",
              "      <td>0.008052</td>\n",
              "      <td>0.007150</td>\n",
              "      <td>0.001886</td>\n",
              "      <td>-0.007631</td>\n",
              "      <td>1</td>\n",
              "      <td>1</td>\n",
              "      <td>1</td>\n",
              "    </tr>\n",
              "    <tr>\n",
              "      <th>7</th>\n",
              "      <td>0.018151</td>\n",
              "      <td>-0.027799</td>\n",
              "      <td>0.002206</td>\n",
              "      <td>-0.001399</td>\n",
              "      <td>0.023652</td>\n",
              "      <td>0.086413</td>\n",
              "      <td>-0.001507</td>\n",
              "      <td>0.006514</td>\n",
              "      <td>-0.002337</td>\n",
              "      <td>-0.010484</td>\n",
              "      <td>1</td>\n",
              "      <td>1</td>\n",
              "      <td>1</td>\n",
              "    </tr>\n",
              "    <tr>\n",
              "      <th>8</th>\n",
              "      <td>0.018671</td>\n",
              "      <td>-0.013399</td>\n",
              "      <td>0.001423</td>\n",
              "      <td>0.003602</td>\n",
              "      <td>0.024873</td>\n",
              "      <td>0.056382</td>\n",
              "      <td>-0.009276</td>\n",
              "      <td>0.007735</td>\n",
              "      <td>-0.002523</td>\n",
              "      <td>0.016994</td>\n",
              "      <td>1</td>\n",
              "      <td>1</td>\n",
              "      <td>1</td>\n",
              "    </tr>\n",
              "    <tr>\n",
              "      <th>9</th>\n",
              "      <td>0.016108</td>\n",
              "      <td>-0.001753</td>\n",
              "      <td>0.002477</td>\n",
              "      <td>0.005507</td>\n",
              "      <td>0.021791</td>\n",
              "      <td>0.019488</td>\n",
              "      <td>-0.013920</td>\n",
              "      <td>0.009651</td>\n",
              "      <td>0.004802</td>\n",
              "      <td>0.048708</td>\n",
              "      <td>1</td>\n",
              "      <td>1</td>\n",
              "      <td>1</td>\n",
              "    </tr>\n",
              "  </tbody>\n",
              "</table>\n",
              "</div>"
            ],
            "text/plain": [
              "        CH1       CH2       CH3       CH4  ...      CH10  class  move  window\n",
              "0 -0.037422 -0.066970 -0.004722 -0.002298  ...  0.024452      1     1       1\n",
              "1 -0.027106 -0.069792 -0.003393 -0.001506  ...  0.012365      1     1       1\n",
              "2 -0.018335 -0.070210 -0.001637 -0.002423  ...  0.027658      1     1       1\n",
              "3 -0.012485 -0.066842  0.000101 -0.004762  ...  0.056742      1     1       1\n",
              "4 -0.004825 -0.060419  0.001824 -0.007347  ...  0.062703      1     1       1\n",
              "5  0.005364 -0.052430  0.003509 -0.008223  ...  0.029969      1     1       1\n",
              "6  0.013969 -0.041837  0.003704 -0.006084  ... -0.007631      1     1       1\n",
              "7  0.018151 -0.027799  0.002206 -0.001399  ... -0.010484      1     1       1\n",
              "8  0.018671 -0.013399  0.001423  0.003602  ...  0.016994      1     1       1\n",
              "9  0.016108 -0.001753  0.002477  0.005507  ...  0.048708      1     1       1\n",
              "\n",
              "[10 rows x 13 columns]"
            ]
          },
          "metadata": {
            "tags": []
          },
          "execution_count": 45
        }
      ]
    },
    {
      "cell_type": "markdown",
      "metadata": {
        "id": "CD5gSNOaejZY"
      },
      "source": [
        "## Data exploration"
      ]
    },
    {
      "cell_type": "code",
      "metadata": {
        "id": "hytj9FS63ZcV",
        "colab": {
          "base_uri": "https://localhost:8080/"
        },
        "outputId": "23792513-12dc-4272-fca3-50a69c5b9189"
      },
      "source": [
        "#Print class freq for each round of subject 1\n",
        "# classes are from 1 to 8: 1 Flex, 2 Ext, 3 Sup, 4 Pron, 5 Open, 6 Pinch, 7 Lateral pinch, 8 Fist\n",
        "def Class_freq(df):\n",
        "  target_dist=df.groupby('class').size()/window_length  #number of windows for each type\n",
        "  print(target_dist)\n",
        "  print(type(target_dist))\n",
        "print(\"rounds class distribution\")\n",
        "for i in range(0,N_Subj):\n",
        "  for j in range(0,N_Days):\n",
        "    for k in range(0,N_rounds):\n",
        "     print(\"Class frequency for subject \"+str(i+1)+\"day \"+str(j+1)+ \"round \"+str(k+1))\n",
        "     Class_freq(df[i][j][k])"
      ],
      "execution_count": 46,
      "outputs": [
        {
          "output_type": "stream",
          "text": [
            "rounds class distribution\n",
            "Class frequency for subject 1day 1round 1\n",
            "class\n",
            "1    880.0\n",
            "2    883.0\n",
            "3    876.0\n",
            "4    879.0\n",
            "5    903.0\n",
            "6    878.0\n",
            "7    862.0\n",
            "8    869.0\n",
            "dtype: float64\n",
            "<class 'pandas.core.series.Series'>\n",
            "Class frequency for subject 1day 1round 2\n",
            "class\n",
            "1    913.0\n",
            "2    907.0\n",
            "3    883.0\n",
            "4    906.0\n",
            "5    921.0\n",
            "6    900.0\n",
            "7    896.0\n",
            "8    923.0\n",
            "dtype: float64\n",
            "<class 'pandas.core.series.Series'>\n",
            "Class frequency for subject 1day 1round 3\n",
            "class\n",
            "1    907.0\n",
            "2    908.0\n",
            "3    898.0\n",
            "4    737.0\n",
            "5    917.0\n",
            "6    902.0\n",
            "7    903.0\n",
            "8    918.0\n",
            "dtype: float64\n",
            "<class 'pandas.core.series.Series'>\n"
          ],
          "name": "stdout"
        }
      ]
    },
    {
      "cell_type": "markdown",
      "metadata": {
        "id": "aXJZYPJJzkUj"
      },
      "source": [
        "## **Train and Test separation**"
      ]
    },
    {
      "cell_type": "code",
      "metadata": {
        "id": "zHKSrU8Tx-ej"
      },
      "source": [
        "1#Train Test Seperation\n",
        "df_train= [[[0] * N_rounds]*N_Days]*N_Subj # Train dataframe for all rounds for all subjects for all days (actually we use only 1 day and 1 subj at the time)\n",
        "df_test = [[[0] * N_rounds]*N_Days]*N_Subj # Test dataframe for all rounds for all subjects for all days (actually we use only 1 day and 1 subj at the time )\n",
        "def Train_Test_Sep(df):\n",
        "  Trainset_class=[]\n",
        "  Testset_class=[]\n",
        "  for i in range(1,9):\n",
        "    class_group = df.loc[df['class'] == i]\n",
        "    Move_group=class_group.move.unique()\n",
        "    Train1=df.loc[df['move'] ==Move_group[0]]\n",
        "    Train2=df.loc[df['move'] ==Move_group[1]]\n",
        "    Train3=df.loc[df['move'] ==Move_group[2]]\n",
        "    Test1=df.loc[df['move'] ==Move_group[3]]\n",
        "    if len(Move_group)==5:\n",
        "      Test2=df.loc[df['move'] ==Move_group[4]]\n",
        "      Testset_class.append(pd.concat((Test1,Test2)))\n",
        "    else:\n",
        "      Testset_class.append(Test1)\n",
        "    Trainset_class.append(pd.concat((Train1,Train2,Train3)))\n",
        "  Trainset=Trainset_class[0]\n",
        "  Testset=Testset_class[0]\n",
        "\n",
        "  for i in range(1,8):\n",
        "    Trainset=np.vstack((Trainset,Trainset_class[i]))\n",
        "    Testset=np.vstack((Testset,Testset_class[i]))\n",
        "  df_Train = pd.DataFrame(data=Trainset, columns=cl_names)\n",
        "  df_Test =  pd.DataFrame(data=Testset, columns=cl_names)\n",
        " \n",
        "  return df_Train,df_Test\n",
        "\n",
        "for i in range(0,N_Subj):\n",
        "  for j in range(0,N_Days):\n",
        "    for k in range(0,N_rounds):\n",
        "      df_train[i][j][k],df_test[i][j][k] = Train_Test_Sep(df[i][j][k])\n"
      ],
      "execution_count": 47,
      "outputs": []
    },
    {
      "cell_type": "code",
      "metadata": {
        "id": "RZb2tQlU9u7L",
        "colab": {
          "base_uri": "https://localhost:8080/"
        },
        "outputId": "467305b0-c3de-48f8-8628-91f3d383ed39"
      },
      "source": [
        "for i in range(0,N_Subj):\n",
        "  for j in range(0,N_Days):\n",
        "    for k in range(0,N_rounds):\n",
        "      print(\"Train Class frequency for subject \"+str(i+1)+\"day \"+str(j+1)+ \"round \"+str(k+1))\n",
        "      Class_freq(df_train[i][j][k])"
      ],
      "execution_count": 48,
      "outputs": [
        {
          "output_type": "stream",
          "text": [
            "Train Class frequency for subject 1day 1round 1\n",
            "class\n",
            "1.0    526.0\n",
            "2.0    537.0\n",
            "3.0    531.0\n",
            "4.0    535.0\n",
            "5.0    557.0\n",
            "6.0    539.0\n",
            "7.0    518.0\n",
            "8.0    521.0\n",
            "dtype: float64\n",
            "<class 'pandas.core.series.Series'>\n",
            "Train Class frequency for subject 1day 1round 2\n",
            "class\n",
            "1.0    552.0\n",
            "2.0    545.0\n",
            "3.0    531.0\n",
            "4.0    549.0\n",
            "5.0    558.0\n",
            "6.0    545.0\n",
            "7.0    540.0\n",
            "8.0    555.0\n",
            "dtype: float64\n",
            "<class 'pandas.core.series.Series'>\n",
            "Train Class frequency for subject 1day 1round 3\n",
            "class\n",
            "1.0    545.0\n",
            "2.0    549.0\n",
            "3.0    547.0\n",
            "4.0    548.0\n",
            "5.0    560.0\n",
            "6.0    533.0\n",
            "7.0    542.0\n",
            "8.0    560.0\n",
            "dtype: float64\n",
            "<class 'pandas.core.series.Series'>\n"
          ],
          "name": "stdout"
        }
      ]
    },
    {
      "cell_type": "code",
      "metadata": {
        "id": "HyAkkyhj_cub",
        "colab": {
          "base_uri": "https://localhost:8080/"
        },
        "outputId": "01c9c4fd-ba24-4f60-e2f6-d4ae8cea4f88"
      },
      "source": [
        "for i in range(0,N_Subj):\n",
        "  for j in range(0,N_Days):\n",
        "    for k in range(0,N_rounds):\n",
        "      print(\"Test Class frequency for subject \"+str(i+1)+\"day \"+str(j+1)+ \"round \"+str(k+1))\n",
        "      Class_freq(df_test[i][j][k])"
      ],
      "execution_count": 49,
      "outputs": [
        {
          "output_type": "stream",
          "text": [
            "Test Class frequency for subject 1day 1round 1\n",
            "class\n",
            "1.0    354.0\n",
            "2.0    346.0\n",
            "3.0    345.0\n",
            "4.0    344.0\n",
            "5.0    346.0\n",
            "6.0    339.0\n",
            "7.0    344.0\n",
            "8.0    348.0\n",
            "dtype: float64\n",
            "<class 'pandas.core.series.Series'>\n",
            "Test Class frequency for subject 1day 1round 2\n",
            "class\n",
            "1.0    361.0\n",
            "2.0    362.0\n",
            "3.0    352.0\n",
            "4.0    357.0\n",
            "5.0    363.0\n",
            "6.0    355.0\n",
            "7.0    356.0\n",
            "8.0    368.0\n",
            "dtype: float64\n",
            "<class 'pandas.core.series.Series'>\n",
            "Test Class frequency for subject 1day 1round 3\n",
            "class\n",
            "1.0    362.0\n",
            "2.0    359.0\n",
            "3.0    351.0\n",
            "4.0    189.0\n",
            "5.0    357.0\n",
            "6.0    369.0\n",
            "7.0    361.0\n",
            "8.0    358.0\n",
            "dtype: float64\n",
            "<class 'pandas.core.series.Series'>\n"
          ],
          "name": "stdout"
        }
      ]
    },
    {
      "cell_type": "markdown",
      "metadata": {
        "id": "_mKMaaHm3X5P"
      },
      "source": [
        "## Create a 3D rappresentation"
      ]
    },
    {
      "cell_type": "code",
      "metadata": {
        "id": "t0A17BWWZoKR"
      },
      "source": [
        "def _3D_representation(df):\n",
        "  T=df.shape[0]\n",
        "  p=int(T/window_length)\n",
        "  print(p)\n",
        "  df_3d = np.zeros((window_length, 13,p))\n",
        "  df_3d[:,:,0]=df[0:window_length]  \n",
        "  s=0\n",
        "  i=0\n",
        "  while s<T:    \n",
        "    df_3d[:,:,i]=df[s:s+window_length]\n",
        "    s=s+window_length\n",
        "    i+=1\n",
        "  return df_3d"
      ],
      "execution_count": 50,
      "outputs": []
    },
    {
      "cell_type": "code",
      "metadata": {
        "id": "gY6-bOJ-SOAV",
        "colab": {
          "base_uri": "https://localhost:8080/"
        },
        "outputId": "91c56ec9-b2cd-4974-c0d8-9785073106dc"
      },
      "source": [
        "df_Train_3d=[[[0] * N_rounds]*N_Days]*N_Subj\n",
        "for i in range(0,N_Subj):\n",
        "  for j in range(0,N_Days):\n",
        "    for k in range(0,N_rounds):\n",
        "      df_Train_3d[i][j][k]= _3D_representation(df_train[i][j][k])\n",
        "print(df_Train_3d[0][0][0])"
      ],
      "execution_count": 51,
      "outputs": [
        {
          "output_type": "stream",
          "text": [
            "4264\n",
            "4375\n",
            "4384\n",
            "[[[-3.7422e-02  2.6647e-02 -7.5255e-03 ...  4.8626e-02 -2.4397e-01\n",
            "   -2.4453e-01]\n",
            "  [-6.6970e-02  1.8986e-02 -6.8304e-02 ...  6.5525e-02 -7.0985e-02\n",
            "   -1.2104e-02]\n",
            "  [-4.7220e-03  4.4102e-03 -1.1789e-02 ...  2.3338e-02 -2.6937e-02\n",
            "    1.5493e-02]\n",
            "  ...\n",
            "  [ 1.0000e+00  1.0000e+00  1.0000e+00 ...  8.0000e+00  8.0000e+00\n",
            "    8.0000e+00]\n",
            "  [ 1.0000e+00  1.0000e+00  1.0000e+00 ...  2.2000e+01  2.2000e+01\n",
            "    2.2000e+01]\n",
            "  [ 1.0000e+00  2.0000e+00  3.0000e+00 ...  3.8840e+03  3.8850e+03\n",
            "    3.8860e+03]]\n",
            "\n",
            " [[-2.7106e-02  1.3596e-02  7.7599e-03 ...  4.4818e-02 -1.7503e-01\n",
            "   -2.9992e-01]\n",
            "  [-6.9792e-02  1.6916e-02 -6.4162e-02 ...  3.8007e-02 -7.1270e-02\n",
            "   -3.1763e-02]\n",
            "  [-3.3929e-03  6.4770e-03 -3.1845e-03 ...  1.7588e-02 -3.2901e-02\n",
            "   -5.9464e-03]\n",
            "  ...\n",
            "  [ 1.0000e+00  1.0000e+00  1.0000e+00 ...  8.0000e+00  8.0000e+00\n",
            "    8.0000e+00]\n",
            "  [ 1.0000e+00  1.0000e+00  1.0000e+00 ...  2.2000e+01  2.2000e+01\n",
            "    2.2000e+01]\n",
            "  [ 1.0000e+00  2.0000e+00  3.0000e+00 ...  3.8840e+03  3.8850e+03\n",
            "    3.8860e+03]]\n",
            "\n",
            " [[-1.8335e-02  3.4923e-03  1.3377e-02 ...  2.3578e-02 -1.3526e-01\n",
            "   -3.0896e-01]\n",
            "  [-7.0210e-02  1.6915e-02 -4.6118e-02 ... -7.5809e-03 -6.0841e-02\n",
            "   -4.7635e-02]\n",
            "  [-1.6373e-03  7.1607e-03  2.5533e-04 ...  9.1601e-04 -2.7482e-02\n",
            "   -2.1564e-02]\n",
            "  ...\n",
            "  [ 1.0000e+00  1.0000e+00  1.0000e+00 ...  8.0000e+00  8.0000e+00\n",
            "    8.0000e+00]\n",
            "  [ 1.0000e+00  1.0000e+00  1.0000e+00 ...  2.2000e+01  2.2000e+01\n",
            "    2.2000e+01]\n",
            "  [ 1.0000e+00  2.0000e+00  3.0000e+00 ...  3.8840e+03  3.8850e+03\n",
            "    3.8860e+03]]\n",
            "\n",
            " ...\n",
            "\n",
            " [[-9.8510e-02  8.3169e-02 -2.4320e-01 ...  2.3343e-03 -3.6725e-04\n",
            "    2.9322e-01]\n",
            "  [ 1.3964e-01  3.5275e-01 -1.7905e-01 ... -5.3472e-02  3.6861e-03\n",
            "    3.5972e-02]\n",
            "  [ 2.4252e-02  3.3074e-02 -3.2369e-02 ... -7.2458e-03  1.5901e-02\n",
            "   -2.1109e-03]\n",
            "  ...\n",
            "  [ 1.0000e+00  1.0000e+00  1.0000e+00 ...  8.0000e+00  8.0000e+00\n",
            "    8.0000e+00]\n",
            "  [ 1.0000e+00  1.0000e+00  1.0000e+00 ...  2.2000e+01  2.2000e+01\n",
            "    2.2000e+01]\n",
            "  [ 1.0000e+00  2.0000e+00  3.0000e+00 ...  3.8840e+03  3.8850e+03\n",
            "    3.8860e+03]]\n",
            "\n",
            " [[-6.1367e-02  7.1544e-02 -2.2219e-01 ... -4.6521e-02  4.1969e-02\n",
            "    2.8090e-01]\n",
            "  [ 1.6719e-01  3.1785e-01 -2.2929e-01 ... -4.2590e-02  1.1656e-02\n",
            "    4.5735e-02]\n",
            "  [ 1.6643e-02  2.7675e-02 -3.1728e-02 ... -2.4950e-03  2.5944e-03\n",
            "   -1.5299e-03]\n",
            "  ...\n",
            "  [ 1.0000e+00  1.0000e+00  1.0000e+00 ...  8.0000e+00  8.0000e+00\n",
            "    8.0000e+00]\n",
            "  [ 1.0000e+00  1.0000e+00  1.0000e+00 ...  2.2000e+01  2.2000e+01\n",
            "    2.2000e+01]\n",
            "  [ 1.0000e+00  2.0000e+00  3.0000e+00 ...  3.8840e+03  3.8850e+03\n",
            "    3.8860e+03]]\n",
            "\n",
            " [[-2.0985e-02  1.1665e-02 -2.0350e-01 ... -4.6715e-02  8.7733e-02\n",
            "    2.3044e-01]\n",
            "  [ 1.8131e-01  2.6143e-01 -2.5902e-01 ... -1.8901e-02  1.8064e-02\n",
            "    4.5627e-02]\n",
            "  [ 1.8313e-04  1.3111e-02 -2.9730e-02 ...  2.6169e-03 -4.3781e-03\n",
            "    3.5855e-03]\n",
            "  ...\n",
            "  [ 1.0000e+00  1.0000e+00  1.0000e+00 ...  8.0000e+00  8.0000e+00\n",
            "    8.0000e+00]\n",
            "  [ 1.0000e+00  1.0000e+00  1.0000e+00 ...  2.2000e+01  2.2000e+01\n",
            "    2.2000e+01]\n",
            "  [ 1.0000e+00  2.0000e+00  3.0000e+00 ...  3.8840e+03  3.8850e+03\n",
            "    3.8860e+03]]]\n"
          ],
          "name": "stdout"
        }
      ]
    },
    {
      "cell_type": "code",
      "metadata": {
        "id": "jYwwIJZGV--o",
        "colab": {
          "base_uri": "https://localhost:8080/"
        },
        "outputId": "32890b9e-4f0c-4ced-c39d-1a62daedd180"
      },
      "source": [
        "Train_final_3d= df_Train_3d[0][0][0]\n",
        "for i in range(0,N_Subj):\n",
        "  for j in range(0,N_Days):\n",
        "    for k in range(0,N_rounds):\n",
        "      if i+j+k :\n",
        "       Train_final_3d=np.concatenate([Train_final_3d, df_Train_3d[i][j][k]], -1)\n",
        "Train_final_3d.shape     "
      ],
      "execution_count": 52,
      "outputs": [
        {
          "output_type": "execute_result",
          "data": {
            "text/plain": [
              "(204, 13, 13023)"
            ]
          },
          "metadata": {
            "tags": []
          },
          "execution_count": 52
        }
      ]
    },
    {
      "cell_type": "code",
      "metadata": {
        "id": "pTA3ihI0Ujtm",
        "colab": {
          "base_uri": "https://localhost:8080/"
        },
        "outputId": "114d7a47-5eef-4f9c-9bce-721a469d17c2"
      },
      "source": [
        "df_Test_3d=[[[0] * N_rounds]*N_Days]*N_Subj\n",
        "for i in range(0,N_Subj):\n",
        "  for j in range(0,N_Days):\n",
        "    for k in range(0,N_rounds):\n",
        "       df_Test_3d[i][j][k]= _3D_representation(df_test[i][j][k])\n",
        "print(df_Test_3d[0][0][0].shape)"
      ],
      "execution_count": 53,
      "outputs": [
        {
          "output_type": "stream",
          "text": [
            "2766\n",
            "2874\n",
            "2706\n",
            "(204, 13, 2766)\n"
          ],
          "name": "stdout"
        }
      ]
    },
    {
      "cell_type": "code",
      "metadata": {
        "id": "LfuK1k19VsKE",
        "colab": {
          "base_uri": "https://localhost:8080/"
        },
        "outputId": "f2c43c0c-665d-47c8-a9b7-1e6583961756"
      },
      "source": [
        "Test_final_3d= df_Test_3d[0][0][0]\n",
        "for i in range(0,N_Subj):\n",
        "  for j in range(0,N_Days):\n",
        "    for k in range(0,N_rounds):\n",
        "      if i+j+k :\n",
        "        Test_final_3d=np.concatenate([Test_final_3d, df_Test_3d[i][j][k]], -1)\n",
        "Test_final_3d.shape"
      ],
      "execution_count": 54,
      "outputs": [
        {
          "output_type": "execute_result",
          "data": {
            "text/plain": [
              "(204, 13, 8346)"
            ]
          },
          "metadata": {
            "tags": []
          },
          "execution_count": 54
        }
      ]
    },
    {
      "cell_type": "markdown",
      "metadata": {
        "id": "cyOg_M0h78Ed"
      },
      "source": [
        "## Shuffle the data"
      ]
    },
    {
      "cell_type": "code",
      "metadata": {
        "id": "1zM7IU4APfwz"
      },
      "source": [
        "# ASK IF IT IS RIGHT\n",
        "\n",
        "# SHUFFLE TRAIN DATA:\n",
        "\n",
        "# Create an array of dimention = to the 3° dimention of df_Train_3d, i.e. the number of windows\n",
        "ind_list = [i for i in range(0,Train_final_3d.shape[2])]  \n",
        "# Shuffle it\n",
        "np.random.shuffle(ind_list)\n",
        "# Change the order of windows based on the shuffled index\n",
        "df_Train_3d  = Train_final_3d[:,:,ind_list]"
      ],
      "execution_count": 55,
      "outputs": []
    },
    {
      "cell_type": "code",
      "metadata": {
        "id": "gMQsuzp877hB"
      },
      "source": [
        "# SHUFFLE TEST DATA:\n",
        "\n",
        "# Create an array of dimention = to the 3° dimention of df_Test_3d, i.e. the number of windows\n",
        "ind_list_2 = [i for i in range(0,Test_final_3d.shape[2])]  \n",
        "# Shuffle it\n",
        "np.random.shuffle(ind_list_2)\n",
        "# Change the order of windows based on the shuffled index\n",
        "df_Test_3d  = Test_final_3d[:,:,ind_list_2]\n"
      ],
      "execution_count": 56,
      "outputs": []
    },
    {
      "cell_type": "code",
      "metadata": {
        "id": "IHf0NMD_G6Xp",
        "colab": {
          "base_uri": "https://localhost:8080/"
        },
        "outputId": "89b243a3-8167-44d4-cc36-d72990f0cf2c"
      },
      "source": [
        "print(df_Test_3d.shape)\n",
        "print(df_Train_3d.shape)\n"
      ],
      "execution_count": 57,
      "outputs": [
        {
          "output_type": "stream",
          "text": [
            "(204, 13, 8346)\n",
            "(204, 13, 13023)\n"
          ],
          "name": "stdout"
        }
      ]
    },
    {
      "cell_type": "markdown",
      "metadata": {
        "id": "XCb2Dx4B3tFP"
      },
      "source": [
        "## X and Y separation"
      ]
    },
    {
      "cell_type": "code",
      "metadata": {
        "id": "1RnzthEm-QBt",
        "colab": {
          "base_uri": "https://localhost:8080/"
        },
        "outputId": "d162719b-55a9-494d-800a-770ac85b22b6"
      },
      "source": [
        "# X_train is constituted by all the samples of all the windows for the 10 channels\n",
        "\n",
        "X_train=df_Train_3d[:,0:10,:]\n",
        "#print(X_train[:,:,10])\n",
        "print(X_train.shape)\n",
        "#print(X_train)\n"
      ],
      "execution_count": 58,
      "outputs": [
        {
          "output_type": "stream",
          "text": [
            "(204, 10, 13023)\n"
          ],
          "name": "stdout"
        }
      ]
    },
    {
      "cell_type": "code",
      "metadata": {
        "id": "04hBaxF4-l9I",
        "colab": {
          "base_uri": "https://localhost:8080/"
        },
        "outputId": "26f9bf89-8f9a-453c-e2d2-320036cd0ce8"
      },
      "source": [
        "# X_test is constituted by all the samples of all the windows for the 10 channels.\n",
        "\n",
        "X_test=df_Test_3d[:,0:10,:]\n",
        "#print(X_test[:,:,10])\n",
        "print(X_test.shape)\n"
      ],
      "execution_count": 59,
      "outputs": [
        {
          "output_type": "stream",
          "text": [
            "(204, 10, 8346)\n"
          ],
          "name": "stdout"
        }
      ]
    },
    {
      "cell_type": "code",
      "metadata": {
        "id": "L_pLLOHbEIp_",
        "colab": {
          "base_uri": "https://localhost:8080/"
        },
        "outputId": "175c8a0b-30ca-425f-8412-75e38f27af1e"
      },
      "source": [
        "# Y_train is an array of dimention equal to the number of windows, that contains\n",
        "# for each windows the corresponding class.\n",
        "\n",
        "Y_train=df_Train_3d[1,-3,:]   \n",
        "#print(Y_train[:])\n",
        "print(Y_train.shape)\n"
      ],
      "execution_count": 60,
      "outputs": [
        {
          "output_type": "stream",
          "text": [
            "(13023,)\n"
          ],
          "name": "stdout"
        }
      ]
    },
    {
      "cell_type": "code",
      "metadata": {
        "id": "Z-8MS0Kb_9qR",
        "colab": {
          "base_uri": "https://localhost:8080/"
        },
        "outputId": "4044ea15-4dc5-4b28-b286-936d30d43e6e"
      },
      "source": [
        "# Y_test is an array of dimention equal to the number of windows, that contains\n",
        "# for each windows the corresponding class.\n",
        "\n",
        "Y_test=df_Test_3d[1,-3,:]\n",
        "#print(Y_test[:]);\n",
        "print(Y_test.shape)\n"
      ],
      "execution_count": 61,
      "outputs": [
        {
          "output_type": "stream",
          "text": [
            "(8346,)\n"
          ],
          "name": "stdout"
        }
      ]
    },
    {
      "cell_type": "code",
      "metadata": {
        "id": "H0mqYVqSuCmg",
        "colab": {
          "base_uri": "https://localhost:8080/"
        },
        "outputId": "6ad5ddc8-73e2-4025-dd22-5c78bc613819"
      },
      "source": [
        "from keras.utils import to_categorical\n",
        "\n",
        "Y_train_cat= to_categorical(Y_train-1)\n",
        "print(Y_train[:10])\n",
        "print(Y_train_cat[:10])\n",
        "\n",
        "Y_test_cat= to_categorical(Y_test-1)\n",
        "print(Y_test[:10])\n",
        "print(Y_test_cat[:10])\n",
        "\n",
        "Y_test_cat.shape"
      ],
      "execution_count": 62,
      "outputs": [
        {
          "output_type": "stream",
          "text": [
            "[4. 8. 5. 1. 7. 2. 8. 1. 5. 7.]\n",
            "[[0. 0. 0. 1. 0. 0. 0. 0.]\n",
            " [0. 0. 0. 0. 0. 0. 0. 1.]\n",
            " [0. 0. 0. 0. 1. 0. 0. 0.]\n",
            " [1. 0. 0. 0. 0. 0. 0. 0.]\n",
            " [0. 0. 0. 0. 0. 0. 1. 0.]\n",
            " [0. 1. 0. 0. 0. 0. 0. 0.]\n",
            " [0. 0. 0. 0. 0. 0. 0. 1.]\n",
            " [1. 0. 0. 0. 0. 0. 0. 0.]\n",
            " [0. 0. 0. 0. 1. 0. 0. 0.]\n",
            " [0. 0. 0. 0. 0. 0. 1. 0.]]\n",
            "[6. 2. 2. 5. 4. 7. 4. 2. 7. 3.]\n",
            "[[0. 0. 0. 0. 0. 1. 0. 0.]\n",
            " [0. 1. 0. 0. 0. 0. 0. 0.]\n",
            " [0. 1. 0. 0. 0. 0. 0. 0.]\n",
            " [0. 0. 0. 0. 1. 0. 0. 0.]\n",
            " [0. 0. 0. 1. 0. 0. 0. 0.]\n",
            " [0. 0. 0. 0. 0. 0. 1. 0.]\n",
            " [0. 0. 0. 1. 0. 0. 0. 0.]\n",
            " [0. 1. 0. 0. 0. 0. 0. 0.]\n",
            " [0. 0. 0. 0. 0. 0. 1. 0.]\n",
            " [0. 0. 1. 0. 0. 0. 0. 0.]]\n"
          ],
          "name": "stdout"
        },
        {
          "output_type": "execute_result",
          "data": {
            "text/plain": [
              "(8346, 8)"
            ]
          },
          "metadata": {
            "tags": []
          },
          "execution_count": 62
        }
      ]
    },
    {
      "cell_type": "code",
      "metadata": {
        "id": "uwWwL-duuCkw",
        "colab": {
          "base_uri": "https://localhost:8080/"
        },
        "outputId": "21e4407a-2108-4f03-ace7-ace04da7156c"
      },
      "source": [
        "print(X_train.shape)\n",
        "X_train = np.swapaxes(X_train,0,2)\n",
        "print(X_train.shape)\n",
        "X_train = np.swapaxes(X_train,1,2)\n",
        "print(X_train.shape)\n",
        "\n"
      ],
      "execution_count": 63,
      "outputs": [
        {
          "output_type": "stream",
          "text": [
            "(204, 10, 13023)\n",
            "(13023, 10, 204)\n",
            "(13023, 204, 10)\n"
          ],
          "name": "stdout"
        }
      ]
    },
    {
      "cell_type": "code",
      "metadata": {
        "id": "lALWTgjlfEHH",
        "colab": {
          "base_uri": "https://localhost:8080/"
        },
        "outputId": "4711c66c-8025-4730-a212-723739fef94f"
      },
      "source": [
        "print(X_test.shape)\n",
        "X_test = np.swapaxes(X_test,0,2)\n",
        "print(X_test.shape)\n",
        "X_test = np.swapaxes(X_test,1,2)\n",
        "print(X_test.shape)"
      ],
      "execution_count": 64,
      "outputs": [
        {
          "output_type": "stream",
          "text": [
            "(204, 10, 8346)\n",
            "(8346, 10, 204)\n",
            "(8346, 204, 10)\n"
          ],
          "name": "stdout"
        }
      ]
    },
    {
      "cell_type": "code",
      "metadata": {
        "id": "pvki5JYaegtj",
        "colab": {
          "base_uri": "https://localhost:8080/"
        },
        "outputId": "fe827e2a-55d4-4de9-931c-2b24d719a345"
      },
      "source": [
        "\n",
        "X_train = X_train.reshape(X_train.shape[0], X_train.shape[1], X_train.shape[2],1)\n",
        "X_test  = X_test.reshape(X_test.shape[0], X_test.shape[1], X_test.shape[2],1)\n",
        "print(X_train.shape)\n",
        "print(X_test.shape)"
      ],
      "execution_count": 65,
      "outputs": [
        {
          "output_type": "stream",
          "text": [
            "(13023, 204, 10, 1)\n",
            "(8346, 204, 10, 1)\n"
          ],
          "name": "stdout"
        }
      ]
    },
    {
      "cell_type": "code",
      "metadata": {
        "id": "91JxS0e4egpN"
      },
      "source": [
        ""
      ],
      "execution_count": 65,
      "outputs": []
    },
    {
      "cell_type": "code",
      "metadata": {
        "id": "uLYGjob8egjQ"
      },
      "source": [
        ""
      ],
      "execution_count": 65,
      "outputs": []
    },
    {
      "cell_type": "markdown",
      "metadata": {
        "id": "DGHJ0QpT6C-B"
      },
      "source": [
        "# CNN "
      ]
    },
    {
      "cell_type": "code",
      "metadata": {
        "id": "GmsFXmDjGCDJ"
      },
      "source": [
        "import tensorflow as tf\n",
        "from tensorflow import keras"
      ],
      "execution_count": 66,
      "outputs": []
    },
    {
      "cell_type": "code",
      "metadata": {
        "id": "EWL2CeJGtUyk"
      },
      "source": [
        "import pandas as pd\n",
        "\n",
        "from sklearn.metrics import accuracy_score\n",
        "from sklearn.model_selection import train_test_split\n",
        "\n",
        "# keras import\n",
        "from keras.models import Sequential\n",
        "from keras.layers import Dense, Dropout, Conv2D, MaxPooling2D, AveragePooling2D, Flatten\n",
        "from keras.utils import to_categorical\n",
        "from keras.callbacks import EarlyStopping\n",
        "\n",
        "# hyperparameter optimization\n",
        "from sklearn.model_selection import GridSearchCV\n",
        "from keras.wrappers.scikit_learn import KerasClassifier\n",
        "\n",
        "# data augmentation\n",
        "from keras.preprocessing.image import ImageDataGenerator\n",
        "\n",
        "# visualisation\n",
        "import matplotlib.pyplot as plt\n",
        "import matplotlib.image as mpimg\n",
        "import seaborn as sns"
      ],
      "execution_count": 67,
      "outputs": []
    },
    {
      "cell_type": "code",
      "metadata": {
        "id": "BWzUwoHEcNeR"
      },
      "source": [
        "cnn_model = keras.Sequential([\n",
        "                              \n",
        "                              keras.layers.Conv2D(filters=32, kernel_size= (3,3), strides= (2,1),padding='same',  \n",
        "                                                  activation='relu', input_shape=(window_length, 10,1)),  \n",
        "                              keras.layers.MaxPooling2D(pool_size=(3,1)),  \n",
        "                              \n",
        "                              keras.layers.Dropout(0.5),\n",
        "                              keras.layers.Conv2D(filters=64, kernel_size=(3,1),strides= (2,1),\n",
        "                                                   padding='same', activation='relu'),\n",
        "                              keras.layers.MaxPooling2D(pool_size=(2,1)),  \n",
        "                              \n",
        "                              keras.layers.Dropout(0.5),\n",
        "                              keras.layers.Conv2D(filters=32, kernel_size= (2,1),strides= (1,1),\n",
        "                                                  padding='same', activation='relu'),\n",
        "                              keras.layers.MaxPooling2D(pool_size=(2,1)),  \n",
        "                                                                             \n",
        "                              keras.layers.Flatten(),\n",
        "\n",
        "                              keras.layers.Dense(64, activation=tf.nn.relu),\n",
        "                                               \n",
        "                              keras.layers.Dense(8, activation=tf.nn.softmax) \n",
        "\n",
        "                              ])"
      ],
      "execution_count": 68,
      "outputs": []
    },
    {
      "cell_type": "code",
      "metadata": {
        "id": "-oMrq6cccWJq",
        "colab": {
          "base_uri": "https://localhost:8080/"
        },
        "outputId": "7f1f2aa8-9dd8-497b-ba36-f64f25859d45"
      },
      "source": [
        "cnn_model.summary()"
      ],
      "execution_count": 69,
      "outputs": [
        {
          "output_type": "stream",
          "text": [
            "Model: \"sequential\"\n",
            "_________________________________________________________________\n",
            "Layer (type)                 Output Shape              Param #   \n",
            "=================================================================\n",
            "conv2d (Conv2D)              (None, 102, 10, 32)       320       \n",
            "_________________________________________________________________\n",
            "max_pooling2d (MaxPooling2D) (None, 34, 10, 32)        0         \n",
            "_________________________________________________________________\n",
            "dropout (Dropout)            (None, 34, 10, 32)        0         \n",
            "_________________________________________________________________\n",
            "conv2d_1 (Conv2D)            (None, 17, 10, 64)        6208      \n",
            "_________________________________________________________________\n",
            "max_pooling2d_1 (MaxPooling2 (None, 8, 10, 64)         0         \n",
            "_________________________________________________________________\n",
            "dropout_1 (Dropout)          (None, 8, 10, 64)         0         \n",
            "_________________________________________________________________\n",
            "conv2d_2 (Conv2D)            (None, 8, 10, 32)         4128      \n",
            "_________________________________________________________________\n",
            "max_pooling2d_2 (MaxPooling2 (None, 4, 10, 32)         0         \n",
            "_________________________________________________________________\n",
            "flatten (Flatten)            (None, 1280)              0         \n",
            "_________________________________________________________________\n",
            "dense (Dense)                (None, 64)                81984     \n",
            "_________________________________________________________________\n",
            "dense_1 (Dense)              (None, 8)                 520       \n",
            "=================================================================\n",
            "Total params: 93,160\n",
            "Trainable params: 93,160\n",
            "Non-trainable params: 0\n",
            "_________________________________________________________________\n"
          ],
          "name": "stdout"
        }
      ]
    },
    {
      "cell_type": "markdown",
      "metadata": {
        "id": "eBh0EA3WH3JO"
      },
      "source": [
        "# TRAIN"
      ]
    },
    {
      "cell_type": "code",
      "metadata": {
        "id": "Dr9MyNrJcWHs",
        "colab": {
          "base_uri": "https://localhost:8080/"
        },
        "outputId": "813fa607-dab4-496e-ee37-04598b1c77a3"
      },
      "source": [
        "cnn_model.compile(\n",
        "                  optimizer=keras.optimizers.Adam(learning_rate=0.001),\n",
        "                  loss='categorical_crossentropy',\n",
        "                  metrics=['accuracy']\n",
        "                 )\n",
        "\n",
        "hist = cnn_model.fit(X_train, Y_train_cat, epochs=30)"
      ],
      "execution_count": 70,
      "outputs": [
        {
          "output_type": "stream",
          "text": [
            "Epoch 1/30\n",
            "407/407 [==============================] - 9s 4ms/step - loss: 0.7763 - accuracy: 0.7009\n",
            "Epoch 2/30\n",
            "407/407 [==============================] - 1s 4ms/step - loss: 0.1805 - accuracy: 0.9390\n",
            "Epoch 3/30\n",
            "407/407 [==============================] - 2s 4ms/step - loss: 0.1314 - accuracy: 0.9551\n",
            "Epoch 4/30\n",
            "407/407 [==============================] - 1s 3ms/step - loss: 0.1055 - accuracy: 0.9698\n",
            "Epoch 5/30\n",
            "407/407 [==============================] - 1s 3ms/step - loss: 0.0887 - accuracy: 0.9707\n",
            "Epoch 6/30\n",
            "407/407 [==============================] - 1s 3ms/step - loss: 0.0904 - accuracy: 0.9674\n",
            "Epoch 7/30\n",
            "407/407 [==============================] - 1s 3ms/step - loss: 0.0694 - accuracy: 0.9743\n",
            "Epoch 8/30\n",
            "407/407 [==============================] - 1s 3ms/step - loss: 0.0658 - accuracy: 0.9788\n",
            "Epoch 9/30\n",
            "407/407 [==============================] - 1s 3ms/step - loss: 0.0662 - accuracy: 0.9777\n",
            "Epoch 10/30\n",
            "407/407 [==============================] - 1s 3ms/step - loss: 0.0551 - accuracy: 0.9819\n",
            "Epoch 11/30\n",
            "407/407 [==============================] - 1s 3ms/step - loss: 0.0494 - accuracy: 0.9816\n",
            "Epoch 12/30\n",
            "407/407 [==============================] - 1s 3ms/step - loss: 0.0485 - accuracy: 0.9840\n",
            "Epoch 13/30\n",
            "407/407 [==============================] - 1s 3ms/step - loss: 0.0432 - accuracy: 0.9855\n",
            "Epoch 14/30\n",
            "407/407 [==============================] - 1s 3ms/step - loss: 0.0419 - accuracy: 0.9852\n",
            "Epoch 15/30\n",
            "407/407 [==============================] - 1s 3ms/step - loss: 0.0429 - accuracy: 0.9842\n",
            "Epoch 16/30\n",
            "407/407 [==============================] - 1s 3ms/step - loss: 0.0430 - accuracy: 0.9860\n",
            "Epoch 17/30\n",
            "407/407 [==============================] - 1s 3ms/step - loss: 0.0395 - accuracy: 0.9868\n",
            "Epoch 18/30\n",
            "407/407 [==============================] - 1s 3ms/step - loss: 0.0343 - accuracy: 0.9875\n",
            "Epoch 19/30\n",
            "407/407 [==============================] - 1s 3ms/step - loss: 0.0331 - accuracy: 0.9894\n",
            "Epoch 20/30\n",
            "407/407 [==============================] - 1s 3ms/step - loss: 0.0305 - accuracy: 0.9895\n",
            "Epoch 21/30\n",
            "407/407 [==============================] - 1s 3ms/step - loss: 0.0334 - accuracy: 0.9884\n",
            "Epoch 22/30\n",
            "407/407 [==============================] - 1s 3ms/step - loss: 0.0371 - accuracy: 0.9882\n",
            "Epoch 23/30\n",
            "407/407 [==============================] - 1s 3ms/step - loss: 0.0347 - accuracy: 0.9860\n",
            "Epoch 24/30\n",
            "407/407 [==============================] - 1s 3ms/step - loss: 0.0318 - accuracy: 0.9886\n",
            "Epoch 25/30\n",
            "407/407 [==============================] - 1s 3ms/step - loss: 0.0322 - accuracy: 0.9880\n",
            "Epoch 26/30\n",
            "407/407 [==============================] - 1s 3ms/step - loss: 0.0293 - accuracy: 0.9892\n",
            "Epoch 27/30\n",
            "407/407 [==============================] - 1s 3ms/step - loss: 0.0200 - accuracy: 0.9928\n",
            "Epoch 28/30\n",
            "407/407 [==============================] - 1s 3ms/step - loss: 0.0273 - accuracy: 0.9898\n",
            "Epoch 29/30\n",
            "407/407 [==============================] - 1s 3ms/step - loss: 0.0257 - accuracy: 0.9895\n",
            "Epoch 30/30\n",
            "407/407 [==============================] - 1s 3ms/step - loss: 0.0231 - accuracy: 0.9916\n"
          ],
          "name": "stdout"
        }
      ]
    },
    {
      "cell_type": "markdown",
      "metadata": {
        "id": "6M6yeLkNH9oi"
      },
      "source": [
        "# TEST"
      ]
    },
    {
      "cell_type": "code",
      "metadata": {
        "id": "CPrE9VRPIiYK",
        "colab": {
          "base_uri": "https://localhost:8080/"
        },
        "outputId": "04580583-2307-40db-a167-cffab5e4da32"
      },
      "source": [
        "import time\n",
        "t0= time.clock()\n",
        "y_pred = cnn_model.predict(X_test)\n",
        "t1 = time.clock() - t0\n",
        "print(\"Total time : %f [s]\\nTime for a window : %f [s]\" %(t1,t1/X_test.shape[0]))"
      ],
      "execution_count": 71,
      "outputs": [
        {
          "output_type": "stream",
          "text": [
            "Total time : 0.600972 [s]\n",
            "Time for a window : 0.000072 [s]\n"
          ],
          "name": "stdout"
        }
      ]
    },
    {
      "cell_type": "code",
      "metadata": {
        "id": "x_7j7tzussCP"
      },
      "source": [
        "y_pred = np.argmax(y_pred, axis=1)\n",
        "y_pred_cat = to_categorical(y_pred)"
      ],
      "execution_count": 72,
      "outputs": []
    },
    {
      "cell_type": "code",
      "metadata": {
        "id": "WpPAbRUYHz69",
        "colab": {
          "base_uri": "https://localhost:8080/"
        },
        "outputId": "63725123-2eef-4c13-da8f-8589172ebd80"
      },
      "source": [
        "test_loss, test_acc = cnn_model.evaluate(X_test, Y_test_cat)\n",
        "print(\"Test accuracy:\", test_acc)"
      ],
      "execution_count": 73,
      "outputs": [
        {
          "output_type": "stream",
          "text": [
            "261/261 [==============================] - 1s 2ms/step - loss: 0.0819 - accuracy: 0.9829\n",
            "Test accuracy: 0.9828660488128662\n"
          ],
          "name": "stdout"
        }
      ]
    },
    {
      "cell_type": "code",
      "metadata": {
        "id": "-oFYUZgHquNN",
        "colab": {
          "base_uri": "https://localhost:8080/"
        },
        "outputId": "8c764142-c903-4af1-9de4-49420ae9a4dc"
      },
      "source": [
        "acc =  metrics.accuracy_score(Y_test_cat,y_pred_cat)\n",
        "print(\"Test accuracy:\",acc)"
      ],
      "execution_count": 74,
      "outputs": [
        {
          "output_type": "stream",
          "text": [
            "Test accuracy: 0.9828660436137072\n"
          ],
          "name": "stdout"
        }
      ]
    },
    {
      "cell_type": "code",
      "metadata": {
        "id": "FAZZncTh9FEe",
        "colab": {
          "base_uri": "https://localhost:8080/",
          "height": 296
        },
        "outputId": "4271648f-d684-4c60-e055-4ec49a030c1f"
      },
      "source": [
        "sns.heatmap(confusion_matrix(Y_test-1, y_pred), annot=True, fmt='d', cmap=\"Blues\", cbar=False);\n",
        "plt.ylabel('True Label')\n",
        "plt.xlabel('Predicted Label')\n",
        "print(acc)\n"
      ],
      "execution_count": 75,
      "outputs": [
        {
          "output_type": "stream",
          "text": [
            "0.9828660436137072\n"
          ],
          "name": "stdout"
        },
        {
          "output_type": "display_data",
          "data": {
            "image/png": "[encoded data removed]",
            "text/plain": [
              "<Figure size 432x288 with 1 Axes>"
            ]
          },
          "metadata": {
            "tags": [],
            "needs_background": "light"
          }
        }
      ]
    },
    {
      "cell_type": "code",
      "metadata": {
        "id": "ZHYX2YsoZERV",
        "colab": {
          "base_uri": "https://localhost:8080/"
        },
        "outputId": "6ecd5f42-f25f-4a33-8890-f6e8c3d14d4f"
      },
      "source": [
        "print(\"Window Size [ms]: %.0f \" % (Window_time))\n",
        "print(f\"Stride: {Perc} % \\n\")\n",
        "print(\"CNN  accuracy - TRAIN: %f \" % (hist.history['accuracy'][-1] ))\n",
        "print(\"CNN  accuracy - TEST: %f \" % (test_acc))\n",
        "print(\"Total time : %f [s]\\nTime for a window : %f [s]\" %(t1,t1/X_test.shape[0]))"
      ],
      "execution_count": 76,
      "outputs": [
        {
          "output_type": "stream",
          "text": [
            "Window Size [ms]: 100 \n",
            "Stride: 25 % \n",
            "\n",
            "CNN  accuracy - TRAIN: 0.991246 \n",
            "CNN  accuracy - TEST: 0.982866 \n",
            "Total time : 0.600972 [s]\n",
            "Time for a window : 0.000072 [s]\n"
          ],
          "name": "stdout"
        }
      ]
    },
    {
      "cell_type": "code",
      "metadata": {
        "id": "QNsmp2XQz7Jz",
        "colab": {
          "base_uri": "https://localhost:8080/"
        },
        "outputId": "b1eb3d25-e529-47b7-f494-6b46fb075177"
      },
      "source": [
        "((t1/X_test.shape[0])*1000)+Window_time\n"
      ],
      "execution_count": 77,
      "outputs": [
        {
          "output_type": "execute_result",
          "data": {
            "text/plain": [
              "100.07200718907261"
            ]
          },
          "metadata": {
            "tags": []
          },
          "execution_count": 77
        }
      ]
    },
    {
      "cell_type": "code",
      "metadata": {
        "id": "T2EQDVmjytOU"
      },
      "source": [
        "parameters = [Window_time, Perc, test_acc, ((t1/X_test.shape[0])*1000)+Window_time];\n",
        "import csv\n",
        "with open('/content/drive/MyDrive/NEURO_PROJECT/ACCURACY_TIME_DATA/CNN/parameters_CNN_day3.csv', mode='a') as parameter_file:\n",
        "  parameter_writer = csv.writer(parameter_file, delimiter=',', quotechar='\"', quoting=csv.QUOTE_MINIMAL)\n",
        "  parameter_writer.writerow(parameters)"
      ],
      "execution_count": 78,
      "outputs": []
    },
    {
      "cell_type": "code",
      "metadata": {
        "id": "NA5rVuxGtnpU"
      },
      "source": [
        ""
      ],
      "execution_count": 78,
      "outputs": []
    }
  ]
}