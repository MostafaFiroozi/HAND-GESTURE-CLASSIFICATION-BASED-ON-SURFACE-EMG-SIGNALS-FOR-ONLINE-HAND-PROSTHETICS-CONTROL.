{
  "nbformat": 4,
  "nbformat_minor": 0,
  "metadata": {
    "colab": {
      "name": "CNN_WITH_DATA_AUGMENTATION.ipynb",
      "provenance": [],
      "collapsed_sections": [],
      "toc_visible": true
    },
    "kernelspec": {
      "name": "python3",
      "display_name": "Python 3"
    },
    "accelerator": "GPU"
  },
  "cells": [
    {
      "cell_type": "markdown",
      "metadata": {
        "id": "WPiAbSJN0Lle"
      },
      "source": [
        "# Hand gesture classification based on CNN\n",
        "\n"
      ]
    },
    {
      "cell_type": "code",
      "metadata": {
        "colab": {
          "base_uri": "https://localhost:8080/"
        },
        "id": "Jhiz9Wk64AGI",
        "outputId": "d7746948-e9d1-4ce4-d5c5-5d8ba57700b2"
      },
      "source": [
        "from google.colab import drive\n",
        "drive.mount('/content/drive')"
      ],
      "execution_count": 9,
      "outputs": [
        {
          "output_type": "stream",
          "text": [
            "Drive already mounted at /content/drive; to attempt to forcibly remount, call drive.mount(\"/content/drive\", force_remount=True).\n"
          ],
          "name": "stdout"
        }
      ]
    },
    {
      "cell_type": "code",
      "metadata": {
        "id": "tfyj0IDZZBXM"
      },
      "source": [
        "\n",
        "\n",
        "import pandas as pd # version 0.24.2\n",
        "import numpy as np #version 1.16.4\n",
        "import random\n",
        "import matplotlib.pyplot as plt #matplotlib version 3.1.0\n",
        "from sklearn.preprocessing import StandardScaler\n",
        "from sklearn.svm import SVC\n",
        "from sklearn import metrics\n",
        "from sklearn.metrics import confusion_matrix\n",
        "from sklearn.metrics import classification_report\n",
        "import seaborn as sns #version 0.9.0\n",
        "from sklearn.model_selection import GridSearchCV\n",
        "import math"
      ],
      "execution_count": 10,
      "outputs": []
    },
    {
      "cell_type": "code",
      "metadata": {
        "id": "9dXSyPQlx-9c",
        "colab": {
          "base_uri": "https://localhost:8080/"
        },
        "outputId": "97904b55-a68c-4d5c-dcbb-38ca8b892021"
      },
      "source": [
        "Window_time= 100\n",
        "Perc = 25\n",
        "noise_std=0.5\n",
        "window_length = math.floor(Window_time*2048/1000)\n",
        "stride_length = math.floor(window_length*Perc/100)\n",
        "print(window_length,stride_length)\n"
      ],
      "execution_count": 11,
      "outputs": [
        {
          "output_type": "stream",
          "text": [
            "204 51\n"
          ],
          "name": "stdout"
        }
      ]
    },
    {
      "cell_type": "markdown",
      "metadata": {
        "id": "HAwMLuaHx13N"
      },
      "source": [
        "## Import the Datasets"
      ]
    },
    {
      "cell_type": "code",
      "metadata": {
        "id": "EvfTWNxA0iXM"
      },
      "source": [
        ""
      ],
      "execution_count": 11,
      "outputs": []
    },
    {
      "cell_type": "code",
      "metadata": {
        "id": "har98Auw1pj0",
        "colab": {
          "base_uri": "https://localhost:8080/"
        },
        "outputId": "92178c3e-3dd9-47a3-e1a7-c6b32ef76e2b"
      },
      "source": [
        "N_Subj = 1\n",
        "N_Days = 1\n",
        "N_rounds= 3\n",
        "df= [[[0] * N_rounds]*N_Days]*N_Subj # dataframe for all rounds for all subjects for all days\n",
        "print(df)\n",
        "#making a header for dataframe\n",
        "cl_names= []\n",
        "for i in range(1,11):\n",
        "    cl_names.append('CH'+str(i))\n",
        "cl_names.append('class') #column dedicated to show which class of movement this sample belongs to\n",
        "cl_names.append('move') #column dedicated to show which number of movement (out of 40 in each round) this sample belongs to\n",
        "cl_names.append('window')\n",
        "for i in range(0,N_Subj):\n",
        "  for j in range(0,N_Days):   \n",
        "   for k in range(0,N_rounds):\n",
        "       df[i][j][k] = pd.read_csv('/content/drive/MyDrive/NEURO_PROJECT/FINAL DATA _ SUB1_DAY1/data/sbj'+str(i+1)+'_day'+str(j+1)+'_round'+str(k+1)+'_'+str(Window_time)+'_'+str(Perc)+'.csv')\n",
        "       df[i][j][k].columns=cl_names\n",
        "       print(\"Day\"+str(j+1)+\"_Subject\"+str(i+1)+\"_Round\"+str(k+1))\n",
        "       print(\"Round1\",np.shape(df[i][j][k]))"
      ],
      "execution_count": 12,
      "outputs": [
        {
          "output_type": "stream",
          "text": [
            "[[[0, 0, 0]]]\n",
            "Day1_Subject1_Round1\n",
            "Round1 (1434120, 13)\n",
            "Day1_Subject1_Round2\n",
            "Round1 (1478796, 13)\n",
            "Day1_Subject1_Round3\n",
            "Round1 (1446360, 13)\n"
          ],
          "name": "stdout"
        }
      ]
    },
    {
      "cell_type": "code",
      "metadata": {
        "id": "PnltDxHR3OhX",
        "colab": {
          "base_uri": "https://localhost:8080/",
          "height": 355
        },
        "outputId": "7fa77e12-2cb3-4401-e018-c51c336b1cd3"
      },
      "source": [
        "#Day1_Subject1_Round1 shape\n",
        "df[0][0][0].head(10)"
      ],
      "execution_count": 13,
      "outputs": [
        {
          "output_type": "execute_result",
          "data": {
            "text/html": [
              "<div>\n",
              "<style scoped>\n",
              "    .dataframe tbody tr th:only-of-type {\n",
              "        vertical-align: middle;\n",
              "    }\n",
              "\n",
              "    .dataframe tbody tr th {\n",
              "        vertical-align: top;\n",
              "    }\n",
              "\n",
              "    .dataframe thead th {\n",
              "        text-align: right;\n",
              "    }\n",
              "</style>\n",
              "<table border=\"1\" class=\"dataframe\">\n",
              "  <thead>\n",
              "    <tr style=\"text-align: right;\">\n",
              "      <th></th>\n",
              "      <th>CH1</th>\n",
              "      <th>CH2</th>\n",
              "      <th>CH3</th>\n",
              "      <th>CH4</th>\n",
              "      <th>CH5</th>\n",
              "      <th>CH6</th>\n",
              "      <th>CH7</th>\n",
              "      <th>CH8</th>\n",
              "      <th>CH9</th>\n",
              "      <th>CH10</th>\n",
              "      <th>class</th>\n",
              "      <th>move</th>\n",
              "      <th>window</th>\n",
              "    </tr>\n",
              "  </thead>\n",
              "  <tbody>\n",
              "    <tr>\n",
              "      <th>0</th>\n",
              "      <td>-0.037422</td>\n",
              "      <td>-0.066970</td>\n",
              "      <td>-0.004722</td>\n",
              "      <td>-0.002298</td>\n",
              "      <td>0.009147</td>\n",
              "      <td>0.000264</td>\n",
              "      <td>0.030113</td>\n",
              "      <td>0.001229</td>\n",
              "      <td>-0.000046</td>\n",
              "      <td>0.024452</td>\n",
              "      <td>1</td>\n",
              "      <td>1</td>\n",
              "      <td>1</td>\n",
              "    </tr>\n",
              "    <tr>\n",
              "      <th>1</th>\n",
              "      <td>-0.027106</td>\n",
              "      <td>-0.069792</td>\n",
              "      <td>-0.003393</td>\n",
              "      <td>-0.001506</td>\n",
              "      <td>0.015246</td>\n",
              "      <td>0.010729</td>\n",
              "      <td>0.033083</td>\n",
              "      <td>0.002324</td>\n",
              "      <td>-0.017275</td>\n",
              "      <td>0.012365</td>\n",
              "      <td>1</td>\n",
              "      <td>1</td>\n",
              "      <td>1</td>\n",
              "    </tr>\n",
              "    <tr>\n",
              "      <th>2</th>\n",
              "      <td>-0.018335</td>\n",
              "      <td>-0.070210</td>\n",
              "      <td>-0.001637</td>\n",
              "      <td>-0.002423</td>\n",
              "      <td>0.015040</td>\n",
              "      <td>0.023082</td>\n",
              "      <td>0.037320</td>\n",
              "      <td>0.002860</td>\n",
              "      <td>-0.020864</td>\n",
              "      <td>0.027658</td>\n",
              "      <td>1</td>\n",
              "      <td>1</td>\n",
              "      <td>1</td>\n",
              "    </tr>\n",
              "    <tr>\n",
              "      <th>3</th>\n",
              "      <td>-0.012485</td>\n",
              "      <td>-0.066842</td>\n",
              "      <td>0.000101</td>\n",
              "      <td>-0.004762</td>\n",
              "      <td>0.013541</td>\n",
              "      <td>0.041201</td>\n",
              "      <td>0.037835</td>\n",
              "      <td>0.003687</td>\n",
              "      <td>-0.014293</td>\n",
              "      <td>0.056742</td>\n",
              "      <td>1</td>\n",
              "      <td>1</td>\n",
              "      <td>1</td>\n",
              "    </tr>\n",
              "    <tr>\n",
              "      <th>4</th>\n",
              "      <td>-0.004825</td>\n",
              "      <td>-0.060419</td>\n",
              "      <td>0.001824</td>\n",
              "      <td>-0.007347</td>\n",
              "      <td>0.013795</td>\n",
              "      <td>0.064046</td>\n",
              "      <td>0.031025</td>\n",
              "      <td>0.005208</td>\n",
              "      <td>-0.004321</td>\n",
              "      <td>0.062703</td>\n",
              "      <td>1</td>\n",
              "      <td>1</td>\n",
              "      <td>1</td>\n",
              "    </tr>\n",
              "    <tr>\n",
              "      <th>5</th>\n",
              "      <td>0.005364</td>\n",
              "      <td>-0.052430</td>\n",
              "      <td>0.003509</td>\n",
              "      <td>-0.008223</td>\n",
              "      <td>0.016031</td>\n",
              "      <td>0.087142</td>\n",
              "      <td>0.019538</td>\n",
              "      <td>0.006902</td>\n",
              "      <td>0.002390</td>\n",
              "      <td>0.029969</td>\n",
              "      <td>1</td>\n",
              "      <td>1</td>\n",
              "      <td>1</td>\n",
              "    </tr>\n",
              "    <tr>\n",
              "      <th>6</th>\n",
              "      <td>0.013969</td>\n",
              "      <td>-0.041837</td>\n",
              "      <td>0.003704</td>\n",
              "      <td>-0.006084</td>\n",
              "      <td>0.019951</td>\n",
              "      <td>0.097848</td>\n",
              "      <td>0.008052</td>\n",
              "      <td>0.007150</td>\n",
              "      <td>0.001886</td>\n",
              "      <td>-0.007631</td>\n",
              "      <td>1</td>\n",
              "      <td>1</td>\n",
              "      <td>1</td>\n",
              "    </tr>\n",
              "    <tr>\n",
              "      <th>7</th>\n",
              "      <td>0.018151</td>\n",
              "      <td>-0.027799</td>\n",
              "      <td>0.002206</td>\n",
              "      <td>-0.001399</td>\n",
              "      <td>0.023652</td>\n",
              "      <td>0.086413</td>\n",
              "      <td>-0.001507</td>\n",
              "      <td>0.006514</td>\n",
              "      <td>-0.002337</td>\n",
              "      <td>-0.010484</td>\n",
              "      <td>1</td>\n",
              "      <td>1</td>\n",
              "      <td>1</td>\n",
              "    </tr>\n",
              "    <tr>\n",
              "      <th>8</th>\n",
              "      <td>0.018671</td>\n",
              "      <td>-0.013399</td>\n",
              "      <td>0.001423</td>\n",
              "      <td>0.003602</td>\n",
              "      <td>0.024873</td>\n",
              "      <td>0.056382</td>\n",
              "      <td>-0.009276</td>\n",
              "      <td>0.007735</td>\n",
              "      <td>-0.002523</td>\n",
              "      <td>0.016994</td>\n",
              "      <td>1</td>\n",
              "      <td>1</td>\n",
              "      <td>1</td>\n",
              "    </tr>\n",
              "    <tr>\n",
              "      <th>9</th>\n",
              "      <td>0.016108</td>\n",
              "      <td>-0.001753</td>\n",
              "      <td>0.002477</td>\n",
              "      <td>0.005507</td>\n",
              "      <td>0.021791</td>\n",
              "      <td>0.019488</td>\n",
              "      <td>-0.013920</td>\n",
              "      <td>0.009651</td>\n",
              "      <td>0.004802</td>\n",
              "      <td>0.048708</td>\n",
              "      <td>1</td>\n",
              "      <td>1</td>\n",
              "      <td>1</td>\n",
              "    </tr>\n",
              "  </tbody>\n",
              "</table>\n",
              "</div>"
            ],
            "text/plain": [
              "        CH1       CH2       CH3       CH4  ...      CH10  class  move  window\n",
              "0 -0.037422 -0.066970 -0.004722 -0.002298  ...  0.024452      1     1       1\n",
              "1 -0.027106 -0.069792 -0.003393 -0.001506  ...  0.012365      1     1       1\n",
              "2 -0.018335 -0.070210 -0.001637 -0.002423  ...  0.027658      1     1       1\n",
              "3 -0.012485 -0.066842  0.000101 -0.004762  ...  0.056742      1     1       1\n",
              "4 -0.004825 -0.060419  0.001824 -0.007347  ...  0.062703      1     1       1\n",
              "5  0.005364 -0.052430  0.003509 -0.008223  ...  0.029969      1     1       1\n",
              "6  0.013969 -0.041837  0.003704 -0.006084  ... -0.007631      1     1       1\n",
              "7  0.018151 -0.027799  0.002206 -0.001399  ... -0.010484      1     1       1\n",
              "8  0.018671 -0.013399  0.001423  0.003602  ...  0.016994      1     1       1\n",
              "9  0.016108 -0.001753  0.002477  0.005507  ...  0.048708      1     1       1\n",
              "\n",
              "[10 rows x 13 columns]"
            ]
          },
          "metadata": {
            "tags": []
          },
          "execution_count": 13
        }
      ]
    },
    {
      "cell_type": "markdown",
      "metadata": {
        "id": "CD5gSNOaejZY"
      },
      "source": [
        "## Data exploration"
      ]
    },
    {
      "cell_type": "code",
      "metadata": {
        "id": "hytj9FS63ZcV",
        "colab": {
          "base_uri": "https://localhost:8080/"
        },
        "outputId": "85db6444-2b9c-4f34-dfef-33e96b9ef0d7"
      },
      "source": [
        "#Print class freq for each round of subject 1\n",
        "# classes are from 1 to 8: 1 Flex, 2 Ext, 3 Sup, 4 Pron, 5 Open, 6 Pinch, 7 Lateral pinch, 8 Fist\n",
        "def Class_freq(df):\n",
        "  target_dist=df.groupby('class').size()/window_length  #number of windows for each type\n",
        "  print(target_dist)\n",
        "  print(type(target_dist))\n",
        "print(\"rounds class distribution\")\n",
        "for i in range(0,N_Subj):\n",
        "  for j in range(0,N_Days):\n",
        "    for k in range(0,N_rounds):\n",
        "     print(\"Class frequency for subject \"+str(i+1)+\"day \"+str(j+1)+ \"round \"+str(k+1))\n",
        "     Class_freq(df[i][j][k])"
      ],
      "execution_count": 14,
      "outputs": [
        {
          "output_type": "stream",
          "text": [
            "rounds class distribution\n",
            "Class frequency for subject 1day 1round 1\n",
            "class\n",
            "1    880.0\n",
            "2    883.0\n",
            "3    876.0\n",
            "4    879.0\n",
            "5    903.0\n",
            "6    878.0\n",
            "7    862.0\n",
            "8    869.0\n",
            "dtype: float64\n",
            "<class 'pandas.core.series.Series'>\n",
            "Class frequency for subject 1day 1round 2\n",
            "class\n",
            "1    913.0\n",
            "2    907.0\n",
            "3    883.0\n",
            "4    906.0\n",
            "5    921.0\n",
            "6    900.0\n",
            "7    896.0\n",
            "8    923.0\n",
            "dtype: float64\n",
            "<class 'pandas.core.series.Series'>\n",
            "Class frequency for subject 1day 1round 3\n",
            "class\n",
            "1    907.0\n",
            "2    908.0\n",
            "3    898.0\n",
            "4    737.0\n",
            "5    917.0\n",
            "6    902.0\n",
            "7    903.0\n",
            "8    918.0\n",
            "dtype: float64\n",
            "<class 'pandas.core.series.Series'>\n"
          ],
          "name": "stdout"
        }
      ]
    },
    {
      "cell_type": "markdown",
      "metadata": {
        "id": "aXJZYPJJzkUj"
      },
      "source": [
        "## **Train and Test separation**"
      ]
    },
    {
      "cell_type": "code",
      "metadata": {
        "id": "zHKSrU8Tx-ej"
      },
      "source": [
        "1#Train Test Seperation\n",
        "df_train= [[[0] * N_rounds]*N_Days]*N_Subj # Train dataframe for all rounds for all subjects for all days\n",
        "df_test = [[[0] * N_rounds]*N_Days]*N_Subj # Test dataframe for all rounds for all subjects for all days\n",
        "def Train_Test_Sep(df):\n",
        "  Trainset_class=[]\n",
        "  Testset_class=[]\n",
        "  for i in range(1,9):\n",
        "    class_group = df.loc[df['class'] == i]\n",
        "    Move_group=class_group.move.unique()\n",
        "    Train1=df.loc[df['move'] ==Move_group[0]]\n",
        "    Train2=df.loc[df['move'] ==Move_group[1]]\n",
        "    Train3=df.loc[df['move'] ==Move_group[2]]\n",
        "    Test1=df.loc[df['move'] ==Move_group[3]]\n",
        "    if len(Move_group)==5:\n",
        "      Test2=df.loc[df['move'] ==Move_group[4]]\n",
        "      Testset_class.append(pd.concat((Test1,Test2)))\n",
        "    else:\n",
        "      Testset_class.append(Test1)\n",
        "    Trainset_class.append(pd.concat((Train1,Train2,Train3)))\n",
        "  Trainset=Trainset_class[0]\n",
        "  Testset=Testset_class[0]\n",
        "\n",
        "  for i in range(1,8):\n",
        "    Trainset=np.vstack((Trainset,Trainset_class[i]))\n",
        "    Testset=np.vstack((Testset,Testset_class[i]))\n",
        "  df_Train = pd.DataFrame(data=Trainset, columns=cl_names)\n",
        "  df_Test =  pd.DataFrame(data=Testset, columns=cl_names)\n",
        " \n",
        "  return df_Train,df_Test\n",
        "\n",
        "for i in range(0,N_Subj):\n",
        "  for j in range(0,N_Days):\n",
        "    for k in range(0,N_rounds):\n",
        "      df_train[i][j][k],df_test[i][j][k] = Train_Test_Sep(df[i][j][k])\n"
      ],
      "execution_count": 15,
      "outputs": []
    },
    {
      "cell_type": "code",
      "metadata": {
        "id": "RZb2tQlU9u7L",
        "colab": {
          "base_uri": "https://localhost:8080/"
        },
        "outputId": "3c3b46b1-ce04-4d38-8dee-3e2a61cf3c77"
      },
      "source": [
        "for i in range(0,N_Subj):\n",
        "  for j in range(0,N_Days):\n",
        "    for k in range(0,N_rounds):\n",
        "      print(\"Train Class frequency for subject \"+str(i+1)+\"day \"+str(j+1)+ \"round \"+str(k+1))\n",
        "      Class_freq(df_train[i][j][k])"
      ],
      "execution_count": 16,
      "outputs": [
        {
          "output_type": "stream",
          "text": [
            "Train Class frequency for subject 1day 1round 1\n",
            "class\n",
            "1.0    526.0\n",
            "2.0    537.0\n",
            "3.0    531.0\n",
            "4.0    535.0\n",
            "5.0    557.0\n",
            "6.0    539.0\n",
            "7.0    518.0\n",
            "8.0    521.0\n",
            "dtype: float64\n",
            "<class 'pandas.core.series.Series'>\n",
            "Train Class frequency for subject 1day 1round 2\n",
            "class\n",
            "1.0    552.0\n",
            "2.0    545.0\n",
            "3.0    531.0\n",
            "4.0    549.0\n",
            "5.0    558.0\n",
            "6.0    545.0\n",
            "7.0    540.0\n",
            "8.0    555.0\n",
            "dtype: float64\n",
            "<class 'pandas.core.series.Series'>\n",
            "Train Class frequency for subject 1day 1round 3\n",
            "class\n",
            "1.0    545.0\n",
            "2.0    549.0\n",
            "3.0    547.0\n",
            "4.0    548.0\n",
            "5.0    560.0\n",
            "6.0    533.0\n",
            "7.0    542.0\n",
            "8.0    560.0\n",
            "dtype: float64\n",
            "<class 'pandas.core.series.Series'>\n"
          ],
          "name": "stdout"
        }
      ]
    },
    {
      "cell_type": "code",
      "metadata": {
        "id": "HyAkkyhj_cub",
        "colab": {
          "base_uri": "https://localhost:8080/"
        },
        "outputId": "0ca103b0-52bd-4a8f-eca4-cf9b7b70c02c"
      },
      "source": [
        "for i in range(0,N_Subj):\n",
        "  for j in range(0,N_Days):\n",
        "    for k in range(0,N_rounds):\n",
        "      print(\"Test Class frequency for subject \"+str(i+1)+\"day \"+str(j+1)+ \"round \"+str(k+1))\n",
        "      Class_freq(df_test[i][j][k])"
      ],
      "execution_count": 17,
      "outputs": [
        {
          "output_type": "stream",
          "text": [
            "Test Class frequency for subject 1day 1round 1\n",
            "class\n",
            "1.0    354.0\n",
            "2.0    346.0\n",
            "3.0    345.0\n",
            "4.0    344.0\n",
            "5.0    346.0\n",
            "6.0    339.0\n",
            "7.0    344.0\n",
            "8.0    348.0\n",
            "dtype: float64\n",
            "<class 'pandas.core.series.Series'>\n",
            "Test Class frequency for subject 1day 1round 2\n",
            "class\n",
            "1.0    361.0\n",
            "2.0    362.0\n",
            "3.0    352.0\n",
            "4.0    357.0\n",
            "5.0    363.0\n",
            "6.0    355.0\n",
            "7.0    356.0\n",
            "8.0    368.0\n",
            "dtype: float64\n",
            "<class 'pandas.core.series.Series'>\n",
            "Test Class frequency for subject 1day 1round 3\n",
            "class\n",
            "1.0    362.0\n",
            "2.0    359.0\n",
            "3.0    351.0\n",
            "4.0    189.0\n",
            "5.0    357.0\n",
            "6.0    369.0\n",
            "7.0    361.0\n",
            "8.0    358.0\n",
            "dtype: float64\n",
            "<class 'pandas.core.series.Series'>\n"
          ],
          "name": "stdout"
        }
      ]
    },
    {
      "cell_type": "code",
      "metadata": {
        "id": "8ZqbLKdKGA5a"
      },
      "source": [
        ""
      ],
      "execution_count": 17,
      "outputs": []
    },
    {
      "cell_type": "markdown",
      "metadata": {
        "id": "U2UarQCLlCQZ"
      },
      "source": [
        "## DATA AUGMENTATION"
      ]
    },
    {
      "cell_type": "code",
      "metadata": {
        "id": "KuQmR2quk_Sd",
        "colab": {
          "base_uri": "https://localhost:8080/"
        },
        "outputId": "4fb6fa80-d452-4b6b-aad6-15dfba080e07"
      },
      "source": [
        "print(df_train[0][0][0].shape)\n",
        "print(df_train[0][0][1].shape)\n",
        "print(df_train[0][0][2].shape)\n",
        "\n",
        "print(df_test[0][0][0].shape)\n",
        "print(df_test[0][0][1].shape)\n",
        "print(df_test[0][0][2].shape)"
      ],
      "execution_count": 18,
      "outputs": [
        {
          "output_type": "stream",
          "text": [
            "(869856, 13)\n",
            "(892500, 13)\n",
            "(894336, 13)\n",
            "(564264, 13)\n",
            "(586296, 13)\n",
            "(552024, 13)\n"
          ],
          "name": "stdout"
        }
      ]
    },
    {
      "cell_type": "code",
      "metadata": {
        "id": "VD9TL8feoYOl",
        "colab": {
          "base_uri": "https://localhost:8080/"
        },
        "outputId": "9d1fb195-d9af-45b3-a6b4-affb289b9ff2"
      },
      "source": [
        "df_train[0][0][0].iloc[:,0:10].shape\n"
      ],
      "execution_count": 19,
      "outputs": [
        {
          "output_type": "execute_result",
          "data": {
            "text/plain": [
              "(869856, 10)"
            ]
          },
          "metadata": {
            "tags": []
          },
          "execution_count": 19
        }
      ]
    },
    {
      "cell_type": "code",
      "metadata": {
        "id": "0tpIltThk_CP"
      },
      "source": [
        "def Add_Noise(df):\n",
        "    labels = df.iloc[:,10:13]\n",
        "    Noise = np.random.normal(0, noise_std, df.iloc[:,0:10].shape)\n",
        "    Noisy_Data = df.iloc[:,0:10] + Noise\n",
        "    Noisy_Data = pd.DataFrame(data=Noisy_Data, columns=channels_name)\n",
        "    Noisy_Data = pd.concat([Noisy_Data, labels],sort=False,axis=1)\n",
        "    return Noisy_Data"
      ],
      "execution_count": 20,
      "outputs": []
    },
    {
      "cell_type": "code",
      "metadata": {
        "id": "YK06Chp_k-3S",
        "colab": {
          "base_uri": "https://localhost:8080/",
          "height": 465
        },
        "outputId": "941ba3bf-71a0-4640-c223-571091709291"
      },
      "source": [
        "channels_name = ['CH1','CH2','CH3','CH4','CH5','CH6','CH7','CH8','CH9','CH10',]\n",
        "noisy_train= [[[0] * N_rounds]*N_Days]*N_Subj # Train dataframe for all rounds for all subjects for all days\n",
        "noisy_test = [[[0] * N_rounds]*N_Days]*N_Subj # Test dataframe for all rounds for all subjects for all days\n",
        "df_train_augmented= [[[0] * N_rounds]*N_Days]*N_Subj # Train dataframe for all rounds for all subjects for all days\n",
        "df_test_augmented = [[[0] * N_rounds]*N_Days]*N_Subj # Test dataframe for all rounds for all subjects for all days\n",
        "\n",
        "for i in range(0,N_Subj):\n",
        "  for j in range(0,N_Days):\n",
        "    for k in range(0,N_rounds):\n",
        "      noisy_train[i][j][k]= Add_Noise(df_train[i][j][k])\n",
        "      noisy_test[i][j][k]= Add_Noise(df_test[i][j][k])\n",
        "\n",
        "for i in range(0,N_Subj):\n",
        "  for j in range(0,N_Days):\n",
        "    for k in range(0,N_rounds):\n",
        "      df_train_augmented[i][j][k] = pd.concat([df_train[i][j][k], noisy_train[i][j][k]],sort=False,axis=0, ignore_index=True)\n",
        "      df_test_augmented[i][j][k] = pd.concat([df_test[i][j][k], noisy_test[i][j][k]],sort=False,axis=0, ignore_index=True)\n",
        "\n",
        "print(\"original: \", df_test[0][0][2].shape)\n",
        "print(\"Noisy :\", noisy_test[0][0][2].shape)\n",
        "print(\"Original + Noisy: \", df_test_augmented[0][0][2].shape)\n",
        "\n",
        "df_test_augmented[0][0][1]"
      ],
      "execution_count": 21,
      "outputs": [
        {
          "output_type": "stream",
          "text": [
            "original:  (552024, 13)\n",
            "Noisy : (552024, 13)\n",
            "Original + Noisy:  (1104048, 13)\n"
          ],
          "name": "stdout"
        },
        {
          "output_type": "execute_result",
          "data": {
            "text/html": [
              "<div>\n",
              "<style scoped>\n",
              "    .dataframe tbody tr th:only-of-type {\n",
              "        vertical-align: middle;\n",
              "    }\n",
              "\n",
              "    .dataframe tbody tr th {\n",
              "        vertical-align: top;\n",
              "    }\n",
              "\n",
              "    .dataframe thead th {\n",
              "        text-align: right;\n",
              "    }\n",
              "</style>\n",
              "<table border=\"1\" class=\"dataframe\">\n",
              "  <thead>\n",
              "    <tr style=\"text-align: right;\">\n",
              "      <th></th>\n",
              "      <th>CH1</th>\n",
              "      <th>CH2</th>\n",
              "      <th>CH3</th>\n",
              "      <th>CH4</th>\n",
              "      <th>CH5</th>\n",
              "      <th>CH6</th>\n",
              "      <th>CH7</th>\n",
              "      <th>CH8</th>\n",
              "      <th>CH9</th>\n",
              "      <th>CH10</th>\n",
              "      <th>class</th>\n",
              "      <th>move</th>\n",
              "      <th>window</th>\n",
              "    </tr>\n",
              "  </thead>\n",
              "  <tbody>\n",
              "    <tr>\n",
              "      <th>0</th>\n",
              "      <td>-0.007492</td>\n",
              "      <td>-0.000875</td>\n",
              "      <td>-0.007821</td>\n",
              "      <td>0.021520</td>\n",
              "      <td>-0.028902</td>\n",
              "      <td>-0.005509</td>\n",
              "      <td>0.007917</td>\n",
              "      <td>0.009414</td>\n",
              "      <td>0.099668</td>\n",
              "      <td>-0.001255</td>\n",
              "      <td>1.0</td>\n",
              "      <td>24.0</td>\n",
              "      <td>4211.0</td>\n",
              "    </tr>\n",
              "    <tr>\n",
              "      <th>1</th>\n",
              "      <td>-0.005554</td>\n",
              "      <td>0.002425</td>\n",
              "      <td>-0.001758</td>\n",
              "      <td>0.045530</td>\n",
              "      <td>-0.016449</td>\n",
              "      <td>-0.003794</td>\n",
              "      <td>0.011068</td>\n",
              "      <td>0.014600</td>\n",
              "      <td>0.082056</td>\n",
              "      <td>0.000403</td>\n",
              "      <td>1.0</td>\n",
              "      <td>24.0</td>\n",
              "      <td>4211.0</td>\n",
              "    </tr>\n",
              "    <tr>\n",
              "      <th>2</th>\n",
              "      <td>-0.003049</td>\n",
              "      <td>0.003532</td>\n",
              "      <td>0.004156</td>\n",
              "      <td>0.070694</td>\n",
              "      <td>-0.003666</td>\n",
              "      <td>-0.000949</td>\n",
              "      <td>0.014049</td>\n",
              "      <td>0.019474</td>\n",
              "      <td>0.063109</td>\n",
              "      <td>0.003086</td>\n",
              "      <td>1.0</td>\n",
              "      <td>24.0</td>\n",
              "      <td>4211.0</td>\n",
              "    </tr>\n",
              "    <tr>\n",
              "      <th>3</th>\n",
              "      <td>-0.001581</td>\n",
              "      <td>0.003541</td>\n",
              "      <td>0.007414</td>\n",
              "      <td>0.091704</td>\n",
              "      <td>0.005011</td>\n",
              "      <td>0.001914</td>\n",
              "      <td>0.017629</td>\n",
              "      <td>0.021841</td>\n",
              "      <td>0.047527</td>\n",
              "      <td>0.006613</td>\n",
              "      <td>1.0</td>\n",
              "      <td>24.0</td>\n",
              "      <td>4211.0</td>\n",
              "    </tr>\n",
              "    <tr>\n",
              "      <th>4</th>\n",
              "      <td>-0.001840</td>\n",
              "      <td>0.003941</td>\n",
              "      <td>0.007671</td>\n",
              "      <td>0.094260</td>\n",
              "      <td>0.006720</td>\n",
              "      <td>0.003432</td>\n",
              "      <td>0.021235</td>\n",
              "      <td>0.023720</td>\n",
              "      <td>0.036117</td>\n",
              "      <td>0.008884</td>\n",
              "      <td>1.0</td>\n",
              "      <td>24.0</td>\n",
              "      <td>4211.0</td>\n",
              "    </tr>\n",
              "    <tr>\n",
              "      <th>...</th>\n",
              "      <td>...</td>\n",
              "      <td>...</td>\n",
              "      <td>...</td>\n",
              "      <td>...</td>\n",
              "      <td>...</td>\n",
              "      <td>...</td>\n",
              "      <td>...</td>\n",
              "      <td>...</td>\n",
              "      <td>...</td>\n",
              "      <td>...</td>\n",
              "      <td>...</td>\n",
              "      <td>...</td>\n",
              "      <td>...</td>\n",
              "    </tr>\n",
              "    <tr>\n",
              "      <th>1172587</th>\n",
              "      <td>0.084229</td>\n",
              "      <td>-0.573219</td>\n",
              "      <td>0.046587</td>\n",
              "      <td>-1.042967</td>\n",
              "      <td>0.126007</td>\n",
              "      <td>0.715656</td>\n",
              "      <td>0.338167</td>\n",
              "      <td>1.034842</td>\n",
              "      <td>0.258873</td>\n",
              "      <td>0.099949</td>\n",
              "      <td>8.0</td>\n",
              "      <td>22.0</td>\n",
              "      <td>4031.0</td>\n",
              "    </tr>\n",
              "    <tr>\n",
              "      <th>1172588</th>\n",
              "      <td>0.248404</td>\n",
              "      <td>0.207275</td>\n",
              "      <td>0.471833</td>\n",
              "      <td>0.972242</td>\n",
              "      <td>-0.631436</td>\n",
              "      <td>0.449593</td>\n",
              "      <td>0.714421</td>\n",
              "      <td>-0.718614</td>\n",
              "      <td>-0.249660</td>\n",
              "      <td>0.462447</td>\n",
              "      <td>8.0</td>\n",
              "      <td>22.0</td>\n",
              "      <td>4031.0</td>\n",
              "    </tr>\n",
              "    <tr>\n",
              "      <th>1172589</th>\n",
              "      <td>0.129301</td>\n",
              "      <td>-0.424854</td>\n",
              "      <td>0.154217</td>\n",
              "      <td>-0.842742</td>\n",
              "      <td>0.184346</td>\n",
              "      <td>0.033311</td>\n",
              "      <td>-0.016822</td>\n",
              "      <td>-0.172911</td>\n",
              "      <td>0.141062</td>\n",
              "      <td>0.249213</td>\n",
              "      <td>8.0</td>\n",
              "      <td>22.0</td>\n",
              "      <td>4031.0</td>\n",
              "    </tr>\n",
              "    <tr>\n",
              "      <th>1172590</th>\n",
              "      <td>-0.396399</td>\n",
              "      <td>1.055271</td>\n",
              "      <td>0.491818</td>\n",
              "      <td>0.427386</td>\n",
              "      <td>-0.070973</td>\n",
              "      <td>-0.394928</td>\n",
              "      <td>-0.082382</td>\n",
              "      <td>0.311539</td>\n",
              "      <td>0.350550</td>\n",
              "      <td>-0.277406</td>\n",
              "      <td>8.0</td>\n",
              "      <td>22.0</td>\n",
              "      <td>4031.0</td>\n",
              "    </tr>\n",
              "    <tr>\n",
              "      <th>1172591</th>\n",
              "      <td>-0.500762</td>\n",
              "      <td>0.949505</td>\n",
              "      <td>-0.233498</td>\n",
              "      <td>-0.496847</td>\n",
              "      <td>-0.503083</td>\n",
              "      <td>0.853222</td>\n",
              "      <td>0.646740</td>\n",
              "      <td>0.441269</td>\n",
              "      <td>-0.564099</td>\n",
              "      <td>0.680274</td>\n",
              "      <td>8.0</td>\n",
              "      <td>22.0</td>\n",
              "      <td>4031.0</td>\n",
              "    </tr>\n",
              "  </tbody>\n",
              "</table>\n",
              "<p>1172592 rows × 13 columns</p>\n",
              "</div>"
            ],
            "text/plain": [
              "              CH1       CH2       CH3       CH4  ...      CH10  class  move  window\n",
              "0       -0.007492 -0.000875 -0.007821  0.021520  ... -0.001255    1.0  24.0  4211.0\n",
              "1       -0.005554  0.002425 -0.001758  0.045530  ...  0.000403    1.0  24.0  4211.0\n",
              "2       -0.003049  0.003532  0.004156  0.070694  ...  0.003086    1.0  24.0  4211.0\n",
              "3       -0.001581  0.003541  0.007414  0.091704  ...  0.006613    1.0  24.0  4211.0\n",
              "4       -0.001840  0.003941  0.007671  0.094260  ...  0.008884    1.0  24.0  4211.0\n",
              "...           ...       ...       ...       ...  ...       ...    ...   ...     ...\n",
              "1172587  0.084229 -0.573219  0.046587 -1.042967  ...  0.099949    8.0  22.0  4031.0\n",
              "1172588  0.248404  0.207275  0.471833  0.972242  ...  0.462447    8.0  22.0  4031.0\n",
              "1172589  0.129301 -0.424854  0.154217 -0.842742  ...  0.249213    8.0  22.0  4031.0\n",
              "1172590 -0.396399  1.055271  0.491818  0.427386  ... -0.277406    8.0  22.0  4031.0\n",
              "1172591 -0.500762  0.949505 -0.233498 -0.496847  ...  0.680274    8.0  22.0  4031.0\n",
              "\n",
              "[1172592 rows x 13 columns]"
            ]
          },
          "metadata": {
            "tags": []
          },
          "execution_count": 21
        }
      ]
    },
    {
      "cell_type": "markdown",
      "metadata": {
        "id": "_mKMaaHm3X5P"
      },
      "source": [
        "## Create a 3D rappresentation"
      ]
    },
    {
      "cell_type": "code",
      "metadata": {
        "id": "t0A17BWWZoKR"
      },
      "source": [
        "def _3D_representation(df):\n",
        "  T=df.shape[0]\n",
        "  p=int(T/window_length)\n",
        "  print(p)\n",
        "  df_3d = np.zeros((window_length, 13,p))\n",
        "  df_3d[:,:,0]=df[0:window_length]  \n",
        "  s=0\n",
        "  i=0\n",
        "  while s<T:    \n",
        "    df_3d[:,:,i]=df[s:s+window_length]\n",
        "    s=s+window_length\n",
        "    i+=1\n",
        "  return df_3d"
      ],
      "execution_count": 22,
      "outputs": []
    },
    {
      "cell_type": "code",
      "metadata": {
        "id": "gY6-bOJ-SOAV",
        "colab": {
          "base_uri": "https://localhost:8080/"
        },
        "outputId": "894477bf-c5f3-4436-e296-10647c726fa5"
      },
      "source": [
        "df_Train_3d=[[[0] * N_rounds]*N_Days]*N_Subj\n",
        "for i in range(0,N_Subj):\n",
        "  for j in range(0,N_Days):\n",
        "    for k in range(0,N_rounds):\n",
        "      df_Train_3d[i][j][k]= _3D_representation(df_train_augmented[i][j][k])\n",
        "print(df_Train_3d[0][0][0])"
      ],
      "execution_count": 23,
      "outputs": [
        {
          "output_type": "stream",
          "text": [
            "8528\n",
            "8750\n",
            "8768\n",
            "[[[-3.74220000e-02  2.66470000e-02 -7.52550000e-03 ... -7.85151692e-01\n",
            "   -7.30038547e-01  2.11905060e-01]\n",
            "  [-6.69700000e-02  1.89860000e-02 -6.83040000e-02 ...  1.59475560e+00\n",
            "   -1.24229386e+00  6.10789818e-01]\n",
            "  [-4.72200000e-03  4.41020000e-03 -1.17890000e-02 ...  4.21171634e-01\n",
            "    4.26200884e-01  1.12821368e-02]\n",
            "  ...\n",
            "  [ 1.00000000e+00  1.00000000e+00  1.00000000e+00 ...  8.00000000e+00\n",
            "    8.00000000e+00  8.00000000e+00]\n",
            "  [ 1.00000000e+00  1.00000000e+00  1.00000000e+00 ...  2.20000000e+01\n",
            "    2.20000000e+01  2.20000000e+01]\n",
            "  [ 1.00000000e+00  2.00000000e+00  3.00000000e+00 ...  3.88400000e+03\n",
            "    3.88500000e+03  3.88600000e+03]]\n",
            "\n",
            " [[-2.71060000e-02  1.35960000e-02  7.75990000e-03 ... -9.69752168e-01\n",
            "   -4.14978456e-02 -1.14624324e+00]\n",
            "  [-6.97920000e-02  1.69160000e-02 -6.41620000e-02 ... -3.86070071e-01\n",
            "   -2.63049602e-01  4.09094591e-01]\n",
            "  [-3.39290000e-03  6.47700000e-03 -3.18450000e-03 ... -3.14480589e-01\n",
            "    1.98946313e-01 -2.37900859e-01]\n",
            "  ...\n",
            "  [ 1.00000000e+00  1.00000000e+00  1.00000000e+00 ...  8.00000000e+00\n",
            "    8.00000000e+00  8.00000000e+00]\n",
            "  [ 1.00000000e+00  1.00000000e+00  1.00000000e+00 ...  2.20000000e+01\n",
            "    2.20000000e+01  2.20000000e+01]\n",
            "  [ 1.00000000e+00  2.00000000e+00  3.00000000e+00 ...  3.88400000e+03\n",
            "    3.88500000e+03  3.88600000e+03]]\n",
            "\n",
            " [[-1.83350000e-02  3.49230000e-03  1.33770000e-02 ... -2.92232295e-01\n",
            "   -3.85347076e-01 -3.30216046e-01]\n",
            "  [-7.02100000e-02  1.69150000e-02 -4.61180000e-02 ... -8.10949863e-01\n",
            "    1.02069868e+00 -7.23530320e-01]\n",
            "  [-1.63730000e-03  7.16070000e-03  2.55330000e-04 ...  9.51080599e-02\n",
            "    4.08241019e-02 -9.07160321e-03]\n",
            "  ...\n",
            "  [ 1.00000000e+00  1.00000000e+00  1.00000000e+00 ...  8.00000000e+00\n",
            "    8.00000000e+00  8.00000000e+00]\n",
            "  [ 1.00000000e+00  1.00000000e+00  1.00000000e+00 ...  2.20000000e+01\n",
            "    2.20000000e+01  2.20000000e+01]\n",
            "  [ 1.00000000e+00  2.00000000e+00  3.00000000e+00 ...  3.88400000e+03\n",
            "    3.88500000e+03  3.88600000e+03]]\n",
            "\n",
            " ...\n",
            "\n",
            " [[-9.85100000e-02  8.31690000e-02 -2.43200000e-01 ...  1.87002752e-01\n",
            "    8.32899027e-02 -4.09665413e-01]\n",
            "  [ 1.39640000e-01  3.52750000e-01 -1.79050000e-01 ...  4.56022009e-01\n",
            "   -5.05868608e-01  3.65488310e-01]\n",
            "  [ 2.42520000e-02  3.30740000e-02 -3.23690000e-02 ...  6.04604541e-01\n",
            "    2.92883086e-01 -4.84617870e-01]\n",
            "  ...\n",
            "  [ 1.00000000e+00  1.00000000e+00  1.00000000e+00 ...  8.00000000e+00\n",
            "    8.00000000e+00  8.00000000e+00]\n",
            "  [ 1.00000000e+00  1.00000000e+00  1.00000000e+00 ...  2.20000000e+01\n",
            "    2.20000000e+01  2.20000000e+01]\n",
            "  [ 1.00000000e+00  2.00000000e+00  3.00000000e+00 ...  3.88400000e+03\n",
            "    3.88500000e+03  3.88600000e+03]]\n",
            "\n",
            " [[-6.13670000e-02  7.15440000e-02 -2.22190000e-01 ...  4.13047089e-01\n",
            "   -1.11647086e-01 -3.95976951e-01]\n",
            "  [ 1.67190000e-01  3.17850000e-01 -2.29290000e-01 ...  2.12633486e-01\n",
            "    5.33868786e-02 -8.17937151e-01]\n",
            "  [ 1.66430000e-02  2.76750000e-02 -3.17280000e-02 ... -7.77048842e-01\n",
            "   -1.66544887e-01  1.16785710e-01]\n",
            "  ...\n",
            "  [ 1.00000000e+00  1.00000000e+00  1.00000000e+00 ...  8.00000000e+00\n",
            "    8.00000000e+00  8.00000000e+00]\n",
            "  [ 1.00000000e+00  1.00000000e+00  1.00000000e+00 ...  2.20000000e+01\n",
            "    2.20000000e+01  2.20000000e+01]\n",
            "  [ 1.00000000e+00  2.00000000e+00  3.00000000e+00 ...  3.88400000e+03\n",
            "    3.88500000e+03  3.88600000e+03]]\n",
            "\n",
            " [[-2.09850000e-02  1.16650000e-02 -2.03500000e-01 ...  1.68153660e-01\n",
            "    2.42737039e-01  4.01677357e-01]\n",
            "  [ 1.81310000e-01  2.61430000e-01 -2.59020000e-01 ...  1.93209564e-01\n",
            "    1.43784397e-01  9.96863207e-01]\n",
            "  [ 1.83130000e-04  1.31110000e-02 -2.97300000e-02 ... -4.92363103e-02\n",
            "    1.99241926e-01 -1.87133170e-01]\n",
            "  ...\n",
            "  [ 1.00000000e+00  1.00000000e+00  1.00000000e+00 ...  8.00000000e+00\n",
            "    8.00000000e+00  8.00000000e+00]\n",
            "  [ 1.00000000e+00  1.00000000e+00  1.00000000e+00 ...  2.20000000e+01\n",
            "    2.20000000e+01  2.20000000e+01]\n",
            "  [ 1.00000000e+00  2.00000000e+00  3.00000000e+00 ...  3.88400000e+03\n",
            "    3.88500000e+03  3.88600000e+03]]]\n"
          ],
          "name": "stdout"
        }
      ]
    },
    {
      "cell_type": "code",
      "metadata": {
        "id": "jYwwIJZGV--o",
        "colab": {
          "base_uri": "https://localhost:8080/"
        },
        "outputId": "6c6d0b37-8572-433c-add4-85a6c415ea45"
      },
      "source": [
        "Train_final_3d= df_Train_3d[0][0][0]\n",
        "for i in range(0,N_Subj):\n",
        "  for j in range(0,N_Days):\n",
        "    for k in range(0,N_rounds):\n",
        "      if i+j+k :\n",
        "       Train_final_3d=np.concatenate([Train_final_3d, df_Train_3d[i][j][k]], -1)\n",
        "Train_final_3d.shape     "
      ],
      "execution_count": 24,
      "outputs": [
        {
          "output_type": "execute_result",
          "data": {
            "text/plain": [
              "(204, 13, 26046)"
            ]
          },
          "metadata": {
            "tags": []
          },
          "execution_count": 24
        }
      ]
    },
    {
      "cell_type": "code",
      "metadata": {
        "id": "pTA3ihI0Ujtm",
        "colab": {
          "base_uri": "https://localhost:8080/"
        },
        "outputId": "530444c7-63a4-4c0e-d849-f856f22ae370"
      },
      "source": [
        "df_Test_3d=[[[0] * N_rounds]*N_Days]*N_Subj\n",
        "for i in range(0,N_Subj):\n",
        "  for j in range(0,N_Days):\n",
        "    for k in range(0,N_rounds):\n",
        "       df_Test_3d[i][j][k]= _3D_representation(df_test_augmented[i][j][k])\n",
        "print(df_Test_3d[0][0][0].shape)"
      ],
      "execution_count": 25,
      "outputs": [
        {
          "output_type": "stream",
          "text": [
            "5532\n",
            "5748\n",
            "5412\n",
            "(204, 13, 5532)\n"
          ],
          "name": "stdout"
        }
      ]
    },
    {
      "cell_type": "code",
      "metadata": {
        "id": "LfuK1k19VsKE",
        "colab": {
          "base_uri": "https://localhost:8080/"
        },
        "outputId": "fb1e0e72-e0e4-4316-967f-9a86e508d567"
      },
      "source": [
        "Test_final_3d= df_Test_3d[0][0][0]\n",
        "for i in range(0,N_Subj):\n",
        "  for j in range(0,N_Days):\n",
        "    for k in range(0,N_rounds):\n",
        "      if i+j+k:\n",
        "        Test_final_3d=np.concatenate([Test_final_3d, df_Test_3d[i][j][k]], -1)\n",
        "Test_final_3d.shape"
      ],
      "execution_count": 26,
      "outputs": [
        {
          "output_type": "execute_result",
          "data": {
            "text/plain": [
              "(204, 13, 16692)"
            ]
          },
          "metadata": {
            "tags": []
          },
          "execution_count": 26
        }
      ]
    },
    {
      "cell_type": "markdown",
      "metadata": {
        "id": "cyOg_M0h78Ed"
      },
      "source": [
        "## Shuffle the data"
      ]
    },
    {
      "cell_type": "code",
      "metadata": {
        "id": "1zM7IU4APfwz"
      },
      "source": [
        "# ASK IF IT IS RIGHT\n",
        "\n",
        "# SHUFFLE TRAIN DATA:\n",
        "\n",
        "# Create an array of dimention = to the 3° dimention of df_Train_3d, i.e. the number of windows\n",
        "ind_list = [i for i in range(0,Train_final_3d.shape[2])]  \n",
        "# Shuffle it\n",
        "np.random.shuffle(ind_list)\n",
        "# Change the order of windows based on the shuffled index\n",
        "df_Train_3d  = Train_final_3d[:,:,ind_list]"
      ],
      "execution_count": 27,
      "outputs": []
    },
    {
      "cell_type": "code",
      "metadata": {
        "id": "gMQsuzp877hB"
      },
      "source": [
        "# SHUFFLE TEST DATA:\n",
        "\n",
        "# Create an array of dimention = to the 3° dimention of df_Test_3d, i.e. the number of windows\n",
        "ind_list_2 = [i for i in range(0,Test_final_3d.shape[2])]  \n",
        "# Shuffle it\n",
        "np.random.shuffle(ind_list_2)\n",
        "# Change the order of windows based on the shuffled index\n",
        "df_Test_3d  = Test_final_3d[:,:,ind_list_2]\n"
      ],
      "execution_count": 28,
      "outputs": []
    },
    {
      "cell_type": "code",
      "metadata": {
        "id": "IHf0NMD_G6Xp",
        "colab": {
          "base_uri": "https://localhost:8080/"
        },
        "outputId": "56b6803d-c774-4354-8fdc-56dc7dbc2826"
      },
      "source": [
        "print(df_Test_3d.shape)\n",
        "print(df_Train_3d.shape)\n"
      ],
      "execution_count": 29,
      "outputs": [
        {
          "output_type": "stream",
          "text": [
            "(204, 13, 16692)\n",
            "(204, 13, 26046)\n"
          ],
          "name": "stdout"
        }
      ]
    },
    {
      "cell_type": "markdown",
      "metadata": {
        "id": "XCb2Dx4B3tFP"
      },
      "source": [
        "## X and Y separation"
      ]
    },
    {
      "cell_type": "code",
      "metadata": {
        "id": "1RnzthEm-QBt",
        "colab": {
          "base_uri": "https://localhost:8080/"
        },
        "outputId": "8e8f5492-73d8-4221-979b-f745f402ed02"
      },
      "source": [
        "# X_train is constituted by all the samples of all the windows for the 10 channels\n",
        "\n",
        "X_train=df_Train_3d[:,0:10,:]\n",
        "#print(X_train[:,:,10])\n",
        "print(X_train.shape)\n",
        "#print(X_train)\n"
      ],
      "execution_count": 30,
      "outputs": [
        {
          "output_type": "stream",
          "text": [
            "(204, 10, 26046)\n"
          ],
          "name": "stdout"
        }
      ]
    },
    {
      "cell_type": "code",
      "metadata": {
        "id": "04hBaxF4-l9I",
        "colab": {
          "base_uri": "https://localhost:8080/"
        },
        "outputId": "d3593a02-5034-45e0-fc24-70fd5fe76cb9"
      },
      "source": [
        "# X_test is constituted by all the samples of all the windows for the 10 channels.\n",
        "\n",
        "X_test=df_Test_3d[:,0:10,:]\n",
        "#print(X_test[:,:,10])\n",
        "print(X_test.shape)\n"
      ],
      "execution_count": 31,
      "outputs": [
        {
          "output_type": "stream",
          "text": [
            "(204, 10, 16692)\n"
          ],
          "name": "stdout"
        }
      ]
    },
    {
      "cell_type": "code",
      "metadata": {
        "id": "L_pLLOHbEIp_",
        "colab": {
          "base_uri": "https://localhost:8080/"
        },
        "outputId": "863e5ac1-7b17-483b-fda7-d3881e2d4d1d"
      },
      "source": [
        "# Y_train is an array of dimention equal to the number of windows, that contains\n",
        "# for each windows the corresponding class.\n",
        "\n",
        "Y_train=df_Train_3d[1,-3,:]   \n",
        "#print(Y_train[:])\n",
        "print(Y_train.shape)\n"
      ],
      "execution_count": 32,
      "outputs": [
        {
          "output_type": "stream",
          "text": [
            "(26046,)\n"
          ],
          "name": "stdout"
        }
      ]
    },
    {
      "cell_type": "code",
      "metadata": {
        "id": "Z-8MS0Kb_9qR",
        "colab": {
          "base_uri": "https://localhost:8080/"
        },
        "outputId": "27c18f03-b264-4f78-b6f0-39d36e1aa04d"
      },
      "source": [
        "# Y_test is an array of dimention equal to the number of windows, that contains\n",
        "# for each windows the corresponding class.\n",
        "\n",
        "Y_test=df_Test_3d[1,-3,:]\n",
        "#print(Y_test[:]);\n",
        "print(Y_test.shape)\n"
      ],
      "execution_count": 33,
      "outputs": [
        {
          "output_type": "stream",
          "text": [
            "(16692,)\n"
          ],
          "name": "stdout"
        }
      ]
    },
    {
      "cell_type": "code",
      "metadata": {
        "id": "H0mqYVqSuCmg",
        "colab": {
          "base_uri": "https://localhost:8080/"
        },
        "outputId": "d744d03f-6b64-4f88-ad1c-dbd2c8166484"
      },
      "source": [
        "from keras.utils import to_categorical\n",
        "\n",
        "Y_train_cat= to_categorical(Y_train-1)\n",
        "print(Y_train[:10])\n",
        "print(Y_train_cat[:10])\n",
        "\n",
        "Y_test_cat= to_categorical(Y_test-1)\n",
        "print(Y_test[:10])\n",
        "print(Y_test_cat[:10])\n",
        "\n",
        "Y_test_cat.shape"
      ],
      "execution_count": 34,
      "outputs": [
        {
          "output_type": "stream",
          "text": [
            "[8. 3. 6. 8. 3. 3. 1. 3. 5. 5.]\n",
            "[[0. 0. 0. 0. 0. 0. 0. 1.]\n",
            " [0. 0. 1. 0. 0. 0. 0. 0.]\n",
            " [0. 0. 0. 0. 0. 1. 0. 0.]\n",
            " [0. 0. 0. 0. 0. 0. 0. 1.]\n",
            " [0. 0. 1. 0. 0. 0. 0. 0.]\n",
            " [0. 0. 1. 0. 0. 0. 0. 0.]\n",
            " [1. 0. 0. 0. 0. 0. 0. 0.]\n",
            " [0. 0. 1. 0. 0. 0. 0. 0.]\n",
            " [0. 0. 0. 0. 1. 0. 0. 0.]\n",
            " [0. 0. 0. 0. 1. 0. 0. 0.]]\n",
            "[5. 7. 5. 3. 8. 8. 4. 4. 2. 5.]\n",
            "[[0. 0. 0. 0. 1. 0. 0. 0.]\n",
            " [0. 0. 0. 0. 0. 0. 1. 0.]\n",
            " [0. 0. 0. 0. 1. 0. 0. 0.]\n",
            " [0. 0. 1. 0. 0. 0. 0. 0.]\n",
            " [0. 0. 0. 0. 0. 0. 0. 1.]\n",
            " [0. 0. 0. 0. 0. 0. 0. 1.]\n",
            " [0. 0. 0. 1. 0. 0. 0. 0.]\n",
            " [0. 0. 0. 1. 0. 0. 0. 0.]\n",
            " [0. 1. 0. 0. 0. 0. 0. 0.]\n",
            " [0. 0. 0. 0. 1. 0. 0. 0.]]\n"
          ],
          "name": "stdout"
        },
        {
          "output_type": "execute_result",
          "data": {
            "text/plain": [
              "(16692, 8)"
            ]
          },
          "metadata": {
            "tags": []
          },
          "execution_count": 34
        }
      ]
    },
    {
      "cell_type": "code",
      "metadata": {
        "id": "uwWwL-duuCkw",
        "colab": {
          "base_uri": "https://localhost:8080/"
        },
        "outputId": "4773d331-4f50-4735-aec2-7abee90e5736"
      },
      "source": [
        "print(X_train.shape)\n",
        "X_train = np.swapaxes(X_train,0,2)\n",
        "print(X_train.shape)\n",
        "X_train = np.swapaxes(X_train,1,2)\n",
        "print(X_train.shape)\n",
        "\n"
      ],
      "execution_count": 35,
      "outputs": [
        {
          "output_type": "stream",
          "text": [
            "(204, 10, 26046)\n",
            "(26046, 10, 204)\n",
            "(26046, 204, 10)\n"
          ],
          "name": "stdout"
        }
      ]
    },
    {
      "cell_type": "code",
      "metadata": {
        "id": "lALWTgjlfEHH",
        "colab": {
          "base_uri": "https://localhost:8080/"
        },
        "outputId": "80e6b3ed-2153-4a08-dc42-9ec9a1ab855a"
      },
      "source": [
        "print(X_test.shape)\n",
        "X_test = np.swapaxes(X_test,0,2)\n",
        "print(X_test.shape)\n",
        "X_test = np.swapaxes(X_test,1,2)\n",
        "print(X_test.shape)"
      ],
      "execution_count": 36,
      "outputs": [
        {
          "output_type": "stream",
          "text": [
            "(204, 10, 16692)\n",
            "(16692, 10, 204)\n",
            "(16692, 204, 10)\n"
          ],
          "name": "stdout"
        }
      ]
    },
    {
      "cell_type": "code",
      "metadata": {
        "id": "pvki5JYaegtj",
        "colab": {
          "base_uri": "https://localhost:8080/"
        },
        "outputId": "10334da3-3299-428e-a587-a902bef3d152"
      },
      "source": [
        "\n",
        "X_train = X_train.reshape(X_train.shape[0], X_train.shape[1], X_train.shape[2],1)\n",
        "X_test  = X_test.reshape(X_test.shape[0], X_test.shape[1], X_test.shape[2],1)\n",
        "print(X_train.shape)\n",
        "print(X_test.shape)"
      ],
      "execution_count": 37,
      "outputs": [
        {
          "output_type": "stream",
          "text": [
            "(26046, 204, 10, 1)\n",
            "(16692, 204, 10, 1)\n"
          ],
          "name": "stdout"
        }
      ]
    },
    {
      "cell_type": "code",
      "metadata": {
        "id": "91JxS0e4egpN"
      },
      "source": [
        ""
      ],
      "execution_count": 37,
      "outputs": []
    },
    {
      "cell_type": "code",
      "metadata": {
        "id": "uLYGjob8egjQ"
      },
      "source": [
        ""
      ],
      "execution_count": 37,
      "outputs": []
    },
    {
      "cell_type": "markdown",
      "metadata": {
        "id": "DGHJ0QpT6C-B"
      },
      "source": [
        "# CNN "
      ]
    },
    {
      "cell_type": "code",
      "metadata": {
        "id": "GmsFXmDjGCDJ"
      },
      "source": [
        "import tensorflow as tf\n",
        "from tensorflow import keras"
      ],
      "execution_count": 38,
      "outputs": []
    },
    {
      "cell_type": "code",
      "metadata": {
        "id": "EWL2CeJGtUyk"
      },
      "source": [
        "import pandas as pd\n",
        "\n",
        "from sklearn.metrics import accuracy_score\n",
        "from sklearn.model_selection import train_test_split\n",
        "\n",
        "# keras import\n",
        "from keras.models import Sequential\n",
        "from keras.layers import Dense, Dropout, Conv2D, MaxPooling2D, AveragePooling2D, Flatten\n",
        "from keras.utils import to_categorical\n",
        "from keras.callbacks import EarlyStopping\n",
        "\n",
        "# hyperparameter optimization\n",
        "from sklearn.model_selection import GridSearchCV\n",
        "from keras.wrappers.scikit_learn import KerasClassifier\n",
        "\n",
        "# data augmentation\n",
        "from keras.preprocessing.image import ImageDataGenerator\n",
        "\n",
        "# visualisation\n",
        "import matplotlib.pyplot as plt\n",
        "import matplotlib.image as mpimg\n",
        "import seaborn as sns"
      ],
      "execution_count": 39,
      "outputs": []
    },
    {
      "cell_type": "code",
      "metadata": {
        "id": "BWzUwoHEcNeR"
      },
      "source": [
        "cnn_model = keras.Sequential([\n",
        "                              \n",
        "                              keras.layers.Conv2D(filters=32, kernel_size= (3,3), strides= (2,1),padding='same',  \n",
        "                                                  activation='relu', input_shape=(window_length, 10,1)),  \n",
        "                              keras.layers.MaxPooling2D(pool_size=(3,1)),  \n",
        "                              \n",
        "                              keras.layers.Dropout(0.5),\n",
        "                              keras.layers.Conv2D(filters=64, kernel_size=(3,1),strides= (2,1),\n",
        "                                                   padding='same', activation='relu'),\n",
        "                              keras.layers.MaxPooling2D(pool_size=(2,1)),  \n",
        "                              \n",
        "                              keras.layers.Dropout(0.5),\n",
        "                              keras.layers.Conv2D(filters=32, kernel_size= (2,1),strides= (1,1),\n",
        "                                                  padding='same', activation='relu'),\n",
        "                              keras.layers.MaxPooling2D(pool_size=(2,1)),  \n",
        "                                                                             \n",
        "                              keras.layers.Flatten(),\n",
        "\n",
        "                              keras.layers.Dense(64, activation=tf.nn.relu),\n",
        "                                               \n",
        "                              keras.layers.Dense(8, activation=tf.nn.softmax) \n",
        "\n",
        "                              ])"
      ],
      "execution_count": 40,
      "outputs": []
    },
    {
      "cell_type": "code",
      "metadata": {
        "id": "-oMrq6cccWJq",
        "colab": {
          "base_uri": "https://localhost:8080/"
        },
        "outputId": "28f2db99-4f57-48a0-ac56-a1cc1e095d0a"
      },
      "source": [
        "cnn_model.summary()"
      ],
      "execution_count": 41,
      "outputs": [
        {
          "output_type": "stream",
          "text": [
            "Model: \"sequential\"\n",
            "_________________________________________________________________\n",
            "Layer (type)                 Output Shape              Param #   \n",
            "=================================================================\n",
            "conv2d (Conv2D)              (None, 102, 10, 32)       320       \n",
            "_________________________________________________________________\n",
            "max_pooling2d (MaxPooling2D) (None, 34, 10, 32)        0         \n",
            "_________________________________________________________________\n",
            "dropout (Dropout)            (None, 34, 10, 32)        0         \n",
            "_________________________________________________________________\n",
            "conv2d_1 (Conv2D)            (None, 17, 10, 64)        6208      \n",
            "_________________________________________________________________\n",
            "max_pooling2d_1 (MaxPooling2 (None, 8, 10, 64)         0         \n",
            "_________________________________________________________________\n",
            "dropout_1 (Dropout)          (None, 8, 10, 64)         0         \n",
            "_________________________________________________________________\n",
            "conv2d_2 (Conv2D)            (None, 8, 10, 32)         4128      \n",
            "_________________________________________________________________\n",
            "max_pooling2d_2 (MaxPooling2 (None, 4, 10, 32)         0         \n",
            "_________________________________________________________________\n",
            "flatten (Flatten)            (None, 1280)              0         \n",
            "_________________________________________________________________\n",
            "dense (Dense)                (None, 64)                81984     \n",
            "_________________________________________________________________\n",
            "dense_1 (Dense)              (None, 8)                 520       \n",
            "=================================================================\n",
            "Total params: 93,160\n",
            "Trainable params: 93,160\n",
            "Non-trainable params: 0\n",
            "_________________________________________________________________\n"
          ],
          "name": "stdout"
        }
      ]
    },
    {
      "cell_type": "markdown",
      "metadata": {
        "id": "eBh0EA3WH3JO"
      },
      "source": [
        "# TRAIN"
      ]
    },
    {
      "cell_type": "code",
      "metadata": {
        "id": "Dr9MyNrJcWHs",
        "colab": {
          "base_uri": "https://localhost:8080/"
        },
        "outputId": "0d8a7929-f4e7-46c4-dd40-282c4d297e13"
      },
      "source": [
        "cnn_model.compile(\n",
        "                  optimizer=keras.optimizers.Adam(learning_rate=0.001),\n",
        "                  loss='categorical_crossentropy',\n",
        "                  metrics=['accuracy']\n",
        "                 )\n",
        "\n",
        "hist = cnn_model.fit(X_train, Y_train_cat, epochs=30)"
      ],
      "execution_count": 42,
      "outputs": [
        {
          "output_type": "stream",
          "text": [
            "Epoch 1/30\n",
            "814/814 [==============================] - 10s 3ms/step - loss: 1.5682 - accuracy: 0.4026\n",
            "Epoch 2/30\n",
            "814/814 [==============================] - 3s 3ms/step - loss: 0.9255 - accuracy: 0.6392\n",
            "Epoch 3/30\n",
            "814/814 [==============================] - 3s 3ms/step - loss: 0.8656 - accuracy: 0.6598\n",
            "Epoch 4/30\n",
            "814/814 [==============================] - 3s 3ms/step - loss: 0.8468 - accuracy: 0.6664\n",
            "Epoch 5/30\n",
            "814/814 [==============================] - 3s 3ms/step - loss: 0.8128 - accuracy: 0.6807\n",
            "Epoch 6/30\n",
            "814/814 [==============================] - 3s 3ms/step - loss: 0.7998 - accuracy: 0.6837\n",
            "Epoch 7/30\n",
            "814/814 [==============================] - 3s 3ms/step - loss: 0.7794 - accuracy: 0.6952\n",
            "Epoch 8/30\n",
            "814/814 [==============================] - 3s 3ms/step - loss: 0.7596 - accuracy: 0.7070\n",
            "Epoch 9/30\n",
            "814/814 [==============================] - 3s 3ms/step - loss: 0.7452 - accuracy: 0.7181\n",
            "Epoch 10/30\n",
            "814/814 [==============================] - 3s 3ms/step - loss: 0.7446 - accuracy: 0.7107\n",
            "Epoch 11/30\n",
            "814/814 [==============================] - 3s 3ms/step - loss: 0.7390 - accuracy: 0.7159\n",
            "Epoch 12/30\n",
            "814/814 [==============================] - 3s 3ms/step - loss: 0.7207 - accuracy: 0.7213\n",
            "Epoch 13/30\n",
            "814/814 [==============================] - 2s 3ms/step - loss: 0.7144 - accuracy: 0.7235\n",
            "Epoch 14/30\n",
            "814/814 [==============================] - 3s 3ms/step - loss: 0.7072 - accuracy: 0.7258\n",
            "Epoch 15/30\n",
            "814/814 [==============================] - 2s 3ms/step - loss: 0.7010 - accuracy: 0.7282\n",
            "Epoch 16/30\n",
            "814/814 [==============================] - 3s 3ms/step - loss: 0.6975 - accuracy: 0.7305\n",
            "Epoch 17/30\n",
            "814/814 [==============================] - 3s 3ms/step - loss: 0.6903 - accuracy: 0.7352\n",
            "Epoch 18/30\n",
            "814/814 [==============================] - 3s 3ms/step - loss: 0.6876 - accuracy: 0.7358\n",
            "Epoch 19/30\n",
            "814/814 [==============================] - 3s 3ms/step - loss: 0.6907 - accuracy: 0.7336\n",
            "Epoch 20/30\n",
            "814/814 [==============================] - 2s 3ms/step - loss: 0.6866 - accuracy: 0.7385\n",
            "Epoch 21/30\n",
            "814/814 [==============================] - 2s 3ms/step - loss: 0.6825 - accuracy: 0.7389\n",
            "Epoch 22/30\n",
            "814/814 [==============================] - 3s 3ms/step - loss: 0.6723 - accuracy: 0.7426\n",
            "Epoch 23/30\n",
            "814/814 [==============================] - 3s 3ms/step - loss: 0.6732 - accuracy: 0.7414\n",
            "Epoch 24/30\n",
            "814/814 [==============================] - 3s 3ms/step - loss: 0.6717 - accuracy: 0.7416\n",
            "Epoch 25/30\n",
            "814/814 [==============================] - 3s 3ms/step - loss: 0.6720 - accuracy: 0.7395\n",
            "Epoch 26/30\n",
            "814/814 [==============================] - 2s 3ms/step - loss: 0.6723 - accuracy: 0.7410\n",
            "Epoch 27/30\n",
            "814/814 [==============================] - 3s 3ms/step - loss: 0.6574 - accuracy: 0.7471\n",
            "Epoch 28/30\n",
            "814/814 [==============================] - 2s 3ms/step - loss: 0.6653 - accuracy: 0.7431\n",
            "Epoch 29/30\n",
            "814/814 [==============================] - 3s 3ms/step - loss: 0.6629 - accuracy: 0.7426\n",
            "Epoch 30/30\n",
            "814/814 [==============================] - 3s 3ms/step - loss: 0.6534 - accuracy: 0.7467\n"
          ],
          "name": "stdout"
        }
      ]
    },
    {
      "cell_type": "markdown",
      "metadata": {
        "id": "6M6yeLkNH9oi"
      },
      "source": [
        "# TEST"
      ]
    },
    {
      "cell_type": "code",
      "metadata": {
        "id": "CPrE9VRPIiYK",
        "colab": {
          "base_uri": "https://localhost:8080/"
        },
        "outputId": "a12fd552-5963-4102-b227-108903ec0354"
      },
      "source": [
        "import time\n",
        "t0= time.clock()\n",
        "y_pred = cnn_model.predict(X_test)\n",
        "t1 = time.clock() - t0\n",
        "print(\"Total time : %f [s]\\nTime for a window : %f [s]\" %(t1,t1/X_test.shape[0]))"
      ],
      "execution_count": 43,
      "outputs": [
        {
          "output_type": "stream",
          "text": [
            "Total time : 0.912824 [s]\n",
            "Time for a window : 0.000055 [s]\n"
          ],
          "name": "stdout"
        }
      ]
    },
    {
      "cell_type": "code",
      "metadata": {
        "id": "x_7j7tzussCP"
      },
      "source": [
        "y_pred = np.argmax(y_pred, axis=1)\n",
        "y_pred_cat = to_categorical(y_pred)"
      ],
      "execution_count": 44,
      "outputs": []
    },
    {
      "cell_type": "code",
      "metadata": {
        "id": "WpPAbRUYHz69",
        "colab": {
          "base_uri": "https://localhost:8080/"
        },
        "outputId": "771dcbc6-e0b3-40af-b3a3-57b295861cda"
      },
      "source": [
        "test_loss, test_acc = cnn_model.evaluate(X_test, Y_test_cat)\n",
        "print(\"Test accuracy:\", test_acc)"
      ],
      "execution_count": 45,
      "outputs": [
        {
          "output_type": "stream",
          "text": [
            "522/522 [==============================] - 1s 2ms/step - loss: 1.0007 - accuracy: 0.6232\n",
            "Test accuracy: 0.6232326626777649\n"
          ],
          "name": "stdout"
        }
      ]
    },
    {
      "cell_type": "code",
      "metadata": {
        "id": "-oFYUZgHquNN",
        "colab": {
          "base_uri": "https://localhost:8080/"
        },
        "outputId": "83d3b16d-7917-4758-ddd4-f4925a718dc2"
      },
      "source": [
        "acc =  metrics.accuracy_score(Y_test_cat,y_pred_cat)\n",
        "print(\"Test accuracy:\",acc)"
      ],
      "execution_count": 46,
      "outputs": [
        {
          "output_type": "stream",
          "text": [
            "Test accuracy: 0.6232326863167985\n"
          ],
          "name": "stdout"
        }
      ]
    },
    {
      "cell_type": "code",
      "metadata": {
        "id": "FAZZncTh9FEe",
        "colab": {
          "base_uri": "https://localhost:8080/",
          "height": 296
        },
        "outputId": "cdaa5a7a-7cc0-4964-e2fe-883298ad1b4e"
      },
      "source": [
        "sns.heatmap(confusion_matrix(Y_test-1, y_pred), annot=True, fmt='d', cmap=\"Blues\", cbar=False);\n",
        "plt.ylabel('True Label')\n",
        "plt.xlabel('Predicted Label')\n",
        "print(acc)\n"
      ],
      "execution_count": 47,
      "outputs": [
        {
          "output_type": "stream",
          "text": [
            "0.6232326863167985\n"
          ],
          "name": "stdout"
        },
        {
          "output_type": "display_data",
          "data": {
            "image/png": "[encoded data removed]",
            "text/plain": [
              "<Figure size 432x288 with 1 Axes>"
            ]
          },
          "metadata": {
            "tags": [],
            "needs_background": "light"
          }
        }
      ]
    },
    {
      "cell_type": "code",
      "metadata": {
        "id": "ZHYX2YsoZERV",
        "colab": {
          "base_uri": "https://localhost:8080/"
        },
        "outputId": "2076b3e8-9a8f-4ac2-8908-bce97c689743"
      },
      "source": [
        "print(\"Window Size [ms]: %.0f \" % (Window_time))\n",
        "print(f\"Stride: {Perc} % \\n\")\n",
        "print(\"CNN  accuracy - TRAIN: %f \" % (hist.history['accuracy'][-1] ))\n",
        "print(\"CNN  accuracy - TEST: %f \" % (test_acc))\n",
        "print(\"Total time : %f [s]\\nTime for a window : %f [s]\" %(t1,t1/X_test.shape[0]))"
      ],
      "execution_count": 48,
      "outputs": [
        {
          "output_type": "stream",
          "text": [
            "Window Size [ms]: 100 \n",
            "Stride: 25 % \n",
            "\n",
            "CNN  accuracy - TRAIN: 0.745182 \n",
            "CNN  accuracy - TEST: 0.623233 \n",
            "Total time : 0.912824 [s]\n",
            "Time for a window : 0.000055 [s]\n"
          ],
          "name": "stdout"
        }
      ]
    },
    {
      "cell_type": "code",
      "metadata": {
        "id": "QNsmp2XQz7Jz",
        "colab": {
          "base_uri": "https://localhost:8080/"
        },
        "outputId": "41e004dc-29c6-43d3-e6c2-5ac5142e041c"
      },
      "source": [
        "(t1/X_test.shape[0]*1000)+Window_time\n",
        "\n"
      ],
      "execution_count": 49,
      "outputs": [
        {
          "output_type": "execute_result",
          "data": {
            "text/plain": [
              "100.05468631679847"
            ]
          },
          "metadata": {
            "tags": []
          },
          "execution_count": 49
        }
      ]
    },
    {
      "cell_type": "code",
      "metadata": {
        "id": "T2EQDVmjytOU"
      },
      "source": [
        "parameters = [Window_time, Perc,noise_std, test_acc, (t1/X_test.shape[0]*1000)+Window_time];\n",
        "import csv\n",
        "with open('/content/drive/MyDrive/NEURO_PROJECT/ACCURACY_TIME_DATA/CNN/CNN_NOISE_day1.csv', mode='a') as parameter_file:\n",
        "  parameter_writer = csv.writer(parameter_file, delimiter=',', quotechar='\"', quoting=csv.QUOTE_MINIMAL)\n",
        "  parameter_writer.writerow(parameters)"
      ],
      "execution_count": 50,
      "outputs": []
    },
    {
      "cell_type": "code",
      "metadata": {
        "id": "F8AAvIOz931L"
      },
      "source": [
        ""
      ],
      "execution_count": 50,
      "outputs": []
    }
  ]
}