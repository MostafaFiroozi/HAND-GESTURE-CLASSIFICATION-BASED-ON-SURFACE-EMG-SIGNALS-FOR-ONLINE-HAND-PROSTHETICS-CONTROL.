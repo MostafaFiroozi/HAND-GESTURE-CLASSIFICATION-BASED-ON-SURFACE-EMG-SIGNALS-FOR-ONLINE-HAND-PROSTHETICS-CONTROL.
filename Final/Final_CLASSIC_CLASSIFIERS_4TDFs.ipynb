{
  "nbformat": 4,
  "nbformat_minor": 0,
  "metadata": {
    "accelerator": "GPU",
    "colab": {
      "name": "Final_NoGrid_CLASSIC CLASSIFIERS  4TDFs.ipynb",
      "provenance": [],
      "collapsed_sections": [],
      "toc_visible": true
    },
    "kernelspec": {
      "display_name": "Python 3",
      "name": "python3"
    }
  },
  "cells": [
    {
      "cell_type": "markdown",
      "metadata": {
        "id": "WPiAbSJN0Lle"
      },
      "source": [
        "# Hand gesture classification based on CNN\n",
        "\n"
      ]
    },
    {
      "cell_type": "code",
      "metadata": {
        "colab": {
          "base_uri": "https://localhost:8080/"
        },
        "id": "Jhiz9Wk64AGI",
        "outputId": "1da062e9-f9dd-4340-958d-b83b9f0b4e3d"
      },
      "source": [
        "from google.colab import drive\n",
        "drive.mount('/content/drive')"
      ],
      "execution_count": 3,
      "outputs": [
        {
          "output_type": "stream",
          "text": [
            "Drive already mounted at /content/drive; to attempt to forcibly remount, call drive.mount(\"/content/drive\", force_remount=True).\n"
          ],
          "name": "stdout"
        }
      ]
    },
    {
      "cell_type": "code",
      "metadata": {
        "id": "tfyj0IDZZBXM"
      },
      "source": [
        "import pandas as pd # version 0.24.2\n",
        "import numpy as np #version 1.16.4\n",
        "import random\n",
        "import matplotlib.pyplot as plt #matplotlib version 3.1.0\n",
        "from sklearn.preprocessing import StandardScaler\n",
        "from sklearn.svm import SVC\n",
        "from sklearn import metrics\n",
        "from sklearn.metrics import confusion_matrix\n",
        "from sklearn.metrics import classification_report\n",
        "import seaborn as sns #version 0.9.0\n",
        "from sklearn.model_selection import GridSearchCV\n",
        "import math "
      ],
      "execution_count": 4,
      "outputs": []
    },
    {
      "cell_type": "code",
      "metadata": {
        "colab": {
          "base_uri": "https://localhost:8080/"
        },
        "id": "9dXSyPQlx-9c",
        "outputId": "d1e09fd5-411c-4343-9c48-cdc493daa9b9"
      },
      "source": [
        "Window_time=100\n",
        "Perc = 25\n",
        "window_length = math.floor(Window_time*2048/1000)\n",
        "stride_length = math.floor(window_length*(Perc/100))\n",
        "print(window_length,stride_length)"
      ],
      "execution_count": 5,
      "outputs": [
        {
          "output_type": "stream",
          "text": [
            "204 51\n"
          ],
          "name": "stdout"
        }
      ]
    },
    {
      "cell_type": "markdown",
      "metadata": {
        "id": "HAwMLuaHx13N"
      },
      "source": [
        "## Import the Datasets"
      ]
    },
    {
      "cell_type": "code",
      "metadata": {
        "colab": {
          "base_uri": "https://localhost:8080/"
        },
        "id": "har98Auw1pj0",
        "outputId": "0d77b36b-33e3-41fb-c2f1-fd196561c2f6"
      },
      "source": [
        "N_Subj = 1\n",
        "N_Days = 1\n",
        "N_rounds= 3\n",
        "df= [[[0] * N_rounds]*N_Days]*N_Subj # dataframe for all rounds for all subjects for all days\n",
        "print(df)\n",
        "#making a header for dataframe\n",
        "cl_names= []\n",
        "for i in range(1,11):\n",
        "    cl_names.append('CH'+str(i))\n",
        "cl_names.append('class') #column dedicated to show which class of movement this sample belongs to\n",
        "cl_names.append('move') #column dedicated to show which number of movement (out of 40 in each round) this sample belongs to\n",
        "cl_names.append('window')\n",
        "for i in range(0,N_Subj):\n",
        "  for j in range(0,N_Days):  \n",
        "   for k in range(0,N_rounds):\n",
        "    df[i][j][k] = pd.read_csv('/content/drive/MyDrive/Colab Notebooks/NEURO_PROJECT/FINAL DATA _ SUB1_DAY1/data/sbj'+str(i+1)+'_day'+str(j+1)+'_round'+str(k+1)+'_'+ str(Window_time)+'_'+str(Perc)+'.csv')\n",
        "    df[i][j][k].columns=cl_names\n",
        "    print(\"subj\"+str(i+1)+\"_day\"+str(j+3)+\"_Round\"+str(k+1))\n",
        "    print(\"Round1\",np.shape(df[i][j][k]))"
      ],
      "execution_count": 6,
      "outputs": [
        {
          "output_type": "stream",
          "text": [
            "[[[0, 0, 0]]]\n",
            "subj1_day3_Round1\n",
            "Round1 (1434120, 13)\n",
            "subj1_day3_Round2\n",
            "Round1 (1478796, 13)\n",
            "subj1_day3_Round3\n",
            "Round1 (1446360, 13)\n"
          ],
          "name": "stdout"
        }
      ]
    },
    {
      "cell_type": "code",
      "metadata": {
        "id": "PnltDxHR3OhX",
        "colab": {
          "base_uri": "https://localhost:8080/",
          "height": 355
        },
        "outputId": "0815792a-97b8-4b3a-bc1b-615417bfce26"
      },
      "source": [
        "#Day1_Subject2_Round1 shape\n",
        "df[0][0][0].head(10)"
      ],
      "execution_count": 7,
      "outputs": [
        {
          "output_type": "execute_result",
          "data": {
            "text/html": [
              "<div>\n",
              "<style scoped>\n",
              "    .dataframe tbody tr th:only-of-type {\n",
              "        vertical-align: middle;\n",
              "    }\n",
              "\n",
              "    .dataframe tbody tr th {\n",
              "        vertical-align: top;\n",
              "    }\n",
              "\n",
              "    .dataframe thead th {\n",
              "        text-align: right;\n",
              "    }\n",
              "</style>\n",
              "<table border=\"1\" class=\"dataframe\">\n",
              "  <thead>\n",
              "    <tr style=\"text-align: right;\">\n",
              "      <th></th>\n",
              "      <th>CH1</th>\n",
              "      <th>CH2</th>\n",
              "      <th>CH3</th>\n",
              "      <th>CH4</th>\n",
              "      <th>CH5</th>\n",
              "      <th>CH6</th>\n",
              "      <th>CH7</th>\n",
              "      <th>CH8</th>\n",
              "      <th>CH9</th>\n",
              "      <th>CH10</th>\n",
              "      <th>class</th>\n",
              "      <th>move</th>\n",
              "      <th>window</th>\n",
              "    </tr>\n",
              "  </thead>\n",
              "  <tbody>\n",
              "    <tr>\n",
              "      <th>0</th>\n",
              "      <td>-0.037422</td>\n",
              "      <td>-0.066970</td>\n",
              "      <td>-0.004722</td>\n",
              "      <td>-0.002298</td>\n",
              "      <td>0.009147</td>\n",
              "      <td>0.000264</td>\n",
              "      <td>0.030113</td>\n",
              "      <td>0.001229</td>\n",
              "      <td>-0.000046</td>\n",
              "      <td>0.024452</td>\n",
              "      <td>1</td>\n",
              "      <td>1</td>\n",
              "      <td>1</td>\n",
              "    </tr>\n",
              "    <tr>\n",
              "      <th>1</th>\n",
              "      <td>-0.027106</td>\n",
              "      <td>-0.069792</td>\n",
              "      <td>-0.003393</td>\n",
              "      <td>-0.001506</td>\n",
              "      <td>0.015246</td>\n",
              "      <td>0.010729</td>\n",
              "      <td>0.033083</td>\n",
              "      <td>0.002324</td>\n",
              "      <td>-0.017275</td>\n",
              "      <td>0.012365</td>\n",
              "      <td>1</td>\n",
              "      <td>1</td>\n",
              "      <td>1</td>\n",
              "    </tr>\n",
              "    <tr>\n",
              "      <th>2</th>\n",
              "      <td>-0.018335</td>\n",
              "      <td>-0.070210</td>\n",
              "      <td>-0.001637</td>\n",
              "      <td>-0.002423</td>\n",
              "      <td>0.015040</td>\n",
              "      <td>0.023082</td>\n",
              "      <td>0.037320</td>\n",
              "      <td>0.002860</td>\n",
              "      <td>-0.020864</td>\n",
              "      <td>0.027658</td>\n",
              "      <td>1</td>\n",
              "      <td>1</td>\n",
              "      <td>1</td>\n",
              "    </tr>\n",
              "    <tr>\n",
              "      <th>3</th>\n",
              "      <td>-0.012485</td>\n",
              "      <td>-0.066842</td>\n",
              "      <td>0.000101</td>\n",
              "      <td>-0.004762</td>\n",
              "      <td>0.013541</td>\n",
              "      <td>0.041201</td>\n",
              "      <td>0.037835</td>\n",
              "      <td>0.003687</td>\n",
              "      <td>-0.014293</td>\n",
              "      <td>0.056742</td>\n",
              "      <td>1</td>\n",
              "      <td>1</td>\n",
              "      <td>1</td>\n",
              "    </tr>\n",
              "    <tr>\n",
              "      <th>4</th>\n",
              "      <td>-0.004825</td>\n",
              "      <td>-0.060419</td>\n",
              "      <td>0.001824</td>\n",
              "      <td>-0.007347</td>\n",
              "      <td>0.013795</td>\n",
              "      <td>0.064046</td>\n",
              "      <td>0.031025</td>\n",
              "      <td>0.005208</td>\n",
              "      <td>-0.004321</td>\n",
              "      <td>0.062703</td>\n",
              "      <td>1</td>\n",
              "      <td>1</td>\n",
              "      <td>1</td>\n",
              "    </tr>\n",
              "    <tr>\n",
              "      <th>5</th>\n",
              "      <td>0.005364</td>\n",
              "      <td>-0.052430</td>\n",
              "      <td>0.003509</td>\n",
              "      <td>-0.008223</td>\n",
              "      <td>0.016031</td>\n",
              "      <td>0.087142</td>\n",
              "      <td>0.019538</td>\n",
              "      <td>0.006902</td>\n",
              "      <td>0.002390</td>\n",
              "      <td>0.029969</td>\n",
              "      <td>1</td>\n",
              "      <td>1</td>\n",
              "      <td>1</td>\n",
              "    </tr>\n",
              "    <tr>\n",
              "      <th>6</th>\n",
              "      <td>0.013969</td>\n",
              "      <td>-0.041837</td>\n",
              "      <td>0.003704</td>\n",
              "      <td>-0.006084</td>\n",
              "      <td>0.019951</td>\n",
              "      <td>0.097848</td>\n",
              "      <td>0.008052</td>\n",
              "      <td>0.007150</td>\n",
              "      <td>0.001886</td>\n",
              "      <td>-0.007631</td>\n",
              "      <td>1</td>\n",
              "      <td>1</td>\n",
              "      <td>1</td>\n",
              "    </tr>\n",
              "    <tr>\n",
              "      <th>7</th>\n",
              "      <td>0.018151</td>\n",
              "      <td>-0.027799</td>\n",
              "      <td>0.002206</td>\n",
              "      <td>-0.001399</td>\n",
              "      <td>0.023652</td>\n",
              "      <td>0.086413</td>\n",
              "      <td>-0.001507</td>\n",
              "      <td>0.006514</td>\n",
              "      <td>-0.002337</td>\n",
              "      <td>-0.010484</td>\n",
              "      <td>1</td>\n",
              "      <td>1</td>\n",
              "      <td>1</td>\n",
              "    </tr>\n",
              "    <tr>\n",
              "      <th>8</th>\n",
              "      <td>0.018671</td>\n",
              "      <td>-0.013399</td>\n",
              "      <td>0.001423</td>\n",
              "      <td>0.003602</td>\n",
              "      <td>0.024873</td>\n",
              "      <td>0.056382</td>\n",
              "      <td>-0.009276</td>\n",
              "      <td>0.007735</td>\n",
              "      <td>-0.002523</td>\n",
              "      <td>0.016994</td>\n",
              "      <td>1</td>\n",
              "      <td>1</td>\n",
              "      <td>1</td>\n",
              "    </tr>\n",
              "    <tr>\n",
              "      <th>9</th>\n",
              "      <td>0.016108</td>\n",
              "      <td>-0.001753</td>\n",
              "      <td>0.002477</td>\n",
              "      <td>0.005507</td>\n",
              "      <td>0.021791</td>\n",
              "      <td>0.019488</td>\n",
              "      <td>-0.013920</td>\n",
              "      <td>0.009651</td>\n",
              "      <td>0.004802</td>\n",
              "      <td>0.048708</td>\n",
              "      <td>1</td>\n",
              "      <td>1</td>\n",
              "      <td>1</td>\n",
              "    </tr>\n",
              "  </tbody>\n",
              "</table>\n",
              "</div>"
            ],
            "text/plain": [
              "        CH1       CH2       CH3       CH4  ...      CH10  class  move  window\n",
              "0 -0.037422 -0.066970 -0.004722 -0.002298  ...  0.024452      1     1       1\n",
              "1 -0.027106 -0.069792 -0.003393 -0.001506  ...  0.012365      1     1       1\n",
              "2 -0.018335 -0.070210 -0.001637 -0.002423  ...  0.027658      1     1       1\n",
              "3 -0.012485 -0.066842  0.000101 -0.004762  ...  0.056742      1     1       1\n",
              "4 -0.004825 -0.060419  0.001824 -0.007347  ...  0.062703      1     1       1\n",
              "5  0.005364 -0.052430  0.003509 -0.008223  ...  0.029969      1     1       1\n",
              "6  0.013969 -0.041837  0.003704 -0.006084  ... -0.007631      1     1       1\n",
              "7  0.018151 -0.027799  0.002206 -0.001399  ... -0.010484      1     1       1\n",
              "8  0.018671 -0.013399  0.001423  0.003602  ...  0.016994      1     1       1\n",
              "9  0.016108 -0.001753  0.002477  0.005507  ...  0.048708      1     1       1\n",
              "\n",
              "[10 rows x 13 columns]"
            ]
          },
          "metadata": {
            "tags": []
          },
          "execution_count": 7
        }
      ]
    },
    {
      "cell_type": "markdown",
      "metadata": {
        "id": "CD5gSNOaejZY"
      },
      "source": [
        "## Data exploration"
      ]
    },
    {
      "cell_type": "code",
      "metadata": {
        "id": "hytj9FS63ZcV",
        "colab": {
          "base_uri": "https://localhost:8080/"
        },
        "outputId": "12b324a2-291a-4647-b181-4174a4e916cb"
      },
      "source": [
        "#Print class freq for each round of subject 1\n",
        "# classes are from 1 to 8: 1 Flex, 2 Ext, 3 Sup, 4 Pron, 5 Open, 6 Pinch, 7 Lateral pinch, 8 Fist\n",
        "def Class_freq(df):\n",
        "  target_dist=df.groupby('class').size()/window_length  #number of windows for each type\n",
        "  print(target_dist)\n",
        "  print(type(target_dist))\n",
        "print(\"rounds class distribution\")\n",
        "for i in range(0,N_Subj):\n",
        "  for j in range(0,N_Days):\n",
        "    for k in range(0,N_rounds):\n",
        "     print(\"Class frequency for subject \"+str(i+1)+\"day \"+str(j+1)+ \"round \"+str(k+1))\n",
        "     Class_freq(df[i][j][k])"
      ],
      "execution_count": 8,
      "outputs": [
        {
          "output_type": "stream",
          "text": [
            "rounds class distribution\n",
            "Class frequency for subject 1day 1round 1\n",
            "class\n",
            "1    880.0\n",
            "2    883.0\n",
            "3    876.0\n",
            "4    879.0\n",
            "5    903.0\n",
            "6    878.0\n",
            "7    862.0\n",
            "8    869.0\n",
            "dtype: float64\n",
            "<class 'pandas.core.series.Series'>\n",
            "Class frequency for subject 1day 1round 2\n",
            "class\n",
            "1    913.0\n",
            "2    907.0\n",
            "3    883.0\n",
            "4    906.0\n",
            "5    921.0\n",
            "6    900.0\n",
            "7    896.0\n",
            "8    923.0\n",
            "dtype: float64\n",
            "<class 'pandas.core.series.Series'>\n",
            "Class frequency for subject 1day 1round 3\n",
            "class\n",
            "1    907.0\n",
            "2    908.0\n",
            "3    898.0\n",
            "4    737.0\n",
            "5    917.0\n",
            "6    902.0\n",
            "7    903.0\n",
            "8    918.0\n",
            "dtype: float64\n",
            "<class 'pandas.core.series.Series'>\n"
          ],
          "name": "stdout"
        }
      ]
    },
    {
      "cell_type": "markdown",
      "metadata": {
        "id": "aXJZYPJJzkUj"
      },
      "source": [
        "## **Train and Test separation**"
      ]
    },
    {
      "cell_type": "code",
      "metadata": {
        "id": "zHKSrU8Tx-ej"
      },
      "source": [
        "#Train Test Seperation\n",
        "df_train= [[[0] * N_rounds]*N_Days]*N_Subj # Train dataframe for all rounds for all subjects for all days\n",
        "df_test = [[[0] * N_rounds]*N_Days]*N_Subj # Test dataframe for all rounds for all subjects for all days\n",
        "def Train_Test_Sep(df):\n",
        "  Trainset_class=[]\n",
        "  Testset_class=[]\n",
        "  for i in range(1,9):\n",
        "    class_group = df.loc[df['class'] == i]\n",
        "    Move_group=class_group.move.unique()\n",
        "    Train1=df.loc[df['move'] ==Move_group[0]]\n",
        "    Train2=df.loc[df['move'] ==Move_group[1]]\n",
        "    Train3=df.loc[df['move'] ==Move_group[2]]\n",
        "    Test1=df.loc[df['move'] ==Move_group[3]]\n",
        "    if len(Move_group)==5:\n",
        "      Test2=df.loc[df['move'] ==Move_group[4]]\n",
        "      Testset_class.append(pd.concat((Test1,Test2)))\n",
        "    else:\n",
        "      Testset_class.append(Test1)\n",
        "    Trainset_class.append(pd.concat((Train1,Train2,Train3)))\n",
        "  Trainset=Trainset_class[0]\n",
        "  Testset=Testset_class[0]\n",
        "\n",
        "  for i in range(1,8):\n",
        "    Trainset=np.vstack((Trainset,Trainset_class[i]))\n",
        "    Testset=np.vstack((Testset,Testset_class[i]))\n",
        "  df_Train = pd.DataFrame(data=Trainset, columns=cl_names)\n",
        "  df_Test =  pd.DataFrame(data=Testset, columns=cl_names)\n",
        "  return df_Train,df_Test\n",
        "for i in range(0,N_Subj):\n",
        "  for j in range(0,N_Days):\n",
        "    for k in range(0,N_rounds):\n",
        "      df_train[i][j][k],df_test[i][j][k] =Train_Test_Sep(df[i][j][k])"
      ],
      "execution_count": 9,
      "outputs": []
    },
    {
      "cell_type": "code",
      "metadata": {
        "id": "RZb2tQlU9u7L",
        "colab": {
          "base_uri": "https://localhost:8080/"
        },
        "outputId": "74698678-ed7f-442d-db54-7fbe9cd407c0"
      },
      "source": [
        "for i in range(0,N_Subj):\n",
        "  for j in range(0,N_Days):\n",
        "    for k in range(0,N_rounds):\n",
        "      print(\"Train Class frequency for subject \"+str(i+1)+\"day \"+str(j+1)+ \"round \"+str(k+1))\n",
        "      Class_freq(df_train[i][j][k])"
      ],
      "execution_count": 10,
      "outputs": [
        {
          "output_type": "stream",
          "text": [
            "Train Class frequency for subject 1day 1round 1\n",
            "class\n",
            "1.0    526.0\n",
            "2.0    537.0\n",
            "3.0    531.0\n",
            "4.0    535.0\n",
            "5.0    557.0\n",
            "6.0    539.0\n",
            "7.0    518.0\n",
            "8.0    521.0\n",
            "dtype: float64\n",
            "<class 'pandas.core.series.Series'>\n",
            "Train Class frequency for subject 1day 1round 2\n",
            "class\n",
            "1.0    552.0\n",
            "2.0    545.0\n",
            "3.0    531.0\n",
            "4.0    549.0\n",
            "5.0    558.0\n",
            "6.0    545.0\n",
            "7.0    540.0\n",
            "8.0    555.0\n",
            "dtype: float64\n",
            "<class 'pandas.core.series.Series'>\n",
            "Train Class frequency for subject 1day 1round 3\n",
            "class\n",
            "1.0    545.0\n",
            "2.0    549.0\n",
            "3.0    547.0\n",
            "4.0    548.0\n",
            "5.0    560.0\n",
            "6.0    533.0\n",
            "7.0    542.0\n",
            "8.0    560.0\n",
            "dtype: float64\n",
            "<class 'pandas.core.series.Series'>\n"
          ],
          "name": "stdout"
        }
      ]
    },
    {
      "cell_type": "code",
      "metadata": {
        "id": "HyAkkyhj_cub",
        "colab": {
          "base_uri": "https://localhost:8080/"
        },
        "outputId": "1ac0ca35-957e-4232-9757-e086c26b58f5"
      },
      "source": [
        "for i in range(0,N_Subj):\n",
        "  for j in range(0,N_Days):\n",
        "    for k in range(0,N_rounds):\n",
        "      print(\"Test Class frequency for subject \"+str(i+1)+\"day \"+str(j+1)+ \"round \"+str(k+1))\n",
        "      Class_freq(df_test[i][j][k])"
      ],
      "execution_count": 11,
      "outputs": [
        {
          "output_type": "stream",
          "text": [
            "Test Class frequency for subject 1day 1round 1\n",
            "class\n",
            "1.0    354.0\n",
            "2.0    346.0\n",
            "3.0    345.0\n",
            "4.0    344.0\n",
            "5.0    346.0\n",
            "6.0    339.0\n",
            "7.0    344.0\n",
            "8.0    348.0\n",
            "dtype: float64\n",
            "<class 'pandas.core.series.Series'>\n",
            "Test Class frequency for subject 1day 1round 2\n",
            "class\n",
            "1.0    361.0\n",
            "2.0    362.0\n",
            "3.0    352.0\n",
            "4.0    357.0\n",
            "5.0    363.0\n",
            "6.0    355.0\n",
            "7.0    356.0\n",
            "8.0    368.0\n",
            "dtype: float64\n",
            "<class 'pandas.core.series.Series'>\n",
            "Test Class frequency for subject 1day 1round 3\n",
            "class\n",
            "1.0    362.0\n",
            "2.0    359.0\n",
            "3.0    351.0\n",
            "4.0    189.0\n",
            "5.0    357.0\n",
            "6.0    369.0\n",
            "7.0    361.0\n",
            "8.0    358.0\n",
            "dtype: float64\n",
            "<class 'pandas.core.series.Series'>\n"
          ],
          "name": "stdout"
        }
      ]
    },
    {
      "cell_type": "markdown",
      "metadata": {
        "id": "_mKMaaHm3X5P"
      },
      "source": [
        "## Create a 3D rappresentation"
      ]
    },
    {
      "cell_type": "code",
      "metadata": {
        "id": "t0A17BWWZoKR"
      },
      "source": [
        "def _3D_representation(df):\n",
        "  T=df.shape[0]\n",
        "  p=int(T/window_length)\n",
        "  print(p)\n",
        "  df_3d = np.zeros((window_length, 13,p))\n",
        "  df_3d[:,:,0]=df[0:window_length]  \n",
        "  s=0\n",
        "  i=0\n",
        "  while s<T:    \n",
        "    df_3d[:,:,i]=df[s:s+window_length]\n",
        "    s=s+window_length\n",
        "    i+=1\n",
        "  return df_3d"
      ],
      "execution_count": 12,
      "outputs": []
    },
    {
      "cell_type": "code",
      "metadata": {
        "id": "gY6-bOJ-SOAV",
        "colab": {
          "base_uri": "https://localhost:8080/"
        },
        "outputId": "3d2b6d0f-5835-4023-8d2b-a45c6f58b700"
      },
      "source": [
        "df_Train_3d=[[[0] * N_rounds]*N_Days]*N_Subj\n",
        "for i in range(0,N_Subj):\n",
        "  for j in range(0,N_Days):\n",
        "    for k in range(0,N_rounds):\n",
        "      df_Train_3d[i][j][k]= _3D_representation(df_train[i][j][k])\n",
        "print(df_Train_3d[0][0][0])"
      ],
      "execution_count": 13,
      "outputs": [
        {
          "output_type": "stream",
          "text": [
            "4264\n",
            "4375\n",
            "4384\n",
            "[[[-3.7422e-02  2.6647e-02 -7.5255e-03 ...  4.8626e-02 -2.4397e-01\n",
            "   -2.4453e-01]\n",
            "  [-6.6970e-02  1.8986e-02 -6.8304e-02 ...  6.5525e-02 -7.0985e-02\n",
            "   -1.2104e-02]\n",
            "  [-4.7220e-03  4.4102e-03 -1.1789e-02 ...  2.3338e-02 -2.6937e-02\n",
            "    1.5493e-02]\n",
            "  ...\n",
            "  [ 1.0000e+00  1.0000e+00  1.0000e+00 ...  8.0000e+00  8.0000e+00\n",
            "    8.0000e+00]\n",
            "  [ 1.0000e+00  1.0000e+00  1.0000e+00 ...  2.2000e+01  2.2000e+01\n",
            "    2.2000e+01]\n",
            "  [ 1.0000e+00  2.0000e+00  3.0000e+00 ...  3.8840e+03  3.8850e+03\n",
            "    3.8860e+03]]\n",
            "\n",
            " [[-2.7106e-02  1.3596e-02  7.7599e-03 ...  4.4818e-02 -1.7503e-01\n",
            "   -2.9992e-01]\n",
            "  [-6.9792e-02  1.6916e-02 -6.4162e-02 ...  3.8007e-02 -7.1270e-02\n",
            "   -3.1763e-02]\n",
            "  [-3.3929e-03  6.4770e-03 -3.1845e-03 ...  1.7588e-02 -3.2901e-02\n",
            "   -5.9464e-03]\n",
            "  ...\n",
            "  [ 1.0000e+00  1.0000e+00  1.0000e+00 ...  8.0000e+00  8.0000e+00\n",
            "    8.0000e+00]\n",
            "  [ 1.0000e+00  1.0000e+00  1.0000e+00 ...  2.2000e+01  2.2000e+01\n",
            "    2.2000e+01]\n",
            "  [ 1.0000e+00  2.0000e+00  3.0000e+00 ...  3.8840e+03  3.8850e+03\n",
            "    3.8860e+03]]\n",
            "\n",
            " [[-1.8335e-02  3.4923e-03  1.3377e-02 ...  2.3578e-02 -1.3526e-01\n",
            "   -3.0896e-01]\n",
            "  [-7.0210e-02  1.6915e-02 -4.6118e-02 ... -7.5809e-03 -6.0841e-02\n",
            "   -4.7635e-02]\n",
            "  [-1.6373e-03  7.1607e-03  2.5533e-04 ...  9.1601e-04 -2.7482e-02\n",
            "   -2.1564e-02]\n",
            "  ...\n",
            "  [ 1.0000e+00  1.0000e+00  1.0000e+00 ...  8.0000e+00  8.0000e+00\n",
            "    8.0000e+00]\n",
            "  [ 1.0000e+00  1.0000e+00  1.0000e+00 ...  2.2000e+01  2.2000e+01\n",
            "    2.2000e+01]\n",
            "  [ 1.0000e+00  2.0000e+00  3.0000e+00 ...  3.8840e+03  3.8850e+03\n",
            "    3.8860e+03]]\n",
            "\n",
            " ...\n",
            "\n",
            " [[-9.8510e-02  8.3169e-02 -2.4320e-01 ...  2.3343e-03 -3.6725e-04\n",
            "    2.9322e-01]\n",
            "  [ 1.3964e-01  3.5275e-01 -1.7905e-01 ... -5.3472e-02  3.6861e-03\n",
            "    3.5972e-02]\n",
            "  [ 2.4252e-02  3.3074e-02 -3.2369e-02 ... -7.2458e-03  1.5901e-02\n",
            "   -2.1109e-03]\n",
            "  ...\n",
            "  [ 1.0000e+00  1.0000e+00  1.0000e+00 ...  8.0000e+00  8.0000e+00\n",
            "    8.0000e+00]\n",
            "  [ 1.0000e+00  1.0000e+00  1.0000e+00 ...  2.2000e+01  2.2000e+01\n",
            "    2.2000e+01]\n",
            "  [ 1.0000e+00  2.0000e+00  3.0000e+00 ...  3.8840e+03  3.8850e+03\n",
            "    3.8860e+03]]\n",
            "\n",
            " [[-6.1367e-02  7.1544e-02 -2.2219e-01 ... -4.6521e-02  4.1969e-02\n",
            "    2.8090e-01]\n",
            "  [ 1.6719e-01  3.1785e-01 -2.2929e-01 ... -4.2590e-02  1.1656e-02\n",
            "    4.5735e-02]\n",
            "  [ 1.6643e-02  2.7675e-02 -3.1728e-02 ... -2.4950e-03  2.5944e-03\n",
            "   -1.5299e-03]\n",
            "  ...\n",
            "  [ 1.0000e+00  1.0000e+00  1.0000e+00 ...  8.0000e+00  8.0000e+00\n",
            "    8.0000e+00]\n",
            "  [ 1.0000e+00  1.0000e+00  1.0000e+00 ...  2.2000e+01  2.2000e+01\n",
            "    2.2000e+01]\n",
            "  [ 1.0000e+00  2.0000e+00  3.0000e+00 ...  3.8840e+03  3.8850e+03\n",
            "    3.8860e+03]]\n",
            "\n",
            " [[-2.0985e-02  1.1665e-02 -2.0350e-01 ... -4.6715e-02  8.7733e-02\n",
            "    2.3044e-01]\n",
            "  [ 1.8131e-01  2.6143e-01 -2.5902e-01 ... -1.8901e-02  1.8064e-02\n",
            "    4.5627e-02]\n",
            "  [ 1.8313e-04  1.3111e-02 -2.9730e-02 ...  2.6169e-03 -4.3781e-03\n",
            "    3.5855e-03]\n",
            "  ...\n",
            "  [ 1.0000e+00  1.0000e+00  1.0000e+00 ...  8.0000e+00  8.0000e+00\n",
            "    8.0000e+00]\n",
            "  [ 1.0000e+00  1.0000e+00  1.0000e+00 ...  2.2000e+01  2.2000e+01\n",
            "    2.2000e+01]\n",
            "  [ 1.0000e+00  2.0000e+00  3.0000e+00 ...  3.8840e+03  3.8850e+03\n",
            "    3.8860e+03]]]\n"
          ],
          "name": "stdout"
        }
      ]
    },
    {
      "cell_type": "code",
      "metadata": {
        "id": "jYwwIJZGV--o",
        "colab": {
          "base_uri": "https://localhost:8080/"
        },
        "outputId": "dbd80595-627f-4b7e-e276-e1dc7b26cf4a"
      },
      "source": [
        "Train_final_3d= df_Train_3d[0][0][0]\n",
        "for i in range(0,N_Subj):\n",
        "  for j in range(0,N_Days):\n",
        "    for k in range(0,N_rounds):\n",
        "      if i+j+k :\n",
        "        Train_final_3d=np.concatenate([Train_final_3d, df_Train_3d[i][j][k]], -1)\n",
        "Train_final_3d.shape     "
      ],
      "execution_count": 14,
      "outputs": [
        {
          "output_type": "execute_result",
          "data": {
            "text/plain": [
              "(204, 13, 13023)"
            ]
          },
          "metadata": {
            "tags": []
          },
          "execution_count": 14
        }
      ]
    },
    {
      "cell_type": "code",
      "metadata": {
        "id": "pTA3ihI0Ujtm",
        "colab": {
          "base_uri": "https://localhost:8080/"
        },
        "outputId": "66314c5a-5bf8-480b-e3f0-21c5c33551b4"
      },
      "source": [
        "df_Test_3d=[[[0] * N_rounds]*N_Days]*N_Subj\n",
        "for i in range(0,N_Subj):\n",
        "  for j in range(0,N_Days):\n",
        "    for k in range(0,N_rounds):\n",
        "       df_Test_3d[i][j][k]= _3D_representation(df_test[i][j][k])\n",
        "print(df_Test_3d[0][0][0].shape)"
      ],
      "execution_count": 15,
      "outputs": [
        {
          "output_type": "stream",
          "text": [
            "2766\n",
            "2874\n",
            "2706\n",
            "(204, 13, 2766)\n"
          ],
          "name": "stdout"
        }
      ]
    },
    {
      "cell_type": "code",
      "metadata": {
        "id": "LfuK1k19VsKE",
        "colab": {
          "base_uri": "https://localhost:8080/"
        },
        "outputId": "8879d1c1-518a-4b43-ae53-b695f872ad36"
      },
      "source": [
        "Test_final_3d= df_Test_3d[0][0][0]\n",
        "for i in range(0,N_Subj):\n",
        "  for j in range(0,N_Days):\n",
        "    for k in range(0,N_rounds):\n",
        "      if i+j+k :\n",
        "        Test_final_3d=np.concatenate([Test_final_3d, df_Test_3d[i][j][k]], -1)\n",
        "Test_final_3d.shape"
      ],
      "execution_count": 16,
      "outputs": [
        {
          "output_type": "execute_result",
          "data": {
            "text/plain": [
              "(204, 13, 8346)"
            ]
          },
          "metadata": {
            "tags": []
          },
          "execution_count": 16
        }
      ]
    },
    {
      "cell_type": "markdown",
      "metadata": {
        "id": "tooR4jYHib4Z"
      },
      "source": [
        "EXTRACTING FEATURES\n"
      ]
    },
    {
      "cell_type": "code",
      "metadata": {
        "id": "pzCC-PG0RgtX",
        "colab": {
          "base_uri": "https://localhost:8080/"
        },
        "outputId": "9f7de550-3c4c-4119-a72d-a949b8818a00"
      },
      "source": [
        "x=Train_final_3d[:,0:10]\n",
        "x.shape"
      ],
      "execution_count": 17,
      "outputs": [
        {
          "output_type": "execute_result",
          "data": {
            "text/plain": [
              "(204, 10, 13023)"
            ]
          },
          "metadata": {
            "tags": []
          },
          "execution_count": 17
        }
      ]
    },
    {
      "cell_type": "code",
      "metadata": {
        "id": "DSPlPJoKRfpw",
        "colab": {
          "base_uri": "https://localhost:8080/"
        },
        "outputId": "b944a7d2-feb8-4c07-91b6-f78696b46b85"
      },
      "source": [
        "labels=Train_final_3d[1,-3,:]\n",
        "labels.shape"
      ],
      "execution_count": 18,
      "outputs": [
        {
          "output_type": "execute_result",
          "data": {
            "text/plain": [
              "(13023,)"
            ]
          },
          "metadata": {
            "tags": []
          },
          "execution_count": 18
        }
      ]
    },
    {
      "cell_type": "code",
      "metadata": {
        "id": "vn_LBxiAiyQM"
      },
      "source": [
        ""
      ],
      "execution_count": 18,
      "outputs": []
    },
    {
      "cell_type": "code",
      "metadata": {
        "id": "OgZ4za1m6SJ1"
      },
      "source": [
        "mav=np.zeros((x.shape[2],10))\n",
        "#\n",
        "for i in range(0, x.shape[2]):\n",
        "  for j in range(0, 10):\n",
        "   mav[i][j]=np.mean(abs(x[:,j,i]))"
      ],
      "execution_count": 19,
      "outputs": []
    },
    {
      "cell_type": "code",
      "metadata": {
        "id": "oVDFUKBHQBv1"
      },
      "source": [
        ""
      ],
      "execution_count": 19,
      "outputs": []
    },
    {
      "cell_type": "code",
      "metadata": {
        "id": "W-jnEhFrir9q"
      },
      "source": [
        "mav=pd.DataFrame(mav)"
      ],
      "execution_count": 20,
      "outputs": []
    },
    {
      "cell_type": "code",
      "metadata": {
        "id": "CvBc3u3YjZbr"
      },
      "source": [
        "labels=pd.DataFrame(labels)"
      ],
      "execution_count": 21,
      "outputs": []
    },
    {
      "cell_type": "code",
      "metadata": {
        "id": "NsS9xbZOGXWx"
      },
      "source": [
        ""
      ],
      "execution_count": 21,
      "outputs": []
    },
    {
      "cell_type": "code",
      "metadata": {
        "id": "jsCh7O5YKjZl"
      },
      "source": [
        "wl=np.zeros((x.shape[2],10))\n",
        "#\n",
        "for i in range(0, x.shape[2]):\n",
        "  for j in range(0, 10):\n",
        "    for k in range (1, x.shape[0]):  \n",
        "      wl[i][j]=wl[i][j] + abs(x[k,j,i]-x[k-1,j,i])"
      ],
      "execution_count": 22,
      "outputs": []
    },
    {
      "cell_type": "code",
      "metadata": {
        "id": "nd5bL8jAKjVG"
      },
      "source": [
        "wl=pd.DataFrame(wl)"
      ],
      "execution_count": 23,
      "outputs": []
    },
    {
      "cell_type": "code",
      "metadata": {
        "id": "33afEeUVOK7P"
      },
      "source": [
        "zc=np.zeros((x.shape[2],10))\n",
        "#\n",
        "for i in range(0, x.shape[2]):\n",
        "  for j in range(0, 10):\n",
        "    zc[i][j]=((x[:-1,j,i] * x[1:,j,i]) < 0).sum()"
      ],
      "execution_count": 24,
      "outputs": []
    },
    {
      "cell_type": "code",
      "metadata": {
        "id": "mWhB1q9tOK1E"
      },
      "source": [
        ""
      ],
      "execution_count": 24,
      "outputs": []
    },
    {
      "cell_type": "code",
      "metadata": {
        "id": "cQ5tmvxVOKzA"
      },
      "source": [
        "ssc=np.zeros((x.shape[2],10)) \n",
        "#\n",
        "for i in range(0, x.shape[2]):\n",
        "  for j in range(0, 10):\n",
        "    ssc[i][j]=(((x[1:-1,j,i] - x[0:-2,j,i]) *( x[2:,j,i]-x[1:-1,j,i])) < 0).sum()"
      ],
      "execution_count": 25,
      "outputs": []
    },
    {
      "cell_type": "code",
      "metadata": {
        "id": "0gzdeVViGAdT"
      },
      "source": [
        ""
      ],
      "execution_count": 25,
      "outputs": []
    },
    {
      "cell_type": "code",
      "metadata": {
        "id": "mZqyIvUD7ZGX"
      },
      "source": [
        "zc=pd.DataFrame(zc)"
      ],
      "execution_count": 26,
      "outputs": []
    },
    {
      "cell_type": "code",
      "metadata": {
        "id": "TGk6uvt37ZEK"
      },
      "source": [
        "ssc=pd.DataFrame(ssc)"
      ],
      "execution_count": 27,
      "outputs": []
    },
    {
      "cell_type": "code",
      "metadata": {
        "id": "RbItRHVO7ZBO"
      },
      "source": [
        "train=pd.concat([mav,wl,zc,ssc,labels],sort=False,axis=1)\n"
      ],
      "execution_count": 28,
      "outputs": []
    },
    {
      "cell_type": "code",
      "metadata": {
        "id": "1aJGtN_x7Y27"
      },
      "source": [
        "train.columns = ['mav1', 'mav2', 'mav3', 'mav4', 'mav5', 'mav6', 'mav7', 'mav8', 'mav9', 'mav10',\n",
        "               'wl1','wl2','wl3','wl4','wl5','wl6','wl7','wl8','wl9','wl10',\n",
        "               'zc1','zc2','zc3','zc4','zc5','zc6','zc7','zc8','zc9','zc10',\n",
        "               'ssc1','ssc2','ssc3','ssc4','ssc5','ssc6','ssc7','ssc8','ssc9','ssc10','class']"
      ],
      "execution_count": 29,
      "outputs": []
    },
    {
      "cell_type": "code",
      "metadata": {
        "id": "6qejul1Y725h",
        "colab": {
          "base_uri": "https://localhost:8080/"
        },
        "outputId": "0248aa7d-1128-495d-b8b4-9613b9df5581"
      },
      "source": [
        "x1=Test_final_3d[:,0:10]\n",
        "x1.shape"
      ],
      "execution_count": 30,
      "outputs": [
        {
          "output_type": "execute_result",
          "data": {
            "text/plain": [
              "(204, 10, 8346)"
            ]
          },
          "metadata": {
            "tags": []
          },
          "execution_count": 30
        }
      ]
    },
    {
      "cell_type": "code",
      "metadata": {
        "id": "bIta9kuT72on",
        "colab": {
          "base_uri": "https://localhost:8080/"
        },
        "outputId": "3168c8da-78e8-4ba2-bc57-e7a3afcf2cce"
      },
      "source": [
        "labels1=Test_final_3d[1,-3,:]\n",
        "labels1.shape"
      ],
      "execution_count": 31,
      "outputs": [
        {
          "output_type": "execute_result",
          "data": {
            "text/plain": [
              "(8346,)"
            ]
          },
          "metadata": {
            "tags": []
          },
          "execution_count": 31
        }
      ]
    },
    {
      "cell_type": "code",
      "metadata": {
        "id": "h7U9HKDRGaX2"
      },
      "source": [
        "import time\n",
        "t0= time.clock()"
      ],
      "execution_count": 32,
      "outputs": []
    },
    {
      "cell_type": "code",
      "metadata": {
        "id": "xqcaDD5d8R94"
      },
      "source": [
        "mav1=np.zeros((x1.shape[2],10))\n",
        "#\n",
        "for i in range(0, x1.shape[2]):\n",
        "  for j in range(0, 10):\n",
        "   mav1[i][j]=np.mean(abs(x1[:,j,i]))"
      ],
      "execution_count": 33,
      "outputs": []
    },
    {
      "cell_type": "code",
      "metadata": {
        "id": "z0BCMUzY8R7l"
      },
      "source": [
        "wl1=np.zeros((x1.shape[2],10))\n",
        "#\n",
        "for i in range(0, x1.shape[2]):\n",
        "  for j in range(0, 10):\n",
        "    for k in range (1, x1.shape[0]):  \n",
        "      wl1[i][j]=wl1[i][j] + abs(x1[k,j,i]-x1[k-1,j,i])"
      ],
      "execution_count": 34,
      "outputs": []
    },
    {
      "cell_type": "code",
      "metadata": {
        "id": "T2_f98PE8R5X"
      },
      "source": [
        "zc1=np.zeros((x1.shape[2],10))\n",
        "#\n",
        "for i in range(0, x1.shape[2]):\n",
        "  for j in range(0, 10):\n",
        "    zc1[i][j]=((x1[:-1,j,i] * x1[1:,j,i]) < 0).sum()"
      ],
      "execution_count": 35,
      "outputs": []
    },
    {
      "cell_type": "code",
      "metadata": {
        "id": "tyCXGX1b8R3I"
      },
      "source": [
        "ssc1=np.zeros((x1.shape[2],10)) \n",
        "#\n",
        "for i in range(0, x1.shape[2]):\n",
        "  for j in range(0, 10):\n",
        "    ssc1[i][j]=(((x1[1:-1,j,i] - x1[0:-2,j,i]) *( x1[2:,j,i]-x1[1:-1,j,i])) < 0).sum()"
      ],
      "execution_count": 36,
      "outputs": []
    },
    {
      "cell_type": "code",
      "metadata": {
        "id": "kSQm_lZKGerp",
        "colab": {
          "base_uri": "https://localhost:8080/"
        },
        "outputId": "e4a2216f-175d-42e5-da48-2a04bca6c79b"
      },
      "source": [
        "tfeature = (time.clock() - t0)/x1.shape[2]\n",
        "tfeature"
      ],
      "execution_count": 37,
      "outputs": [
        {
          "output_type": "execute_result",
          "data": {
            "text/plain": [
              "0.002957367721063983"
            ]
          },
          "metadata": {
            "tags": []
          },
          "execution_count": 37
        }
      ]
    },
    {
      "cell_type": "code",
      "metadata": {
        "id": "FIjiqwWOGwl5",
        "colab": {
          "base_uri": "https://localhost:8080/"
        },
        "outputId": "743ab4e2-6f46-463d-c3b9-f76a0d5e13c2"
      },
      "source": [
        "x1.shape[2]"
      ],
      "execution_count": 38,
      "outputs": [
        {
          "output_type": "execute_result",
          "data": {
            "text/plain": [
              "8346"
            ]
          },
          "metadata": {
            "tags": []
          },
          "execution_count": 38
        }
      ]
    },
    {
      "cell_type": "code",
      "metadata": {
        "id": "ZudOAaAm8R0z"
      },
      "source": [
        "mav1=pd.DataFrame(mav1)"
      ],
      "execution_count": 39,
      "outputs": []
    },
    {
      "cell_type": "code",
      "metadata": {
        "id": "ia2FYsKd81ba"
      },
      "source": [
        "wl1=pd.DataFrame(wl1)"
      ],
      "execution_count": 40,
      "outputs": []
    },
    {
      "cell_type": "code",
      "metadata": {
        "id": "i4czZH6181WB"
      },
      "source": [
        "zc1=pd.DataFrame(zc1)"
      ],
      "execution_count": 41,
      "outputs": []
    },
    {
      "cell_type": "code",
      "metadata": {
        "id": "8qumkEG681Or"
      },
      "source": [
        "ssc1=pd.DataFrame(ssc1)"
      ],
      "execution_count": 42,
      "outputs": []
    },
    {
      "cell_type": "code",
      "metadata": {
        "id": "d5lWkqF_9YjE"
      },
      "source": [
        "labels1=pd.DataFrame(labels1)"
      ],
      "execution_count": 43,
      "outputs": []
    },
    {
      "cell_type": "code",
      "metadata": {
        "id": "ZLko03co9M7g"
      },
      "source": [
        "test=pd.concat([mav1,wl1,zc1,ssc1,labels1],sort=False,axis=1)"
      ],
      "execution_count": 44,
      "outputs": []
    },
    {
      "cell_type": "code",
      "metadata": {
        "id": "GoABKYa19M5n"
      },
      "source": [
        "test.columns = ['mav1', 'mav2', 'mav3', 'mav4', 'mav5', 'mav6', 'mav7', 'mav8', 'mav9', 'mav10',\n",
        "               'wl1','wl2','wl3','wl4','wl5','wl6','wl7','wl8','wl9','wl10',\n",
        "               'zc1','zc2','zc3','zc4','zc5','zc6','zc7','zc8','zc9','zc10',\n",
        "               'ssc1','ssc2','ssc3','ssc4','ssc5','ssc6','ssc7','ssc8','ssc9','ssc10','class']"
      ],
      "execution_count": 45,
      "outputs": []
    },
    {
      "cell_type": "code",
      "metadata": {
        "id": "wEPCVPPy9M3r"
      },
      "source": [
        "train = train.sample(frac=1).reset_index(drop=True)"
      ],
      "execution_count": 46,
      "outputs": []
    },
    {
      "cell_type": "code",
      "metadata": {
        "id": "Jgn0TOqg9sMy"
      },
      "source": [
        "test = test.sample(frac=1).reset_index(drop=True)"
      ],
      "execution_count": 47,
      "outputs": []
    },
    {
      "cell_type": "code",
      "metadata": {
        "id": "EVGqbgT79sKO"
      },
      "source": [
        "X_train = train.iloc[:,0:-1]\n",
        "column_names = list(X_train) \n",
        "y_train = train.iloc[:,-1]"
      ],
      "execution_count": 48,
      "outputs": []
    },
    {
      "cell_type": "code",
      "metadata": {
        "id": "TFg12T4K9sH8"
      },
      "source": [
        "X_test = test.iloc[:,0:-1]\n",
        "column_names = list(X_test) \n",
        "y_test = test.iloc[:,-1]"
      ],
      "execution_count": 49,
      "outputs": []
    },
    {
      "cell_type": "code",
      "metadata": {
        "id": "9GXXnVpx8lqM"
      },
      "source": [
        "\n"
      ],
      "execution_count": 49,
      "outputs": []
    },
    {
      "cell_type": "markdown",
      "metadata": {
        "id": "s49jAlGVie99"
      },
      "source": [
        "# DECISION TREE"
      ]
    },
    {
      "cell_type": "code",
      "metadata": {
        "id": "_kBDK2UU2pRf"
      },
      "source": [
        ""
      ],
      "execution_count": 49,
      "outputs": []
    },
    {
      "cell_type": "code",
      "metadata": {
        "id": "VnzP6ikj2piW"
      },
      "source": [
        "#DEFINE YOUR CLASSIFIER and THE PARAMETERS GRID\n",
        "from sklearn.tree import DecisionTreeClassifier\n",
        "import numpy as np\n",
        "\n",
        "classifier = DecisionTreeClassifier(criterion='entropy', max_depth= 8, min_samples_leaf= 1, min_samples_split= 6)   #we create a dictionary with all the possibilty I want to try\n"
      ],
      "execution_count": 50,
      "outputs": []
    },
    {
      "cell_type": "code",
      "metadata": {
        "id": "SXtNWX3nvbEf"
      },
      "source": [
        "model = classifier.fit(X_train, y_train)"
      ],
      "execution_count": 51,
      "outputs": []
    },
    {
      "cell_type": "code",
      "metadata": {
        "id": "d5h9NXHu36t6",
        "colab": {
          "base_uri": "https://localhost:8080/"
        },
        "outputId": "42eb7a65-9c6d-44a9-98ae-65fe30cb21ef"
      },
      "source": [
        "t0= time.clock()\n",
        "y_pred = model.predict(X_test)\n",
        "test_DTREE = (time.clock() - t0)/X_test.shape[0]\n",
        "print(\"Time for a window : %e [s]\" %(test_DTREE))"
      ],
      "execution_count": 52,
      "outputs": [
        {
          "output_type": "stream",
          "text": [
            "Time for a window : 3.731129e-07 [s]\n"
          ],
          "name": "stdout"
        }
      ]
    },
    {
      "cell_type": "code",
      "metadata": {
        "id": "6ALvD9SrLNp2",
        "colab": {
          "base_uri": "https://localhost:8080/",
          "height": 296
        },
        "outputId": "f82e85da-3ce8-42e5-d772-59db0639267e"
      },
      "source": [
        "Dtree_acc = metrics.accuracy_score(y_test, y_pred)\n",
        "\n",
        "sns.heatmap(confusion_matrix(y_test, y_pred), annot=True, fmt='d', cmap=\"Blues\", cbar=False);\n",
        "plt.ylabel('True Label')\n",
        "plt.xlabel('Predicted Label')\n",
        "print(Dtree_acc)"
      ],
      "execution_count": 53,
      "outputs": [
        {
          "output_type": "stream",
          "text": [
            "0.9603402827701893\n"
          ],
          "name": "stdout"
        },
        {
          "output_type": "display_data",
          "data": {
            "image/png": "[encoded data removed]",
            "text/plain": [
              "<Figure size 432x288 with 1 Axes>"
            ]
          },
          "metadata": {
            "tags": [],
            "needs_background": "light"
          }
        }
      ]
    },
    {
      "cell_type": "code",
      "metadata": {
        "id": "Ki_4jufYLNk-"
      },
      "source": [
        ""
      ],
      "execution_count": 53,
      "outputs": []
    },
    {
      "cell_type": "markdown",
      "metadata": {
        "id": "-2prmY1FiSpD"
      },
      "source": [
        "# LDA\n"
      ]
    },
    {
      "cell_type": "code",
      "metadata": {
        "id": "BaBR-xD98lhz"
      },
      "source": [
        "# grid search solver for lda\n",
        "from sklearn.datasets import make_classification\n",
        "from sklearn.model_selection import GridSearchCV\n",
        "from sklearn.model_selection import RepeatedStratifiedKFold\n",
        "from sklearn.discriminant_analysis import LinearDiscriminantAnalysis\n",
        "from numpy import arange\n",
        "# define model\n",
        "classifier = LinearDiscriminantAnalysis(shrinkage= 0.0, solver= 'lsqr')\n",
        "\n",
        "model = classifier.fit(X_train, y_train)\n"
      ],
      "execution_count": 54,
      "outputs": []
    },
    {
      "cell_type": "code",
      "metadata": {
        "id": "J3VHP0KHisK0",
        "colab": {
          "base_uri": "https://localhost:8080/"
        },
        "outputId": "7fd230dc-c386-4680-8a0d-e1b7ba3a665a"
      },
      "source": [
        "t0= time.clock()\n",
        "y_pred = model.predict(X_test)\n",
        "test_LDA = (time.clock() - t0)/X_test.shape[0]\n",
        "print(\"Time for a window : %e [s]\" %(test_LDA))"
      ],
      "execution_count": 55,
      "outputs": [
        {
          "output_type": "stream",
          "text": [
            "Time for a window : 1.417685e-06 [s]\n"
          ],
          "name": "stdout"
        }
      ]
    },
    {
      "cell_type": "code",
      "metadata": {
        "id": "0AW-nifviuTF",
        "colab": {
          "base_uri": "https://localhost:8080/",
          "height": 296
        },
        "outputId": "1b3cd9a3-fb51-465a-a612-957b81b3bb5c"
      },
      "source": [
        "LDA_acc = metrics.accuracy_score(y_test, y_pred)\n",
        "\n",
        "sns.heatmap(confusion_matrix(y_test, y_pred), annot=True, fmt='d', cmap=\"Blues\", cbar=False);\n",
        "plt.ylabel('True Label')\n",
        "plt.xlabel('Predicted Label')\n",
        "print(LDA_acc)"
      ],
      "execution_count": 56,
      "outputs": [
        {
          "output_type": "stream",
          "text": [
            "0.9166067577282531\n"
          ],
          "name": "stdout"
        },
        {
          "output_type": "display_data",
          "data": {
            "image/png": "[encoded data removed]",
            "text/plain": [
              "<Figure size 432x288 with 1 Axes>"
            ]
          },
          "metadata": {
            "tags": [],
            "needs_background": "light"
          }
        }
      ]
    },
    {
      "cell_type": "markdown",
      "metadata": {
        "id": "gv5DOEdfiz1Y"
      },
      "source": [
        "# SVM"
      ]
    },
    {
      "cell_type": "code",
      "metadata": {
        "id": "UVGm5z7UizCO"
      },
      "source": [
        "'''SVM '''\n",
        "\n",
        "from sklearn.svm import SVC\n",
        "\n",
        "classifier = SVC(C= 100, gamma= 0.0001, kernel= 'linear')"
      ],
      "execution_count": 57,
      "outputs": []
    },
    {
      "cell_type": "code",
      "metadata": {
        "id": "CUYVHrvwi_lg"
      },
      "source": [
        "model = classifier.fit(X_train, y_train)"
      ],
      "execution_count": 58,
      "outputs": []
    },
    {
      "cell_type": "code",
      "metadata": {
        "id": "8Lb2D4qRjCoM",
        "colab": {
          "base_uri": "https://localhost:8080/"
        },
        "outputId": "0d71ff9a-5a00-4a7e-9b34-f701d495b127"
      },
      "source": [
        "t0= time.clock()\n",
        "y_pred = model.predict(X_test)\n",
        "test_SVM = (time.clock() - t0)/X_test.shape[0]\n",
        "print(\"Time for a window : %e [s]\" %(test_SVM))"
      ],
      "execution_count": 59,
      "outputs": [
        {
          "output_type": "stream",
          "text": [
            "Time for a window : 2.565648e-05 [s]\n"
          ],
          "name": "stdout"
        }
      ]
    },
    {
      "cell_type": "code",
      "metadata": {
        "id": "9WUipdJqjCmH",
        "colab": {
          "base_uri": "https://localhost:8080/",
          "height": 296
        },
        "outputId": "318bf5b3-303e-4a4c-e959-49ce4816225b"
      },
      "source": [
        "SVM_acc = metrics.accuracy_score(y_test, y_pred)\n",
        "\n",
        "sns.heatmap(confusion_matrix(y_test, y_pred), annot=True, fmt='d', cmap=\"Blues\", cbar=False);\n",
        "plt.ylabel('True Label')\n",
        "plt.xlabel('Predicted Label')\n",
        "print(SVM_acc)"
      ],
      "execution_count": 60,
      "outputs": [
        {
          "output_type": "stream",
          "text": [
            "0.9767553318955188\n"
          ],
          "name": "stdout"
        },
        {
          "output_type": "display_data",
          "data": {
            "image/png": "[encoded data removed]",
            "text/plain": [
              "<Figure size 432x288 with 1 Axes>"
            ]
          },
          "metadata": {
            "tags": [],
            "needs_background": "light"
          }
        }
      ]
    },
    {
      "cell_type": "markdown",
      "metadata": {
        "id": "JA-my01RkkMh"
      },
      "source": [
        "# KNN"
      ]
    },
    {
      "cell_type": "code",
      "metadata": {
        "id": "lLg-HAxTjnB4"
      },
      "source": [
        "from sklearn import datasets \n",
        "from sklearn.metrics import confusion_matrix \n",
        "from sklearn.model_selection import train_test_split \n",
        "from sklearn.neighbors import KNeighborsClassifier \n",
        "\n",
        "classifier = KNeighborsClassifier(n_neighbors= 6, weights= 'distance')\n"
      ],
      "execution_count": 61,
      "outputs": []
    },
    {
      "cell_type": "code",
      "metadata": {
        "id": "LGGnhn7Vk2a-"
      },
      "source": [
        "model= classifier.fit(X_train, y_train)"
      ],
      "execution_count": 62,
      "outputs": []
    },
    {
      "cell_type": "code",
      "metadata": {
        "id": "Rvag4Lk8k6CT",
        "colab": {
          "base_uri": "https://localhost:8080/"
        },
        "outputId": "a82e401a-a45a-46c4-dd22-dc2a25dde802"
      },
      "source": [
        "t0= time.clock()\n",
        "y_pred = model.predict(X_test)\n",
        "test_KNN = (time.clock() - t0)/X_test.shape[0]\n",
        "print(\"Time for a window : %e [s]\" %(test_KNN))"
      ],
      "execution_count": 63,
      "outputs": [
        {
          "output_type": "stream",
          "text": [
            "Time for a window : 6.317752e-04 [s]\n"
          ],
          "name": "stdout"
        }
      ]
    },
    {
      "cell_type": "code",
      "metadata": {
        "id": "TZ_7Eqv5k7eJ",
        "colab": {
          "base_uri": "https://localhost:8080/",
          "height": 296
        },
        "outputId": "4923e151-ce3f-4804-a2a4-244473d38c51"
      },
      "source": [
        "KNN_acc = metrics.accuracy_score(y_test, y_pred)\n",
        "\n",
        "sns.heatmap(confusion_matrix(y_test, y_pred), annot=True, fmt='d', cmap=\"Blues\", cbar=False);\n",
        "plt.ylabel('True Label')\n",
        "plt.xlabel('Predicted Label')\n",
        "print(KNN_acc)"
      ],
      "execution_count": 64,
      "outputs": [
        {
          "output_type": "stream",
          "text": [
            "0.917685118619698\n"
          ],
          "name": "stdout"
        },
        {
          "output_type": "display_data",
          "data": {
            "image/png": "[encoded data removed]",
            "text/plain": [
              "<Figure size 432x288 with 1 Axes>"
            ]
          },
          "metadata": {
            "tags": [],
            "needs_background": "light"
          }
        }
      ]
    },
    {
      "cell_type": "markdown",
      "metadata": {
        "id": "JH0HEeGvKekD"
      },
      "source": [
        "# RANDOM FOREST"
      ]
    },
    {
      "cell_type": "code",
      "metadata": {
        "id": "pd8zbEoaHOnT"
      },
      "source": [
        "from pprint import pprint\n",
        "from sklearn.ensemble import RandomForestRegressor\n",
        "\n",
        "rf = RandomForestRegressor(bootstrap= True, max_depth= 50, max_features= 3, min_samples_leaf= 2, min_samples_split= 4, n_estimators= 100)\n"
      ],
      "execution_count": 65,
      "outputs": []
    },
    {
      "cell_type": "code",
      "metadata": {
        "id": "rc4wfseqHOnT",
        "colab": {
          "base_uri": "https://localhost:8080/"
        },
        "outputId": "286429e7-654d-4025-cd1d-fe6e21845ae7"
      },
      "source": [
        "rf.fit(X_train, y_train)\n"
      ],
      "execution_count": 66,
      "outputs": [
        {
          "output_type": "execute_result",
          "data": {
            "text/plain": [
              "RandomForestRegressor(bootstrap=True, ccp_alpha=0.0, criterion='mse',\n",
              "                      max_depth=50, max_features=3, max_leaf_nodes=None,\n",
              "                      max_samples=None, min_impurity_decrease=0.0,\n",
              "                      min_impurity_split=None, min_samples_leaf=2,\n",
              "                      min_samples_split=4, min_weight_fraction_leaf=0.0,\n",
              "                      n_estimators=100, n_jobs=None, oob_score=False,\n",
              "                      random_state=None, verbose=0, warm_start=False)"
            ]
          },
          "metadata": {
            "tags": []
          },
          "execution_count": 66
        }
      ]
    },
    {
      "cell_type": "code",
      "metadata": {
        "id": "GO1R4_ptEnF2",
        "colab": {
          "base_uri": "https://localhost:8080/"
        },
        "outputId": "404bd4a8-1048-4fee-83ec-7c365b72470d"
      },
      "source": [
        "X_test.shape[0]"
      ],
      "execution_count": 67,
      "outputs": [
        {
          "output_type": "execute_result",
          "data": {
            "text/plain": [
              "8346"
            ]
          },
          "metadata": {
            "tags": []
          },
          "execution_count": 67
        }
      ]
    },
    {
      "cell_type": "code",
      "metadata": {
        "id": "qIz1uZwOJFX-"
      },
      "source": [
        "def evaluate(model, test_features, test_labels):\n",
        "    predictions = model.predict(test_features)\n",
        "    errors = abs(predictions - test_labels)\n",
        "    mape = 1 * np.mean(errors / test_labels)\n",
        "    accuracy = 1 - mape\n",
        "    print('Model Performance')\n",
        "    print('Average Error: {:0.4f} degrees.'.format(np.mean(errors)))\n",
        "    print('Accuracy = %f' %(accuracy))\n",
        "    \n",
        "    return accuracy"
      ],
      "execution_count": 68,
      "outputs": []
    },
    {
      "cell_type": "code",
      "metadata": {
        "id": "iz3nHHLCJFX-",
        "colab": {
          "base_uri": "https://localhost:8080/"
        },
        "outputId": "6916594d-6d29-4b31-c278-7ee77df72d79"
      },
      "source": [
        "t0= time.clock()\n",
        "RF_acc = evaluate(rf, X_test, y_test)\n",
        "test_RF = (time.clock() - t0)/X_test.shape[0]\n",
        "print(\"Time for a window : %e [s]\" %(test_RF))\n"
      ],
      "execution_count": 69,
      "outputs": [
        {
          "output_type": "stream",
          "text": [
            "Model Performance\n",
            "Average Error: 0.1561 degrees.\n",
            "Accuracy = 0.938147\n",
            "Time for a window : 9.675294e-06 [s]\n"
          ],
          "name": "stdout"
        }
      ]
    },
    {
      "cell_type": "code",
      "metadata": {
        "id": "TICwtl4WqDAH",
        "colab": {
          "base_uri": "https://localhost:8080/"
        },
        "outputId": "6633a088-8781-4e98-d36e-5565d58cd839"
      },
      "source": [
        "print(\"Window Size [ms]: %f \" % (Window_time))\n",
        "print(\"Stride [perc]: %f \" % (Perc))\n",
        "print(\"%s best accuracy: %f \" % (\"DTree\",Dtree_acc))\n",
        "print(\"%s best accuracy: %f \" % (\"LDA\",LDA_acc))\n",
        "print(\"%s best accuracy: %f \" % (\"SVM\",SVM_acc))\n",
        "print(\"%s best accuracy: %f \" % (\"KNN\",KNN_acc))\n",
        "print(\"%s best accuracy: %f \" % (\"RF\",RF_acc))"
      ],
      "execution_count": 70,
      "outputs": [
        {
          "output_type": "stream",
          "text": [
            "Window Size [ms]: 100.000000 \n",
            "Stride [perc]: 25.000000 \n",
            "DTree best accuracy: 0.960340 \n",
            "LDA best accuracy: 0.916607 \n",
            "SVM best accuracy: 0.976755 \n",
            "KNN best accuracy: 0.917685 \n",
            "RF best accuracy: 0.938147 \n"
          ],
          "name": "stdout"
        }
      ]
    },
    {
      "cell_type": "code",
      "metadata": {
        "id": "1yVqMZsq-A-P",
        "colab": {
          "base_uri": "https://localhost:8080/"
        },
        "outputId": "9174c006-4c29-4c98-fa6c-55c4aba08853"
      },
      "source": [
        "print(x.shape[2])"
      ],
      "execution_count": 71,
      "outputs": [
        {
          "output_type": "stream",
          "text": [
            "13023\n"
          ],
          "name": "stdout"
        }
      ]
    },
    {
      "cell_type": "code",
      "metadata": {
        "id": "h6nzqJj8D11N"
      },
      "source": [
        "time_DTREE=Window_time + (tfeature + test_DTREE)*1000\n",
        "time_LDA=Window_time + (tfeature +test_LDA)*1000\n",
        "time_SVM=Window_time + (tfeature +test_SVM)*1000\n",
        "time_KNN=Window_time + (tfeature +test_KNN)*1000\n",
        "time_RF=Window_time + (tfeature +test_RF)*1000"
      ],
      "execution_count": 72,
      "outputs": []
    },
    {
      "cell_type": "code",
      "metadata": {
        "id": "ujlrzFbPGiHR"
      },
      "source": [
        "parameters = [Window_time,Perc,Dtree_acc,LDA_acc,KNN_acc,SVM_acc,RF_acc,time_DTREE,time_LDA,time_SVM,time_KNN,time_RF];\n",
        "import csv\n",
        "with open('/content/drive/MyDrive/Colab Notebooks/NEURO_PROJECT/ACCURACY_TIME_DATA/CLASSICAL/parameters_CLASSICAL_day1.csv', mode='a') as parameter_file:\n",
        "  parameter_writer = csv.writer(parameter_file, delimiter=',', quotechar='\"', quoting=csv.QUOTE_MINIMAL)\n",
        "  parameter_writer.writerow(parameters)"
      ],
      "execution_count": 73,
      "outputs": []
    }
  ]
}